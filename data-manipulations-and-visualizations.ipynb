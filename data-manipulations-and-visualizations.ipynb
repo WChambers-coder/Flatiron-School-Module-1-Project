{
 "cells": [
  {
   "cell_type": "markdown",
   "metadata": {},
   "source": [
    "# Exploring Movie Data for Microsoft\n",
    "\n",
    "Microsoft wants to get into the movie-making industry, so in this project I use data from a variety of movie databases to find trends and make observations towards making their endeavor (1) a financial success and (2) an opportunity to advertise the brand to an international audience. My approach to this project, and the general outline of this Notebook, is this process, generally:\n",
    "1. Get a feel for what data are available to me\n",
    "2. Find a central metric around which to direct my analysis; for this project I chose **net profit**.\n",
    "3. Look for features that distinguish high net profit films from the rest. I found that the following were unique to high net profit films:\n",
    " - Specific directors (Steven Spielberg, Ridley Scott, Christopher Nolan, Joe Russo, et. al.)\n",
    " - Large number of foreign titles \n",
    " - Action, adventure, and animation have highest chance of producing high net profit films.\n",
    " - Keywords: 3D, IMAX, Good vs Evil, Superhero, Superpower\n",
    " \n",
    "Often, my process was one of looking at trends for high net profit films, trends for low net profit films, and zeroing in on features where the two groups were quite different, the goal being to produce a set of insights/goals towards which Microsoft could aim, features that are common for films that turn a high net profit. I used data from a variety of sources: IMDB, Kaggle, TMDB, and TN. All tables are labeled with the source of data. \n",
    "\n",
    "This project was completed as a Module Project for The Flatiron School."
   ]
  },
  {
   "cell_type": "code",
   "execution_count": 1,
   "metadata": {},
   "outputs": [
    {
     "data": {
      "text/html": [
       "        <script type=\"text/javascript\">\n",
       "        window.PlotlyConfig = {MathJaxConfig: 'local'};\n",
       "        if (window.MathJax) {MathJax.Hub.Config({SVG: {font: \"STIX-Web\"}});}\n",
       "        if (typeof require !== 'undefined') {\n",
       "        require.undef(\"plotly\");\n",
       "        requirejs.config({\n",
       "            paths: {\n",
       "                'plotly': ['https://cdn.plot.ly/plotly-latest.min']\n",
       "            }\n",
       "        });\n",
       "        require(['plotly'], function(Plotly) {\n",
       "            window._Plotly = Plotly;\n",
       "        });\n",
       "        }\n",
       "        </script>\n",
       "        "
      ]
     },
     "metadata": {},
     "output_type": "display_data"
    },
    {
     "data": {
      "text/html": [
       "        <script type=\"text/javascript\">\n",
       "        window.PlotlyConfig = {MathJaxConfig: 'local'};\n",
       "        if (window.MathJax) {MathJax.Hub.Config({SVG: {font: \"STIX-Web\"}});}\n",
       "        if (typeof require !== 'undefined') {\n",
       "        require.undef(\"plotly\");\n",
       "        requirejs.config({\n",
       "            paths: {\n",
       "                'plotly': ['https://cdn.plot.ly/plotly-latest.min']\n",
       "            }\n",
       "        });\n",
       "        require(['plotly'], function(Plotly) {\n",
       "            window._Plotly = Plotly;\n",
       "        });\n",
       "        }\n",
       "        </script>\n",
       "        "
      ]
     },
     "metadata": {},
     "output_type": "display_data"
    }
   ],
   "source": [
    "# All the imports needed for this notebook were collected and moved to the top. \n",
    "import pandas as pd\n",
    "import matplotlib.pyplot as plt\n",
    "import requests\n",
    "import json\n",
    "import re\n",
    "import plotly.graph_objs as go\n",
    "from plotly.offline import iplot, init_notebook_mode\n",
    "import cufflinks\n",
    "cufflinks.go_offline(connected=True)\n",
    "init_notebook_mode(connected=True)\n",
    "%matplotlib inline\n",
    "\n",
    "plt.style.use(['fivethirtyeight'])"
   ]
  },
  {
   "cell_type": "code",
   "execution_count": 2,
   "metadata": {},
   "outputs": [],
   "source": [
    "# All the data provided by Flatiron School is saved into Pandas DataFrames in this block, \n",
    "# grouped by source (imdb, tmdb, etc.). Some of the files are commented out because I decided\n",
    "# early on that I wasn't interested in their contents, or I got an error attempting to read.\n",
    "\n",
    "# IMDB stuff here.\n",
    "imdb_names = pd.read_csv('Data/flatiron_data/imdb.name.basics.csv.gz')\n",
    "imdb_title_akas = pd.read_csv('Data/flatiron_data/imdb.title.akas.csv.gz')\n",
    "imdb_title_basics = pd.read_csv('Data/flatiron_data/imdb.title.basics.csv.gz')\n",
    "imdb_title_crew = pd.read_csv('Data/flatiron_data/imdb.title.crew.csv.gz')\n",
    "imdb_title_ratings = pd.read_csv('Data/flatiron_data/imdb.title.ratings.csv.gz')\n",
    "\n",
    "# TMDB stuff here.\n",
    "tmdb = pd.read_csv('Data/flatiron_data/tmdb.movies.csv.gz')\n",
    "\n",
    "# I'm not sure which database/site 'TN' is.\n",
    "tn_budgets = pd.read_csv('Data/flatiron_data/tn.movie_budgets.csv.gz')"
   ]
  },
  {
   "cell_type": "markdown",
   "metadata": {},
   "source": [
    "## Exploring Tables\n",
    "I start by looking at the format and info for some of the most important tables to get a feel for missing data, data types, and which tables I can join."
   ]
  },
  {
   "cell_type": "code",
   "execution_count": 3,
   "metadata": {},
   "outputs": [
    {
     "name": "stdout",
     "output_type": "stream",
     "text": [
      "<class 'pandas.core.frame.DataFrame'>\n",
      "RangeIndex: 606648 entries, 0 to 606647\n",
      "Data columns (total 6 columns):\n",
      " #   Column              Non-Null Count   Dtype  \n",
      "---  ------              --------------   -----  \n",
      " 0   nconst              606648 non-null  object \n",
      " 1   primary_name        606648 non-null  object \n",
      " 2   birth_year          82736 non-null   float64\n",
      " 3   death_year          6783 non-null    float64\n",
      " 4   primary_profession  555308 non-null  object \n",
      " 5   known_for_titles    576444 non-null  object \n",
      "dtypes: float64(2), object(4)\n",
      "memory usage: 27.8+ MB\n"
     ]
    },
    {
     "data": {
      "text/plain": [
       "None"
      ]
     },
     "metadata": {},
     "output_type": "display_data"
    },
    {
     "data": {
      "text/html": [
       "<div>\n",
       "<style scoped>\n",
       "    .dataframe tbody tr th:only-of-type {\n",
       "        vertical-align: middle;\n",
       "    }\n",
       "\n",
       "    .dataframe tbody tr th {\n",
       "        vertical-align: top;\n",
       "    }\n",
       "\n",
       "    .dataframe thead th {\n",
       "        text-align: right;\n",
       "    }\n",
       "</style>\n",
       "<table border=\"1\" class=\"dataframe\">\n",
       "  <thead>\n",
       "    <tr style=\"text-align: right;\">\n",
       "      <th></th>\n",
       "      <th>nconst</th>\n",
       "      <th>primary_name</th>\n",
       "      <th>birth_year</th>\n",
       "      <th>death_year</th>\n",
       "      <th>primary_profession</th>\n",
       "      <th>known_for_titles</th>\n",
       "    </tr>\n",
       "  </thead>\n",
       "  <tbody>\n",
       "    <tr>\n",
       "      <th>0</th>\n",
       "      <td>nm0061671</td>\n",
       "      <td>Mary Ellen Bauder</td>\n",
       "      <td>NaN</td>\n",
       "      <td>NaN</td>\n",
       "      <td>miscellaneous,production_manager,producer</td>\n",
       "      <td>tt0837562,tt2398241,tt0844471,tt0118553</td>\n",
       "    </tr>\n",
       "    <tr>\n",
       "      <th>1</th>\n",
       "      <td>nm0061865</td>\n",
       "      <td>Joseph Bauer</td>\n",
       "      <td>NaN</td>\n",
       "      <td>NaN</td>\n",
       "      <td>composer,music_department,sound_department</td>\n",
       "      <td>tt0896534,tt6791238,tt0287072,tt1682940</td>\n",
       "    </tr>\n",
       "    <tr>\n",
       "      <th>2</th>\n",
       "      <td>nm0062070</td>\n",
       "      <td>Bruce Baum</td>\n",
       "      <td>NaN</td>\n",
       "      <td>NaN</td>\n",
       "      <td>miscellaneous,actor,writer</td>\n",
       "      <td>tt1470654,tt0363631,tt0104030,tt0102898</td>\n",
       "    </tr>\n",
       "    <tr>\n",
       "      <th>3</th>\n",
       "      <td>nm0062195</td>\n",
       "      <td>Axel Baumann</td>\n",
       "      <td>NaN</td>\n",
       "      <td>NaN</td>\n",
       "      <td>camera_department,cinematographer,art_department</td>\n",
       "      <td>tt0114371,tt2004304,tt1618448,tt1224387</td>\n",
       "    </tr>\n",
       "    <tr>\n",
       "      <th>4</th>\n",
       "      <td>nm0062798</td>\n",
       "      <td>Pete Baxter</td>\n",
       "      <td>NaN</td>\n",
       "      <td>NaN</td>\n",
       "      <td>production_designer,art_department,set_decorator</td>\n",
       "      <td>tt0452644,tt0452692,tt3458030,tt2178256</td>\n",
       "    </tr>\n",
       "  </tbody>\n",
       "</table>\n",
       "</div>"
      ],
      "text/plain": [
       "      nconst       primary_name  birth_year  death_year  \\\n",
       "0  nm0061671  Mary Ellen Bauder         NaN         NaN   \n",
       "1  nm0061865       Joseph Bauer         NaN         NaN   \n",
       "2  nm0062070         Bruce Baum         NaN         NaN   \n",
       "3  nm0062195       Axel Baumann         NaN         NaN   \n",
       "4  nm0062798        Pete Baxter         NaN         NaN   \n",
       "\n",
       "                                 primary_profession  \\\n",
       "0         miscellaneous,production_manager,producer   \n",
       "1        composer,music_department,sound_department   \n",
       "2                        miscellaneous,actor,writer   \n",
       "3  camera_department,cinematographer,art_department   \n",
       "4  production_designer,art_department,set_decorator   \n",
       "\n",
       "                          known_for_titles  \n",
       "0  tt0837562,tt2398241,tt0844471,tt0118553  \n",
       "1  tt0896534,tt6791238,tt0287072,tt1682940  \n",
       "2  tt1470654,tt0363631,tt0104030,tt0102898  \n",
       "3  tt0114371,tt2004304,tt1618448,tt1224387  \n",
       "4  tt0452644,tt0452692,tt3458030,tt2178256  "
      ]
     },
     "metadata": {},
     "output_type": "display_data"
    }
   ],
   "source": [
    "display(imdb_names.info())\n",
    "display(imdb_names.head())"
   ]
  },
  {
   "cell_type": "code",
   "execution_count": 4,
   "metadata": {
    "scrolled": false
   },
   "outputs": [
    {
     "name": "stdout",
     "output_type": "stream",
     "text": [
      "<class 'pandas.core.frame.DataFrame'>\n",
      "RangeIndex: 146144 entries, 0 to 146143\n",
      "Data columns (total 6 columns):\n",
      " #   Column           Non-Null Count   Dtype  \n",
      "---  ------           --------------   -----  \n",
      " 0   tconst           146144 non-null  object \n",
      " 1   primary_title    146144 non-null  object \n",
      " 2   original_title   146123 non-null  object \n",
      " 3   start_year       146144 non-null  int64  \n",
      " 4   runtime_minutes  114405 non-null  float64\n",
      " 5   genres           140736 non-null  object \n",
      "dtypes: float64(1), int64(1), object(4)\n",
      "memory usage: 6.7+ MB\n"
     ]
    },
    {
     "data": {
      "text/plain": [
       "None"
      ]
     },
     "metadata": {},
     "output_type": "display_data"
    },
    {
     "data": {
      "text/html": [
       "<div>\n",
       "<style scoped>\n",
       "    .dataframe tbody tr th:only-of-type {\n",
       "        vertical-align: middle;\n",
       "    }\n",
       "\n",
       "    .dataframe tbody tr th {\n",
       "        vertical-align: top;\n",
       "    }\n",
       "\n",
       "    .dataframe thead th {\n",
       "        text-align: right;\n",
       "    }\n",
       "</style>\n",
       "<table border=\"1\" class=\"dataframe\">\n",
       "  <thead>\n",
       "    <tr style=\"text-align: right;\">\n",
       "      <th></th>\n",
       "      <th>tconst</th>\n",
       "      <th>primary_title</th>\n",
       "      <th>original_title</th>\n",
       "      <th>start_year</th>\n",
       "      <th>runtime_minutes</th>\n",
       "      <th>genres</th>\n",
       "    </tr>\n",
       "  </thead>\n",
       "  <tbody>\n",
       "    <tr>\n",
       "      <th>0</th>\n",
       "      <td>tt0063540</td>\n",
       "      <td>Sunghursh</td>\n",
       "      <td>Sunghursh</td>\n",
       "      <td>2013</td>\n",
       "      <td>175.0</td>\n",
       "      <td>Action,Crime,Drama</td>\n",
       "    </tr>\n",
       "    <tr>\n",
       "      <th>1</th>\n",
       "      <td>tt0066787</td>\n",
       "      <td>One Day Before the Rainy Season</td>\n",
       "      <td>Ashad Ka Ek Din</td>\n",
       "      <td>2019</td>\n",
       "      <td>114.0</td>\n",
       "      <td>Biography,Drama</td>\n",
       "    </tr>\n",
       "    <tr>\n",
       "      <th>2</th>\n",
       "      <td>tt0069049</td>\n",
       "      <td>The Other Side of the Wind</td>\n",
       "      <td>The Other Side of the Wind</td>\n",
       "      <td>2018</td>\n",
       "      <td>122.0</td>\n",
       "      <td>Drama</td>\n",
       "    </tr>\n",
       "    <tr>\n",
       "      <th>3</th>\n",
       "      <td>tt0069204</td>\n",
       "      <td>Sabse Bada Sukh</td>\n",
       "      <td>Sabse Bada Sukh</td>\n",
       "      <td>2018</td>\n",
       "      <td>NaN</td>\n",
       "      <td>Comedy,Drama</td>\n",
       "    </tr>\n",
       "    <tr>\n",
       "      <th>4</th>\n",
       "      <td>tt0100275</td>\n",
       "      <td>The Wandering Soap Opera</td>\n",
       "      <td>La Telenovela Errante</td>\n",
       "      <td>2017</td>\n",
       "      <td>80.0</td>\n",
       "      <td>Comedy,Drama,Fantasy</td>\n",
       "    </tr>\n",
       "  </tbody>\n",
       "</table>\n",
       "</div>"
      ],
      "text/plain": [
       "      tconst                    primary_title              original_title  \\\n",
       "0  tt0063540                        Sunghursh                   Sunghursh   \n",
       "1  tt0066787  One Day Before the Rainy Season             Ashad Ka Ek Din   \n",
       "2  tt0069049       The Other Side of the Wind  The Other Side of the Wind   \n",
       "3  tt0069204                  Sabse Bada Sukh             Sabse Bada Sukh   \n",
       "4  tt0100275         The Wandering Soap Opera       La Telenovela Errante   \n",
       "\n",
       "   start_year  runtime_minutes                genres  \n",
       "0        2013            175.0    Action,Crime,Drama  \n",
       "1        2019            114.0       Biography,Drama  \n",
       "2        2018            122.0                 Drama  \n",
       "3        2018              NaN          Comedy,Drama  \n",
       "4        2017             80.0  Comedy,Drama,Fantasy  "
      ]
     },
     "metadata": {},
     "output_type": "display_data"
    }
   ],
   "source": [
    "display(imdb_title_basics.info())\n",
    "display(imdb_title_basics.head())"
   ]
  },
  {
   "cell_type": "code",
   "execution_count": 5,
   "metadata": {},
   "outputs": [
    {
     "name": "stdout",
     "output_type": "stream",
     "text": [
      "<class 'pandas.core.frame.DataFrame'>\n",
      "RangeIndex: 331703 entries, 0 to 331702\n",
      "Data columns (total 8 columns):\n",
      " #   Column             Non-Null Count   Dtype  \n",
      "---  ------             --------------   -----  \n",
      " 0   title_id           331703 non-null  object \n",
      " 1   ordering           331703 non-null  int64  \n",
      " 2   title              331703 non-null  object \n",
      " 3   region             278410 non-null  object \n",
      " 4   language           41715 non-null   object \n",
      " 5   types              168447 non-null  object \n",
      " 6   attributes         14925 non-null   object \n",
      " 7   is_original_title  331678 non-null  float64\n",
      "dtypes: float64(1), int64(1), object(6)\n",
      "memory usage: 20.2+ MB\n"
     ]
    },
    {
     "data": {
      "text/plain": [
       "None"
      ]
     },
     "metadata": {},
     "output_type": "display_data"
    },
    {
     "data": {
      "text/html": [
       "<div>\n",
       "<style scoped>\n",
       "    .dataframe tbody tr th:only-of-type {\n",
       "        vertical-align: middle;\n",
       "    }\n",
       "\n",
       "    .dataframe tbody tr th {\n",
       "        vertical-align: top;\n",
       "    }\n",
       "\n",
       "    .dataframe thead th {\n",
       "        text-align: right;\n",
       "    }\n",
       "</style>\n",
       "<table border=\"1\" class=\"dataframe\">\n",
       "  <thead>\n",
       "    <tr style=\"text-align: right;\">\n",
       "      <th></th>\n",
       "      <th>title_id</th>\n",
       "      <th>ordering</th>\n",
       "      <th>title</th>\n",
       "      <th>region</th>\n",
       "      <th>language</th>\n",
       "      <th>types</th>\n",
       "      <th>attributes</th>\n",
       "      <th>is_original_title</th>\n",
       "    </tr>\n",
       "  </thead>\n",
       "  <tbody>\n",
       "    <tr>\n",
       "      <th>0</th>\n",
       "      <td>tt0369610</td>\n",
       "      <td>10</td>\n",
       "      <td>Джурасик свят</td>\n",
       "      <td>BG</td>\n",
       "      <td>bg</td>\n",
       "      <td>NaN</td>\n",
       "      <td>NaN</td>\n",
       "      <td>0.0</td>\n",
       "    </tr>\n",
       "    <tr>\n",
       "      <th>1</th>\n",
       "      <td>tt0369610</td>\n",
       "      <td>11</td>\n",
       "      <td>Jurashikku warudo</td>\n",
       "      <td>JP</td>\n",
       "      <td>NaN</td>\n",
       "      <td>imdbDisplay</td>\n",
       "      <td>NaN</td>\n",
       "      <td>0.0</td>\n",
       "    </tr>\n",
       "    <tr>\n",
       "      <th>2</th>\n",
       "      <td>tt0369610</td>\n",
       "      <td>12</td>\n",
       "      <td>Jurassic World: O Mundo dos Dinossauros</td>\n",
       "      <td>BR</td>\n",
       "      <td>NaN</td>\n",
       "      <td>imdbDisplay</td>\n",
       "      <td>NaN</td>\n",
       "      <td>0.0</td>\n",
       "    </tr>\n",
       "    <tr>\n",
       "      <th>3</th>\n",
       "      <td>tt0369610</td>\n",
       "      <td>13</td>\n",
       "      <td>O Mundo dos Dinossauros</td>\n",
       "      <td>BR</td>\n",
       "      <td>NaN</td>\n",
       "      <td>NaN</td>\n",
       "      <td>short title</td>\n",
       "      <td>0.0</td>\n",
       "    </tr>\n",
       "    <tr>\n",
       "      <th>4</th>\n",
       "      <td>tt0369610</td>\n",
       "      <td>14</td>\n",
       "      <td>Jurassic World</td>\n",
       "      <td>FR</td>\n",
       "      <td>NaN</td>\n",
       "      <td>imdbDisplay</td>\n",
       "      <td>NaN</td>\n",
       "      <td>0.0</td>\n",
       "    </tr>\n",
       "  </tbody>\n",
       "</table>\n",
       "</div>"
      ],
      "text/plain": [
       "    title_id  ordering                                    title region  \\\n",
       "0  tt0369610        10                            Джурасик свят     BG   \n",
       "1  tt0369610        11                        Jurashikku warudo     JP   \n",
       "2  tt0369610        12  Jurassic World: O Mundo dos Dinossauros     BR   \n",
       "3  tt0369610        13                  O Mundo dos Dinossauros     BR   \n",
       "4  tt0369610        14                           Jurassic World     FR   \n",
       "\n",
       "  language        types   attributes  is_original_title  \n",
       "0       bg          NaN          NaN                0.0  \n",
       "1      NaN  imdbDisplay          NaN                0.0  \n",
       "2      NaN  imdbDisplay          NaN                0.0  \n",
       "3      NaN          NaN  short title                0.0  \n",
       "4      NaN  imdbDisplay          NaN                0.0  "
      ]
     },
     "metadata": {},
     "output_type": "display_data"
    }
   ],
   "source": [
    "display(imdb_title_akas.info())\n",
    "display(imdb_title_akas.head())"
   ]
  },
  {
   "cell_type": "markdown",
   "metadata": {},
   "source": [
    "Microsoft is an international company, so international marketing is important to the busuiness. It might be interesting to explore the number of foreign titles a movie produces as a measure of success. From this table, I'm only interested in the number of foreign titles associated with each movie, so I create a new table **imdb_foreign_titles**, keeping the IMDB-specific **title_id** and creating a new feature, the count of foreign titles, **foriegn_titles**."
   ]
  },
  {
   "cell_type": "code",
   "execution_count": 6,
   "metadata": {
    "scrolled": true
   },
   "outputs": [
    {
     "name": "stderr",
     "output_type": "stream",
     "text": [
      "<ipython-input-6-6e66f21a6fdc>:3: FutureWarning:\n",
      "\n",
      "Indexing with multiple keys (implicitly converted to a tuple of keys) will be deprecated, use a list instead.\n",
      "\n"
     ]
    },
    {
     "data": {
      "text/html": [
       "<div>\n",
       "<style scoped>\n",
       "    .dataframe tbody tr th:only-of-type {\n",
       "        vertical-align: middle;\n",
       "    }\n",
       "\n",
       "    .dataframe tbody tr th {\n",
       "        vertical-align: top;\n",
       "    }\n",
       "\n",
       "    .dataframe thead th {\n",
       "        text-align: right;\n",
       "    }\n",
       "</style>\n",
       "<table border=\"1\" class=\"dataframe\">\n",
       "  <thead>\n",
       "    <tr style=\"text-align: right;\">\n",
       "      <th></th>\n",
       "      <th>title_id</th>\n",
       "      <th>foreign_titles</th>\n",
       "    </tr>\n",
       "    <tr>\n",
       "      <th>title_id</th>\n",
       "      <th></th>\n",
       "      <th></th>\n",
       "    </tr>\n",
       "  </thead>\n",
       "  <tbody>\n",
       "    <tr>\n",
       "      <th>tt0063540</th>\n",
       "      <td>5</td>\n",
       "      <td>5</td>\n",
       "    </tr>\n",
       "    <tr>\n",
       "      <th>tt0066787</th>\n",
       "      <td>4</td>\n",
       "      <td>4</td>\n",
       "    </tr>\n",
       "    <tr>\n",
       "      <th>tt0069049</th>\n",
       "      <td>13</td>\n",
       "      <td>13</td>\n",
       "    </tr>\n",
       "    <tr>\n",
       "      <th>tt0069204</th>\n",
       "      <td>3</td>\n",
       "      <td>3</td>\n",
       "    </tr>\n",
       "    <tr>\n",
       "      <th>tt0100275</th>\n",
       "      <td>5</td>\n",
       "      <td>5</td>\n",
       "    </tr>\n",
       "  </tbody>\n",
       "</table>\n",
       "</div>"
      ],
      "text/plain": [
       "           title_id  foreign_titles\n",
       "title_id                           \n",
       "tt0063540         5               5\n",
       "tt0066787         4               4\n",
       "tt0069049        13              13\n",
       "tt0069204         3               3\n",
       "tt0100275         5               5"
      ]
     },
     "execution_count": 6,
     "metadata": {},
     "output_type": "execute_result"
    }
   ],
   "source": [
    "# Get a count of foriegn titles for each film and include that number\n",
    "# in a new, aggregated version of imdb_foreign_titles as \"foreign_titles\"\n",
    "imdb_foreign_titles = imdb_title_akas.groupby(['title_id'])['title_id', 'title'].count()\n",
    "imdb_foreign_titles.rename(columns={'title':'foreign_titles'}, inplace=True)\n",
    "imdb_foreign_titles.head()"
   ]
  },
  {
   "cell_type": "code",
   "execution_count": 7,
   "metadata": {
    "scrolled": false
   },
   "outputs": [
    {
     "name": "stdout",
     "output_type": "stream",
     "text": [
      "<class 'pandas.core.frame.DataFrame'>\n",
      "RangeIndex: 146144 entries, 0 to 146143\n",
      "Data columns (total 3 columns):\n",
      " #   Column     Non-Null Count   Dtype \n",
      "---  ------     --------------   ----- \n",
      " 0   tconst     146144 non-null  object\n",
      " 1   directors  140417 non-null  object\n",
      " 2   writers    110261 non-null  object\n",
      "dtypes: object(3)\n",
      "memory usage: 3.3+ MB\n"
     ]
    },
    {
     "data": {
      "text/plain": [
       "None"
      ]
     },
     "metadata": {},
     "output_type": "display_data"
    },
    {
     "data": {
      "text/html": [
       "<div>\n",
       "<style scoped>\n",
       "    .dataframe tbody tr th:only-of-type {\n",
       "        vertical-align: middle;\n",
       "    }\n",
       "\n",
       "    .dataframe tbody tr th {\n",
       "        vertical-align: top;\n",
       "    }\n",
       "\n",
       "    .dataframe thead th {\n",
       "        text-align: right;\n",
       "    }\n",
       "</style>\n",
       "<table border=\"1\" class=\"dataframe\">\n",
       "  <thead>\n",
       "    <tr style=\"text-align: right;\">\n",
       "      <th></th>\n",
       "      <th>tconst</th>\n",
       "      <th>directors</th>\n",
       "      <th>writers</th>\n",
       "    </tr>\n",
       "  </thead>\n",
       "  <tbody>\n",
       "    <tr>\n",
       "      <th>0</th>\n",
       "      <td>tt0285252</td>\n",
       "      <td>nm0899854</td>\n",
       "      <td>nm0899854</td>\n",
       "    </tr>\n",
       "    <tr>\n",
       "      <th>1</th>\n",
       "      <td>tt0438973</td>\n",
       "      <td>NaN</td>\n",
       "      <td>nm0175726,nm1802864</td>\n",
       "    </tr>\n",
       "    <tr>\n",
       "      <th>2</th>\n",
       "      <td>tt0462036</td>\n",
       "      <td>nm1940585</td>\n",
       "      <td>nm1940585</td>\n",
       "    </tr>\n",
       "    <tr>\n",
       "      <th>3</th>\n",
       "      <td>tt0835418</td>\n",
       "      <td>nm0151540</td>\n",
       "      <td>nm0310087,nm0841532</td>\n",
       "    </tr>\n",
       "    <tr>\n",
       "      <th>4</th>\n",
       "      <td>tt0878654</td>\n",
       "      <td>nm0089502,nm2291498,nm2292011</td>\n",
       "      <td>nm0284943</td>\n",
       "    </tr>\n",
       "  </tbody>\n",
       "</table>\n",
       "</div>"
      ],
      "text/plain": [
       "      tconst                      directors              writers\n",
       "0  tt0285252                      nm0899854            nm0899854\n",
       "1  tt0438973                            NaN  nm0175726,nm1802864\n",
       "2  tt0462036                      nm1940585            nm1940585\n",
       "3  tt0835418                      nm0151540  nm0310087,nm0841532\n",
       "4  tt0878654  nm0089502,nm2291498,nm2292011            nm0284943"
      ]
     },
     "metadata": {},
     "output_type": "display_data"
    }
   ],
   "source": [
    "display(imdb_title_crew.info())\n",
    "display(imdb_title_crew.head())"
   ]
  },
  {
   "cell_type": "code",
   "execution_count": 8,
   "metadata": {},
   "outputs": [
    {
     "name": "stdout",
     "output_type": "stream",
     "text": [
      "<class 'pandas.core.frame.DataFrame'>\n",
      "RangeIndex: 73856 entries, 0 to 73855\n",
      "Data columns (total 3 columns):\n",
      " #   Column         Non-Null Count  Dtype  \n",
      "---  ------         --------------  -----  \n",
      " 0   tconst         73856 non-null  object \n",
      " 1   averagerating  73856 non-null  float64\n",
      " 2   numvotes       73856 non-null  int64  \n",
      "dtypes: float64(1), int64(1), object(1)\n",
      "memory usage: 1.7+ MB\n"
     ]
    },
    {
     "data": {
      "text/plain": [
       "None"
      ]
     },
     "metadata": {},
     "output_type": "display_data"
    },
    {
     "data": {
      "text/html": [
       "<div>\n",
       "<style scoped>\n",
       "    .dataframe tbody tr th:only-of-type {\n",
       "        vertical-align: middle;\n",
       "    }\n",
       "\n",
       "    .dataframe tbody tr th {\n",
       "        vertical-align: top;\n",
       "    }\n",
       "\n",
       "    .dataframe thead th {\n",
       "        text-align: right;\n",
       "    }\n",
       "</style>\n",
       "<table border=\"1\" class=\"dataframe\">\n",
       "  <thead>\n",
       "    <tr style=\"text-align: right;\">\n",
       "      <th></th>\n",
       "      <th>tconst</th>\n",
       "      <th>averagerating</th>\n",
       "      <th>numvotes</th>\n",
       "    </tr>\n",
       "  </thead>\n",
       "  <tbody>\n",
       "    <tr>\n",
       "      <th>0</th>\n",
       "      <td>tt10356526</td>\n",
       "      <td>8.3</td>\n",
       "      <td>31</td>\n",
       "    </tr>\n",
       "    <tr>\n",
       "      <th>1</th>\n",
       "      <td>tt10384606</td>\n",
       "      <td>8.9</td>\n",
       "      <td>559</td>\n",
       "    </tr>\n",
       "    <tr>\n",
       "      <th>2</th>\n",
       "      <td>tt1042974</td>\n",
       "      <td>6.4</td>\n",
       "      <td>20</td>\n",
       "    </tr>\n",
       "    <tr>\n",
       "      <th>3</th>\n",
       "      <td>tt1043726</td>\n",
       "      <td>4.2</td>\n",
       "      <td>50352</td>\n",
       "    </tr>\n",
       "    <tr>\n",
       "      <th>4</th>\n",
       "      <td>tt1060240</td>\n",
       "      <td>6.5</td>\n",
       "      <td>21</td>\n",
       "    </tr>\n",
       "  </tbody>\n",
       "</table>\n",
       "</div>"
      ],
      "text/plain": [
       "       tconst  averagerating  numvotes\n",
       "0  tt10356526            8.3        31\n",
       "1  tt10384606            8.9       559\n",
       "2   tt1042974            6.4        20\n",
       "3   tt1043726            4.2     50352\n",
       "4   tt1060240            6.5        21"
      ]
     },
     "metadata": {},
     "output_type": "display_data"
    }
   ],
   "source": [
    "display(imdb_title_ratings.info())\n",
    "display(imdb_title_ratings.head())"
   ]
  },
  {
   "cell_type": "markdown",
   "metadata": {},
   "source": [
    "I can tell now that imdb_title_basics is going to be my central table for joining the IMDB data. It has the movie's main title and IMDB ID that connects to other tables.\n",
    "<br/>\n",
    "\n",
    "Next I start inspecting the tn_budgets table. I'm particulary interested in this table, as a movie's financial success will be of particulr interest to microsoft."
   ]
  },
  {
   "cell_type": "code",
   "execution_count": 9,
   "metadata": {
    "scrolled": false
   },
   "outputs": [
    {
     "name": "stdout",
     "output_type": "stream",
     "text": [
      "<class 'pandas.core.frame.DataFrame'>\n",
      "RangeIndex: 5782 entries, 0 to 5781\n",
      "Data columns (total 6 columns):\n",
      " #   Column             Non-Null Count  Dtype \n",
      "---  ------             --------------  ----- \n",
      " 0   id                 5782 non-null   int64 \n",
      " 1   release_date       5782 non-null   object\n",
      " 2   movie              5782 non-null   object\n",
      " 3   production_budget  5782 non-null   object\n",
      " 4   domestic_gross     5782 non-null   object\n",
      " 5   worldwide_gross    5782 non-null   object\n",
      "dtypes: int64(1), object(5)\n",
      "memory usage: 271.2+ KB\n"
     ]
    },
    {
     "data": {
      "text/plain": [
       "None"
      ]
     },
     "metadata": {},
     "output_type": "display_data"
    },
    {
     "data": {
      "text/html": [
       "<div>\n",
       "<style scoped>\n",
       "    .dataframe tbody tr th:only-of-type {\n",
       "        vertical-align: middle;\n",
       "    }\n",
       "\n",
       "    .dataframe tbody tr th {\n",
       "        vertical-align: top;\n",
       "    }\n",
       "\n",
       "    .dataframe thead th {\n",
       "        text-align: right;\n",
       "    }\n",
       "</style>\n",
       "<table border=\"1\" class=\"dataframe\">\n",
       "  <thead>\n",
       "    <tr style=\"text-align: right;\">\n",
       "      <th></th>\n",
       "      <th>id</th>\n",
       "      <th>release_date</th>\n",
       "      <th>movie</th>\n",
       "      <th>production_budget</th>\n",
       "      <th>domestic_gross</th>\n",
       "      <th>worldwide_gross</th>\n",
       "    </tr>\n",
       "  </thead>\n",
       "  <tbody>\n",
       "    <tr>\n",
       "      <th>0</th>\n",
       "      <td>1</td>\n",
       "      <td>Dec 18, 2009</td>\n",
       "      <td>Avatar</td>\n",
       "      <td>$425,000,000</td>\n",
       "      <td>$760,507,625</td>\n",
       "      <td>$2,776,345,279</td>\n",
       "    </tr>\n",
       "    <tr>\n",
       "      <th>1</th>\n",
       "      <td>2</td>\n",
       "      <td>May 20, 2011</td>\n",
       "      <td>Pirates of the Caribbean: On Stranger Tides</td>\n",
       "      <td>$410,600,000</td>\n",
       "      <td>$241,063,875</td>\n",
       "      <td>$1,045,663,875</td>\n",
       "    </tr>\n",
       "    <tr>\n",
       "      <th>2</th>\n",
       "      <td>3</td>\n",
       "      <td>Jun 7, 2019</td>\n",
       "      <td>Dark Phoenix</td>\n",
       "      <td>$350,000,000</td>\n",
       "      <td>$42,762,350</td>\n",
       "      <td>$149,762,350</td>\n",
       "    </tr>\n",
       "    <tr>\n",
       "      <th>3</th>\n",
       "      <td>4</td>\n",
       "      <td>May 1, 2015</td>\n",
       "      <td>Avengers: Age of Ultron</td>\n",
       "      <td>$330,600,000</td>\n",
       "      <td>$459,005,868</td>\n",
       "      <td>$1,403,013,963</td>\n",
       "    </tr>\n",
       "    <tr>\n",
       "      <th>4</th>\n",
       "      <td>5</td>\n",
       "      <td>Dec 15, 2017</td>\n",
       "      <td>Star Wars Ep. VIII: The Last Jedi</td>\n",
       "      <td>$317,000,000</td>\n",
       "      <td>$620,181,382</td>\n",
       "      <td>$1,316,721,747</td>\n",
       "    </tr>\n",
       "  </tbody>\n",
       "</table>\n",
       "</div>"
      ],
      "text/plain": [
       "   id  release_date                                        movie  \\\n",
       "0   1  Dec 18, 2009                                       Avatar   \n",
       "1   2  May 20, 2011  Pirates of the Caribbean: On Stranger Tides   \n",
       "2   3   Jun 7, 2019                                 Dark Phoenix   \n",
       "3   4   May 1, 2015                      Avengers: Age of Ultron   \n",
       "4   5  Dec 15, 2017            Star Wars Ep. VIII: The Last Jedi   \n",
       "\n",
       "  production_budget domestic_gross worldwide_gross  \n",
       "0      $425,000,000   $760,507,625  $2,776,345,279  \n",
       "1      $410,600,000   $241,063,875  $1,045,663,875  \n",
       "2      $350,000,000    $42,762,350    $149,762,350  \n",
       "3      $330,600,000   $459,005,868  $1,403,013,963  \n",
       "4      $317,000,000   $620,181,382  $1,316,721,747  "
      ]
     },
     "metadata": {},
     "output_type": "display_data"
    }
   ],
   "source": [
    "display(tn_budgets.info())\n",
    "display(tn_budgets.head())"
   ]
  },
  {
   "cell_type": "markdown",
   "metadata": {},
   "source": [
    "There are no null values in the data above, but the production_budget, domestic_gross, and worldwide_gross are typed as strings and include dollar signs and commas. I want to strip them of non-numerical characters and convert to type int for easier analysis. Also, to start measuring the monetary success of these films, I want to create two new features: **net profit** (gross profit minus expenses) and **return on investment (ROI)** (net profit expressed as a percentage of the investment)."
   ]
  },
  {
   "cell_type": "code",
   "execution_count": 10,
   "metadata": {},
   "outputs": [],
   "source": [
    "def dollarsign_out_of_string(my_string):\n",
    "    '''Removes the string-initial dollar sign symbol from a string. Returns a string.'''\n",
    "    return my_string[1:]\n",
    "\n",
    "def remove_commas_from_string(my_string):\n",
    "    '''Removes all commas from a string. Returns a string.'''\n",
    "    return my_string.replace(',', '')"
   ]
  },
  {
   "cell_type": "code",
   "execution_count": 11,
   "metadata": {
    "scrolled": true
   },
   "outputs": [
    {
     "data": {
      "text/html": [
       "<div>\n",
       "<style scoped>\n",
       "    .dataframe tbody tr th:only-of-type {\n",
       "        vertical-align: middle;\n",
       "    }\n",
       "\n",
       "    .dataframe tbody tr th {\n",
       "        vertical-align: top;\n",
       "    }\n",
       "\n",
       "    .dataframe thead th {\n",
       "        text-align: right;\n",
       "    }\n",
       "</style>\n",
       "<table border=\"1\" class=\"dataframe\">\n",
       "  <thead>\n",
       "    <tr style=\"text-align: right;\">\n",
       "      <th></th>\n",
       "      <th>id</th>\n",
       "      <th>release_date</th>\n",
       "      <th>movie</th>\n",
       "      <th>production_budget</th>\n",
       "      <th>domestic_gross</th>\n",
       "      <th>worldwide_gross</th>\n",
       "      <th>world_ROI</th>\n",
       "      <th>world_net_profit</th>\n",
       "    </tr>\n",
       "  </thead>\n",
       "  <tbody>\n",
       "    <tr>\n",
       "      <th>0</th>\n",
       "      <td>1</td>\n",
       "      <td>Dec 18, 2009</td>\n",
       "      <td>Avatar</td>\n",
       "      <td>425000000</td>\n",
       "      <td>760507625</td>\n",
       "      <td>2776345279</td>\n",
       "      <td>5.532577</td>\n",
       "      <td>2351345279</td>\n",
       "    </tr>\n",
       "    <tr>\n",
       "      <th>1</th>\n",
       "      <td>2</td>\n",
       "      <td>May 20, 2011</td>\n",
       "      <td>Pirates of the Caribbean: On Stranger Tides</td>\n",
       "      <td>410600000</td>\n",
       "      <td>241063875</td>\n",
       "      <td>1045663875</td>\n",
       "      <td>1.546673</td>\n",
       "      <td>635063875</td>\n",
       "    </tr>\n",
       "    <tr>\n",
       "      <th>2</th>\n",
       "      <td>3</td>\n",
       "      <td>Jun 7, 2019</td>\n",
       "      <td>Dark Phoenix</td>\n",
       "      <td>350000000</td>\n",
       "      <td>42762350</td>\n",
       "      <td>149762350</td>\n",
       "      <td>-0.572108</td>\n",
       "      <td>-200237650</td>\n",
       "    </tr>\n",
       "    <tr>\n",
       "      <th>3</th>\n",
       "      <td>4</td>\n",
       "      <td>May 1, 2015</td>\n",
       "      <td>Avengers: Age of Ultron</td>\n",
       "      <td>330600000</td>\n",
       "      <td>459005868</td>\n",
       "      <td>1403013963</td>\n",
       "      <td>3.243841</td>\n",
       "      <td>1072413963</td>\n",
       "    </tr>\n",
       "    <tr>\n",
       "      <th>4</th>\n",
       "      <td>5</td>\n",
       "      <td>Dec 15, 2017</td>\n",
       "      <td>Star Wars Ep. VIII: The Last Jedi</td>\n",
       "      <td>317000000</td>\n",
       "      <td>620181382</td>\n",
       "      <td>1316721747</td>\n",
       "      <td>3.153696</td>\n",
       "      <td>999721747</td>\n",
       "    </tr>\n",
       "  </tbody>\n",
       "</table>\n",
       "</div>"
      ],
      "text/plain": [
       "   id  release_date                                        movie  \\\n",
       "0   1  Dec 18, 2009                                       Avatar   \n",
       "1   2  May 20, 2011  Pirates of the Caribbean: On Stranger Tides   \n",
       "2   3   Jun 7, 2019                                 Dark Phoenix   \n",
       "3   4   May 1, 2015                      Avengers: Age of Ultron   \n",
       "4   5  Dec 15, 2017            Star Wars Ep. VIII: The Last Jedi   \n",
       "\n",
       "   production_budget  domestic_gross  worldwide_gross  world_ROI  \\\n",
       "0          425000000       760507625       2776345279   5.532577   \n",
       "1          410600000       241063875       1045663875   1.546673   \n",
       "2          350000000        42762350        149762350  -0.572108   \n",
       "3          330600000       459005868       1403013963   3.243841   \n",
       "4          317000000       620181382       1316721747   3.153696   \n",
       "\n",
       "   world_net_profit  \n",
       "0        2351345279  \n",
       "1         635063875  \n",
       "2        -200237650  \n",
       "3        1072413963  \n",
       "4         999721747  "
      ]
     },
     "execution_count": 11,
     "metadata": {},
     "output_type": "execute_result"
    }
   ],
   "source": [
    "# Remove the dollar sign from money-valued columns in tn_budgets toward the goal\n",
    "# of converting those columns' datatypes to 'int'.\n",
    "tn_budgets['production_budget'] = tn_budgets['production_budget'].apply(dollarsign_out_of_string)\n",
    "tn_budgets['domestic_gross'] = tn_budgets['domestic_gross'].apply(dollarsign_out_of_string)\n",
    "tn_budgets['worldwide_gross'] = tn_budgets['worldwide_gross'].apply(dollarsign_out_of_string)\n",
    "\n",
    "# Get rid of commas from strings too. After this, they're ready for datatype conversion.\n",
    "tn_budgets['production_budget'] = tn_budgets['production_budget'].apply(remove_commas_from_string)\n",
    "tn_budgets['domestic_gross'] = tn_budgets['domestic_gross'].apply(remove_commas_from_string)\n",
    "tn_budgets['worldwide_gross'] = tn_budgets['worldwide_gross'].apply(remove_commas_from_string)\n",
    "\n",
    "tn_budgets['production_budget'] = tn_budgets['production_budget'].astype('int')\n",
    "tn_budgets['domestic_gross'] = tn_budgets['domestic_gross'].astype('int')\n",
    "tn_budgets['worldwide_gross'] = tn_budgets['worldwide_gross'].astype('int')\n",
    "\n",
    "# Create two new features: world_ROI and world_net_profit, both of which are based \n",
    "# on worldwide gross. \n",
    "tn_budgets['world_ROI'] = ((tn_budgets['worldwide_gross'] - tn_budgets['production_budget']) \n",
    "                                     / tn_budgets['production_budget'])\n",
    "tn_budgets['world_net_profit'] = tn_budgets['worldwide_gross'] - tn_budgets['production_budget']\n",
    "\n",
    "tn_budgets.head()"
   ]
  },
  {
   "cell_type": "markdown",
   "metadata": {},
   "source": [
    "### A first question: ROI or net profit?\n",
    "I remove entries that lack domestic gross data--these rows won't be useful for determinging the monetary success of the films--and I start to explore the difference (if there is one) between films with high net profits vs those with high ROIs. **Are net profit and ROI nicely correlated, or are high netting films and high ROI films different groups? Which should be Microsoft's aim?**"
   ]
  },
  {
   "cell_type": "code",
   "execution_count": 12,
   "metadata": {
    "scrolled": false
   },
   "outputs": [
    {
     "data": {
      "text/plain": [
       "Text(0, 0.5, 'World Net Profit')"
      ]
     },
     "execution_count": 12,
     "metadata": {},
     "output_type": "execute_result"
    },
    {
     "data": {
      "image/png": "[encoded data removed]",
      "text/plain": [
       "<Figure size 936x576 with 1 Axes>"
      ]
     },
     "metadata": {},
     "output_type": "display_data"
    }
   ],
   "source": [
    "# Looking for placeholder values\n",
    "tn_budgets.worldwide_gross.value_counts()\n",
    "\n",
    "# Remove rows with placeholder values for domestic_gross\n",
    "tn_budgets = tn_budgets.loc[tn_budgets['domestic_gross'] != 0]\n",
    "\n",
    "ax = tn_budgets.plot.scatter(x='world_ROI', y='world_net_profit', \n",
    "                title='Net Profit vs ROI', figsize=(13,8))\n",
    "ax.set_xlabel('World ROI')\n",
    "ax.set_ylabel('World Net Profit')"
   ]
  },
  {
   "cell_type": "markdown",
   "metadata": {},
   "source": [
    "We can see that these two features aren't correlated. In fact, there appear to be two distinct groups in the data:\n",
    "1. high ROI (greater than ~100%), but relatively low net profits (less than ~250 million USD)\n",
    "2. low ROI (less than ~50%), but high net profits (greater than ~500 million USD)\n",
    "\n",
    "We need to investigate both groups a little more, but Microsoft will likely want to belong to the latter group (i.e., high net profit). Though films in that group had less impressive ROIs, they ultimately made a lot more money. I start by looking at the former group below."
   ]
  },
  {
   "cell_type": "code",
   "execution_count": 13,
   "metadata": {
    "scrolled": false
   },
   "outputs": [
    {
     "data": {
      "text/html": [
       "<div>\n",
       "<style scoped>\n",
       "    .dataframe tbody tr th:only-of-type {\n",
       "        vertical-align: middle;\n",
       "    }\n",
       "\n",
       "    .dataframe tbody tr th {\n",
       "        vertical-align: top;\n",
       "    }\n",
       "\n",
       "    .dataframe thead th {\n",
       "        text-align: right;\n",
       "    }\n",
       "</style>\n",
       "<table border=\"1\" class=\"dataframe\">\n",
       "  <thead>\n",
       "    <tr style=\"text-align: right;\">\n",
       "      <th></th>\n",
       "      <th>id</th>\n",
       "      <th>release_date</th>\n",
       "      <th>movie</th>\n",
       "      <th>production_budget</th>\n",
       "      <th>domestic_gross</th>\n",
       "      <th>worldwide_gross</th>\n",
       "      <th>world_ROI</th>\n",
       "      <th>world_net_profit</th>\n",
       "    </tr>\n",
       "  </thead>\n",
       "  <tbody>\n",
       "    <tr>\n",
       "      <th>5745</th>\n",
       "      <td>46</td>\n",
       "      <td>Jun 30, 1972</td>\n",
       "      <td>Deep Throat</td>\n",
       "      <td>25000</td>\n",
       "      <td>45000000</td>\n",
       "      <td>45000000</td>\n",
       "      <td>1799.000000</td>\n",
       "      <td>44975000</td>\n",
       "    </tr>\n",
       "    <tr>\n",
       "      <th>5613</th>\n",
       "      <td>14</td>\n",
       "      <td>Mar 21, 1980</td>\n",
       "      <td>Mad Max</td>\n",
       "      <td>200000</td>\n",
       "      <td>8750000</td>\n",
       "      <td>99750000</td>\n",
       "      <td>497.750000</td>\n",
       "      <td>99550000</td>\n",
       "    </tr>\n",
       "    <tr>\n",
       "      <th>5492</th>\n",
       "      <td>93</td>\n",
       "      <td>Sep 25, 2009</td>\n",
       "      <td>Paranormal Activity</td>\n",
       "      <td>450000</td>\n",
       "      <td>107918810</td>\n",
       "      <td>194183034</td>\n",
       "      <td>430.517853</td>\n",
       "      <td>193733034</td>\n",
       "    </tr>\n",
       "    <tr>\n",
       "      <th>5679</th>\n",
       "      <td>80</td>\n",
       "      <td>Jul 10, 2015</td>\n",
       "      <td>The Gallows</td>\n",
       "      <td>100000</td>\n",
       "      <td>22764410</td>\n",
       "      <td>41656474</td>\n",
       "      <td>415.564740</td>\n",
       "      <td>41556474</td>\n",
       "    </tr>\n",
       "    <tr>\n",
       "      <th>5406</th>\n",
       "      <td>7</td>\n",
       "      <td>Jul 14, 1999</td>\n",
       "      <td>The Blair Witch Project</td>\n",
       "      <td>600000</td>\n",
       "      <td>140539099</td>\n",
       "      <td>248300000</td>\n",
       "      <td>412.833333</td>\n",
       "      <td>247700000</td>\n",
       "    </tr>\n",
       "    <tr>\n",
       "      <th>5709</th>\n",
       "      <td>10</td>\n",
       "      <td>May 7, 2004</td>\n",
       "      <td>Super Size Me</td>\n",
       "      <td>65000</td>\n",
       "      <td>11529368</td>\n",
       "      <td>22233808</td>\n",
       "      <td>341.058585</td>\n",
       "      <td>22168808</td>\n",
       "    </tr>\n",
       "    <tr>\n",
       "      <th>5346</th>\n",
       "      <td>47</td>\n",
       "      <td>Aug 13, 1942</td>\n",
       "      <td>Bambi</td>\n",
       "      <td>858000</td>\n",
       "      <td>102797000</td>\n",
       "      <td>268000000</td>\n",
       "      <td>311.354312</td>\n",
       "      <td>267142000</td>\n",
       "    </tr>\n",
       "    <tr>\n",
       "      <th>5773</th>\n",
       "      <td>74</td>\n",
       "      <td>Feb 26, 1993</td>\n",
       "      <td>El Mariachi</td>\n",
       "      <td>7000</td>\n",
       "      <td>2040920</td>\n",
       "      <td>2041928</td>\n",
       "      <td>290.704000</td>\n",
       "      <td>2034928</td>\n",
       "    </tr>\n",
       "    <tr>\n",
       "      <th>5676</th>\n",
       "      <td>77</td>\n",
       "      <td>Oct 1, 1968</td>\n",
       "      <td>Night of the Living Dead</td>\n",
       "      <td>114000</td>\n",
       "      <td>12087064</td>\n",
       "      <td>30087064</td>\n",
       "      <td>262.921614</td>\n",
       "      <td>29973064</td>\n",
       "    </tr>\n",
       "    <tr>\n",
       "      <th>5210</th>\n",
       "      <td>11</td>\n",
       "      <td>Nov 21, 1976</td>\n",
       "      <td>Rocky</td>\n",
       "      <td>1000000</td>\n",
       "      <td>117235147</td>\n",
       "      <td>225000000</td>\n",
       "      <td>224.000000</td>\n",
       "      <td>224000000</td>\n",
       "    </tr>\n",
       "    <tr>\n",
       "      <th>5536</th>\n",
       "      <td>37</td>\n",
       "      <td>Oct 17, 1978</td>\n",
       "      <td>Halloween</td>\n",
       "      <td>325000</td>\n",
       "      <td>47000000</td>\n",
       "      <td>70000000</td>\n",
       "      <td>214.384615</td>\n",
       "      <td>69675000</td>\n",
       "    </tr>\n",
       "    <tr>\n",
       "      <th>5715</th>\n",
       "      <td>16</td>\n",
       "      <td>Aug 9, 1995</td>\n",
       "      <td>The Brothers McMullen</td>\n",
       "      <td>50000</td>\n",
       "      <td>10426506</td>\n",
       "      <td>10426506</td>\n",
       "      <td>207.530120</td>\n",
       "      <td>10376506</td>\n",
       "    </tr>\n",
       "    <tr>\n",
       "      <th>5665</th>\n",
       "      <td>66</td>\n",
       "      <td>Oct 18, 1974</td>\n",
       "      <td>The Texas Chainsaw Massacre</td>\n",
       "      <td>140000</td>\n",
       "      <td>26572439</td>\n",
       "      <td>26572439</td>\n",
       "      <td>188.803136</td>\n",
       "      <td>26432439</td>\n",
       "    </tr>\n",
       "    <tr>\n",
       "      <th>5372</th>\n",
       "      <td>73</td>\n",
       "      <td>Aug 11, 1973</td>\n",
       "      <td>American Graffiti</td>\n",
       "      <td>777000</td>\n",
       "      <td>115000000</td>\n",
       "      <td>140000000</td>\n",
       "      <td>179.180180</td>\n",
       "      <td>139223000</td>\n",
       "    </tr>\n",
       "    <tr>\n",
       "      <th>5781</th>\n",
       "      <td>82</td>\n",
       "      <td>Aug 5, 2005</td>\n",
       "      <td>My Date With Drew</td>\n",
       "      <td>1100</td>\n",
       "      <td>181041</td>\n",
       "      <td>181041</td>\n",
       "      <td>163.582727</td>\n",
       "      <td>179941</td>\n",
       "    </tr>\n",
       "    <tr>\n",
       "      <th>5656</th>\n",
       "      <td>57</td>\n",
       "      <td>May 16, 2007</td>\n",
       "      <td>Once</td>\n",
       "      <td>150000</td>\n",
       "      <td>9445857</td>\n",
       "      <td>23323631</td>\n",
       "      <td>154.490873</td>\n",
       "      <td>23173631</td>\n",
       "    </tr>\n",
       "    <tr>\n",
       "      <th>5742</th>\n",
       "      <td>43</td>\n",
       "      <td>Oct 19, 1994</td>\n",
       "      <td>Clerks</td>\n",
       "      <td>27000</td>\n",
       "      <td>3073428</td>\n",
       "      <td>3894240</td>\n",
       "      <td>143.231111</td>\n",
       "      <td>3867240</td>\n",
       "    </tr>\n",
       "    <tr>\n",
       "      <th>5612</th>\n",
       "      <td>13</td>\n",
       "      <td>Jul 25, 1969</td>\n",
       "      <td>The Stewardesses</td>\n",
       "      <td>200000</td>\n",
       "      <td>13500000</td>\n",
       "      <td>25000000</td>\n",
       "      <td>124.000000</td>\n",
       "      <td>24800000</td>\n",
       "    </tr>\n",
       "    <tr>\n",
       "      <th>5117</th>\n",
       "      <td>18</td>\n",
       "      <td>Dec 21, 1937</td>\n",
       "      <td>Snow White and the Seven Dwarfs</td>\n",
       "      <td>1488000</td>\n",
       "      <td>184925486</td>\n",
       "      <td>184925486</td>\n",
       "      <td>123.277880</td>\n",
       "      <td>183437486</td>\n",
       "    </tr>\n",
       "    <tr>\n",
       "      <th>5357</th>\n",
       "      <td>58</td>\n",
       "      <td>Jan 1, 1971</td>\n",
       "      <td>Billy Jack</td>\n",
       "      <td>800000</td>\n",
       "      <td>98000000</td>\n",
       "      <td>98000000</td>\n",
       "      <td>121.500000</td>\n",
       "      <td>97200000</td>\n",
       "    </tr>\n",
       "  </tbody>\n",
       "</table>\n",
       "</div>"
      ],
      "text/plain": [
       "      id  release_date                            movie  production_budget  \\\n",
       "5745  46  Jun 30, 1972                      Deep Throat              25000   \n",
       "5613  14  Mar 21, 1980                          Mad Max             200000   \n",
       "5492  93  Sep 25, 2009              Paranormal Activity             450000   \n",
       "5679  80  Jul 10, 2015                      The Gallows             100000   \n",
       "5406   7  Jul 14, 1999          The Blair Witch Project             600000   \n",
       "5709  10   May 7, 2004                    Super Size Me              65000   \n",
       "5346  47  Aug 13, 1942                            Bambi             858000   \n",
       "5773  74  Feb 26, 1993                      El Mariachi               7000   \n",
       "5676  77   Oct 1, 1968         Night of the Living Dead             114000   \n",
       "5210  11  Nov 21, 1976                            Rocky            1000000   \n",
       "5536  37  Oct 17, 1978                        Halloween             325000   \n",
       "5715  16   Aug 9, 1995            The Brothers McMullen              50000   \n",
       "5665  66  Oct 18, 1974      The Texas Chainsaw Massacre             140000   \n",
       "5372  73  Aug 11, 1973                American Graffiti             777000   \n",
       "5781  82   Aug 5, 2005                My Date With Drew               1100   \n",
       "5656  57  May 16, 2007                             Once             150000   \n",
       "5742  43  Oct 19, 1994                           Clerks              27000   \n",
       "5612  13  Jul 25, 1969                 The Stewardesses             200000   \n",
       "5117  18  Dec 21, 1937  Snow White and the Seven Dwarfs            1488000   \n",
       "5357  58   Jan 1, 1971                       Billy Jack             800000   \n",
       "\n",
       "      domestic_gross  worldwide_gross    world_ROI  world_net_profit  \n",
       "5745        45000000         45000000  1799.000000          44975000  \n",
       "5613         8750000         99750000   497.750000          99550000  \n",
       "5492       107918810        194183034   430.517853         193733034  \n",
       "5679        22764410         41656474   415.564740          41556474  \n",
       "5406       140539099        248300000   412.833333         247700000  \n",
       "5709        11529368         22233808   341.058585          22168808  \n",
       "5346       102797000        268000000   311.354312         267142000  \n",
       "5773         2040920          2041928   290.704000           2034928  \n",
       "5676        12087064         30087064   262.921614          29973064  \n",
       "5210       117235147        225000000   224.000000         224000000  \n",
       "5536        47000000         70000000   214.384615          69675000  \n",
       "5715        10426506         10426506   207.530120          10376506  \n",
       "5665        26572439         26572439   188.803136          26432439  \n",
       "5372       115000000        140000000   179.180180         139223000  \n",
       "5781          181041           181041   163.582727            179941  \n",
       "5656         9445857         23323631   154.490873          23173631  \n",
       "5742         3073428          3894240   143.231111           3867240  \n",
       "5612        13500000         25000000   124.000000          24800000  \n",
       "5117       184925486        184925486   123.277880         183437486  \n",
       "5357        98000000         98000000   121.500000          97200000  "
      ]
     },
     "execution_count": 13,
     "metadata": {},
     "output_type": "execute_result"
    }
   ],
   "source": [
    "# Select the top 10% of films by ROI.\n",
    "top_ten_percent_ROI = tn_budgets.loc[tn_budgets.world_ROI \n",
    "                            >= tn_budgets.world_ROI.quantile(.9)].sort_values('world_ROI', ascending=False)\n",
    "top_ten_percent_ROI.head(20)"
   ]
  },
  {
   "cell_type": "markdown",
   "metadata": {},
   "source": [
    "It's just a rough, qualitative assessment, but right away I can see that movies with high ROI are often adult-oriented or horror (e.g., *Deep Throat*, *Paranormal Activity*, *The Blair Witch Projet*, etc.). This might not be the group of films Microsoft wants its own to belong to. Next I investigate the group of films that have high net profit."
   ]
  },
  {
   "cell_type": "code",
   "execution_count": 14,
   "metadata": {
    "scrolled": true
   },
   "outputs": [
    {
     "data": {
      "text/html": [
       "<div>\n",
       "<style scoped>\n",
       "    .dataframe tbody tr th:only-of-type {\n",
       "        vertical-align: middle;\n",
       "    }\n",
       "\n",
       "    .dataframe tbody tr th {\n",
       "        vertical-align: top;\n",
       "    }\n",
       "\n",
       "    .dataframe thead th {\n",
       "        text-align: right;\n",
       "    }\n",
       "</style>\n",
       "<table border=\"1\" class=\"dataframe\">\n",
       "  <thead>\n",
       "    <tr style=\"text-align: right;\">\n",
       "      <th></th>\n",
       "      <th>id</th>\n",
       "      <th>release_date</th>\n",
       "      <th>movie</th>\n",
       "      <th>production_budget</th>\n",
       "      <th>domestic_gross</th>\n",
       "      <th>worldwide_gross</th>\n",
       "      <th>world_ROI</th>\n",
       "      <th>world_net_profit</th>\n",
       "    </tr>\n",
       "  </thead>\n",
       "  <tbody>\n",
       "    <tr>\n",
       "      <th>5745</th>\n",
       "      <td>46</td>\n",
       "      <td>Jun 30, 1972</td>\n",
       "      <td>Deep Throat</td>\n",
       "      <td>25000</td>\n",
       "      <td>45000000</td>\n",
       "      <td>45000000</td>\n",
       "      <td>1799.000000</td>\n",
       "      <td>44975000</td>\n",
       "    </tr>\n",
       "    <tr>\n",
       "      <th>5613</th>\n",
       "      <td>14</td>\n",
       "      <td>Mar 21, 1980</td>\n",
       "      <td>Mad Max</td>\n",
       "      <td>200000</td>\n",
       "      <td>8750000</td>\n",
       "      <td>99750000</td>\n",
       "      <td>497.750000</td>\n",
       "      <td>99550000</td>\n",
       "    </tr>\n",
       "    <tr>\n",
       "      <th>5492</th>\n",
       "      <td>93</td>\n",
       "      <td>Sep 25, 2009</td>\n",
       "      <td>Paranormal Activity</td>\n",
       "      <td>450000</td>\n",
       "      <td>107918810</td>\n",
       "      <td>194183034</td>\n",
       "      <td>430.517853</td>\n",
       "      <td>193733034</td>\n",
       "    </tr>\n",
       "    <tr>\n",
       "      <th>5679</th>\n",
       "      <td>80</td>\n",
       "      <td>Jul 10, 2015</td>\n",
       "      <td>The Gallows</td>\n",
       "      <td>100000</td>\n",
       "      <td>22764410</td>\n",
       "      <td>41656474</td>\n",
       "      <td>415.564740</td>\n",
       "      <td>41556474</td>\n",
       "    </tr>\n",
       "    <tr>\n",
       "      <th>5406</th>\n",
       "      <td>7</td>\n",
       "      <td>Jul 14, 1999</td>\n",
       "      <td>The Blair Witch Project</td>\n",
       "      <td>600000</td>\n",
       "      <td>140539099</td>\n",
       "      <td>248300000</td>\n",
       "      <td>412.833333</td>\n",
       "      <td>247700000</td>\n",
       "    </tr>\n",
       "    <tr>\n",
       "      <th>5709</th>\n",
       "      <td>10</td>\n",
       "      <td>May 7, 2004</td>\n",
       "      <td>Super Size Me</td>\n",
       "      <td>65000</td>\n",
       "      <td>11529368</td>\n",
       "      <td>22233808</td>\n",
       "      <td>341.058585</td>\n",
       "      <td>22168808</td>\n",
       "    </tr>\n",
       "    <tr>\n",
       "      <th>5346</th>\n",
       "      <td>47</td>\n",
       "      <td>Aug 13, 1942</td>\n",
       "      <td>Bambi</td>\n",
       "      <td>858000</td>\n",
       "      <td>102797000</td>\n",
       "      <td>268000000</td>\n",
       "      <td>311.354312</td>\n",
       "      <td>267142000</td>\n",
       "    </tr>\n",
       "    <tr>\n",
       "      <th>5773</th>\n",
       "      <td>74</td>\n",
       "      <td>Feb 26, 1993</td>\n",
       "      <td>El Mariachi</td>\n",
       "      <td>7000</td>\n",
       "      <td>2040920</td>\n",
       "      <td>2041928</td>\n",
       "      <td>290.704000</td>\n",
       "      <td>2034928</td>\n",
       "    </tr>\n",
       "    <tr>\n",
       "      <th>5676</th>\n",
       "      <td>77</td>\n",
       "      <td>Oct 1, 1968</td>\n",
       "      <td>Night of the Living Dead</td>\n",
       "      <td>114000</td>\n",
       "      <td>12087064</td>\n",
       "      <td>30087064</td>\n",
       "      <td>262.921614</td>\n",
       "      <td>29973064</td>\n",
       "    </tr>\n",
       "    <tr>\n",
       "      <th>5210</th>\n",
       "      <td>11</td>\n",
       "      <td>Nov 21, 1976</td>\n",
       "      <td>Rocky</td>\n",
       "      <td>1000000</td>\n",
       "      <td>117235147</td>\n",
       "      <td>225000000</td>\n",
       "      <td>224.000000</td>\n",
       "      <td>224000000</td>\n",
       "    </tr>\n",
       "    <tr>\n",
       "      <th>5536</th>\n",
       "      <td>37</td>\n",
       "      <td>Oct 17, 1978</td>\n",
       "      <td>Halloween</td>\n",
       "      <td>325000</td>\n",
       "      <td>47000000</td>\n",
       "      <td>70000000</td>\n",
       "      <td>214.384615</td>\n",
       "      <td>69675000</td>\n",
       "    </tr>\n",
       "    <tr>\n",
       "      <th>5715</th>\n",
       "      <td>16</td>\n",
       "      <td>Aug 9, 1995</td>\n",
       "      <td>The Brothers McMullen</td>\n",
       "      <td>50000</td>\n",
       "      <td>10426506</td>\n",
       "      <td>10426506</td>\n",
       "      <td>207.530120</td>\n",
       "      <td>10376506</td>\n",
       "    </tr>\n",
       "    <tr>\n",
       "      <th>5665</th>\n",
       "      <td>66</td>\n",
       "      <td>Oct 18, 1974</td>\n",
       "      <td>The Texas Chainsaw Massacre</td>\n",
       "      <td>140000</td>\n",
       "      <td>26572439</td>\n",
       "      <td>26572439</td>\n",
       "      <td>188.803136</td>\n",
       "      <td>26432439</td>\n",
       "    </tr>\n",
       "    <tr>\n",
       "      <th>5372</th>\n",
       "      <td>73</td>\n",
       "      <td>Aug 11, 1973</td>\n",
       "      <td>American Graffiti</td>\n",
       "      <td>777000</td>\n",
       "      <td>115000000</td>\n",
       "      <td>140000000</td>\n",
       "      <td>179.180180</td>\n",
       "      <td>139223000</td>\n",
       "    </tr>\n",
       "    <tr>\n",
       "      <th>5781</th>\n",
       "      <td>82</td>\n",
       "      <td>Aug 5, 2005</td>\n",
       "      <td>My Date With Drew</td>\n",
       "      <td>1100</td>\n",
       "      <td>181041</td>\n",
       "      <td>181041</td>\n",
       "      <td>163.582727</td>\n",
       "      <td>179941</td>\n",
       "    </tr>\n",
       "    <tr>\n",
       "      <th>5656</th>\n",
       "      <td>57</td>\n",
       "      <td>May 16, 2007</td>\n",
       "      <td>Once</td>\n",
       "      <td>150000</td>\n",
       "      <td>9445857</td>\n",
       "      <td>23323631</td>\n",
       "      <td>154.490873</td>\n",
       "      <td>23173631</td>\n",
       "    </tr>\n",
       "    <tr>\n",
       "      <th>5742</th>\n",
       "      <td>43</td>\n",
       "      <td>Oct 19, 1994</td>\n",
       "      <td>Clerks</td>\n",
       "      <td>27000</td>\n",
       "      <td>3073428</td>\n",
       "      <td>3894240</td>\n",
       "      <td>143.231111</td>\n",
       "      <td>3867240</td>\n",
       "    </tr>\n",
       "    <tr>\n",
       "      <th>5612</th>\n",
       "      <td>13</td>\n",
       "      <td>Jul 25, 1969</td>\n",
       "      <td>The Stewardesses</td>\n",
       "      <td>200000</td>\n",
       "      <td>13500000</td>\n",
       "      <td>25000000</td>\n",
       "      <td>124.000000</td>\n",
       "      <td>24800000</td>\n",
       "    </tr>\n",
       "    <tr>\n",
       "      <th>5117</th>\n",
       "      <td>18</td>\n",
       "      <td>Dec 21, 1937</td>\n",
       "      <td>Snow White and the Seven Dwarfs</td>\n",
       "      <td>1488000</td>\n",
       "      <td>184925486</td>\n",
       "      <td>184925486</td>\n",
       "      <td>123.277880</td>\n",
       "      <td>183437486</td>\n",
       "    </tr>\n",
       "    <tr>\n",
       "      <th>5357</th>\n",
       "      <td>58</td>\n",
       "      <td>Jan 1, 1971</td>\n",
       "      <td>Billy Jack</td>\n",
       "      <td>800000</td>\n",
       "      <td>98000000</td>\n",
       "      <td>98000000</td>\n",
       "      <td>121.500000</td>\n",
       "      <td>97200000</td>\n",
       "    </tr>\n",
       "  </tbody>\n",
       "</table>\n",
       "</div>"
      ],
      "text/plain": [
       "      id  release_date                            movie  production_budget  \\\n",
       "5745  46  Jun 30, 1972                      Deep Throat              25000   \n",
       "5613  14  Mar 21, 1980                          Mad Max             200000   \n",
       "5492  93  Sep 25, 2009              Paranormal Activity             450000   \n",
       "5679  80  Jul 10, 2015                      The Gallows             100000   \n",
       "5406   7  Jul 14, 1999          The Blair Witch Project             600000   \n",
       "5709  10   May 7, 2004                    Super Size Me              65000   \n",
       "5346  47  Aug 13, 1942                            Bambi             858000   \n",
       "5773  74  Feb 26, 1993                      El Mariachi               7000   \n",
       "5676  77   Oct 1, 1968         Night of the Living Dead             114000   \n",
       "5210  11  Nov 21, 1976                            Rocky            1000000   \n",
       "5536  37  Oct 17, 1978                        Halloween             325000   \n",
       "5715  16   Aug 9, 1995            The Brothers McMullen              50000   \n",
       "5665  66  Oct 18, 1974      The Texas Chainsaw Massacre             140000   \n",
       "5372  73  Aug 11, 1973                American Graffiti             777000   \n",
       "5781  82   Aug 5, 2005                My Date With Drew               1100   \n",
       "5656  57  May 16, 2007                             Once             150000   \n",
       "5742  43  Oct 19, 1994                           Clerks              27000   \n",
       "5612  13  Jul 25, 1969                 The Stewardesses             200000   \n",
       "5117  18  Dec 21, 1937  Snow White and the Seven Dwarfs            1488000   \n",
       "5357  58   Jan 1, 1971                       Billy Jack             800000   \n",
       "\n",
       "      domestic_gross  worldwide_gross    world_ROI  world_net_profit  \n",
       "5745        45000000         45000000  1799.000000          44975000  \n",
       "5613         8750000         99750000   497.750000          99550000  \n",
       "5492       107918810        194183034   430.517853         193733034  \n",
       "5679        22764410         41656474   415.564740          41556474  \n",
       "5406       140539099        248300000   412.833333         247700000  \n",
       "5709        11529368         22233808   341.058585          22168808  \n",
       "5346       102797000        268000000   311.354312         267142000  \n",
       "5773         2040920          2041928   290.704000           2034928  \n",
       "5676        12087064         30087064   262.921614          29973064  \n",
       "5210       117235147        225000000   224.000000         224000000  \n",
       "5536        47000000         70000000   214.384615          69675000  \n",
       "5715        10426506         10426506   207.530120          10376506  \n",
       "5665        26572439         26572439   188.803136          26432439  \n",
       "5372       115000000        140000000   179.180180         139223000  \n",
       "5781          181041           181041   163.582727            179941  \n",
       "5656         9445857         23323631   154.490873          23173631  \n",
       "5742         3073428          3894240   143.231111           3867240  \n",
       "5612        13500000         25000000   124.000000          24800000  \n",
       "5117       184925486        184925486   123.277880         183437486  \n",
       "5357        98000000         98000000   121.500000          97200000  "
      ]
     },
     "execution_count": 14,
     "metadata": {},
     "output_type": "execute_result"
    }
   ],
   "source": [
    "# Select the top 10% of films by net profit.\n",
    "top_ten_percent_net_profit = tn_budgets.loc[tn_budgets.world_ROI >= tn_budgets.world_ROI.quantile(.9)].sort_values(by=['world_ROI'], ascending=False)\n",
    "top_ten_percent_net_profit.sort_values(by=['world_ROI'], ascending=False).head(20)"
   ]
  },
  {
   "cell_type": "markdown",
   "metadata": {},
   "source": [
    "These appear to be more the group Microsoft should aim for. Again being fast and qualitative, these are high profit, high visibility films, often family oriented, often action oriented.\n",
    "\n",
    "## Assembling DataFrames\n",
    "\n",
    "Having a good idea of the setup of my tables, I begin combining tables, using the IMDB table of titles and IMDB-IDs as my starting point. I use the IMDB-ID to join with data on foreign titles and crew members, so I expect a high degree of integrity from those joins. I also join with data on revenue from a separate source that isn't indexed by IMDB-ID; I'm forced to join on movie title. This approach feels 'leakier' to me, as differences in spelling  and punctuation could result in loss of data (*e.g.*, *Star Wars 5* in one table and *Star Wars V* in another wouldn't be joined)."
   ]
  },
  {
   "cell_type": "code",
   "execution_count": 15,
   "metadata": {},
   "outputs": [
    {
     "name": "stdout",
     "output_type": "stream",
     "text": [
      "<class 'pandas.core.frame.DataFrame'>\n",
      "Int64Index: 146306 entries, 0 to 146305\n",
      "Data columns (total 15 columns):\n",
      " #   Column             Non-Null Count   Dtype  \n",
      "---  ------             --------------   -----  \n",
      " 0   tconst             146306 non-null  object \n",
      " 1   primary_title      146306 non-null  object \n",
      " 2   original_title     146285 non-null  object \n",
      " 3   start_year         146306 non-null  int64  \n",
      " 4   runtime_minutes    114543 non-null  float64\n",
      " 5   genres             140895 non-null  object \n",
      " 6   foreign_titles     146306 non-null  float64\n",
      " 7   directors          140577 non-null  object \n",
      " 8   writers            110392 non-null  object \n",
      " 9   release_date       3277 non-null    object \n",
      " 10  production_budget  3277 non-null    float64\n",
      " 11  domestic_gross     3277 non-null    float64\n",
      " 12  worldwide_gross    3277 non-null    float64\n",
      " 13  world_ROI          3277 non-null    float64\n",
      " 14  world_net_profit   3277 non-null    float64\n",
      "dtypes: float64(7), int64(1), object(7)\n",
      "memory usage: 17.9+ MB\n"
     ]
    }
   ],
   "source": [
    "df = imdb_title_basics.set_index('tconst').join(imdb_foreign_titles)\n",
    "# Dropping a redundant column from the imdb_foreign_titles table. \n",
    "df.drop(['title_id'], axis=1, inplace=True)\n",
    "df.foreign_titles.fillna(value=0, inplace=True)\n",
    "df = df.join(imdb_title_crew.set_index('tconst'))\n",
    "df = df.join(tn_budgets.set_index('movie'), on='primary_title')\n",
    "\n",
    "# Dropping the id column from the tn_budgets table. I'm not sure what the source is, but its ID system\n",
    "# is not congruent to IMDB's.\n",
    "df.drop(['id'], axis=1, inplace=True)\n",
    "df.reset_index(inplace=True)\n",
    "df.drop_duplicates(inplace=True)\n",
    "df.info()"
   ]
  },
  {
   "cell_type": "markdown",
   "metadata": {},
   "source": [
    "I can see that, even with the leaky join, I still got 3277 titles with data on profit. This still seems reasonably large to me for the sake of early analysis.\n",
    "\n",
    "## Making Groups of High and Low Net Profit \n",
    "Next, I make two new data frames, one for the top 25% of movies by net profit (quant_75_net_profit), and the other for the bottom 25% (quant_25_net_profit). These quantiles were chosen arbitrarily and could be made more or less strict at Microsoft's request."
   ]
  },
  {
   "cell_type": "code",
   "execution_count": 16,
   "metadata": {
    "scrolled": false
   },
   "outputs": [
    {
     "name": "stdout",
     "output_type": "stream",
     "text": [
      "Top 25% Net Profit:\n",
      "<class 'pandas.core.frame.DataFrame'>\n",
      "Int64Index: 821 entries, 33 to 146240\n",
      "Data columns (total 15 columns):\n",
      " #   Column             Non-Null Count  Dtype  \n",
      "---  ------             --------------  -----  \n",
      " 0   tconst             821 non-null    object \n",
      " 1   primary_title      821 non-null    object \n",
      " 2   original_title     821 non-null    object \n",
      " 3   start_year         821 non-null    int64  \n",
      " 4   runtime_minutes    744 non-null    float64\n",
      " 5   genres             806 non-null    object \n",
      " 6   foreign_titles     821 non-null    float64\n",
      " 7   directors          805 non-null    object \n",
      " 8   writers            740 non-null    object \n",
      " 9   release_date       821 non-null    object \n",
      " 10  production_budget  821 non-null    float64\n",
      " 11  domestic_gross     821 non-null    float64\n",
      " 12  worldwide_gross    821 non-null    float64\n",
      " 13  world_ROI          821 non-null    float64\n",
      " 14  world_net_profit   821 non-null    float64\n",
      "dtypes: float64(7), int64(1), object(7)\n",
      "memory usage: 102.6+ KB\n"
     ]
    },
    {
     "data": {
      "text/plain": [
       "None"
      ]
     },
     "metadata": {},
     "output_type": "display_data"
    },
    {
     "name": "stdout",
     "output_type": "stream",
     "text": [
      "Bottom 25% Net Profit\n",
      "<class 'pandas.core.frame.DataFrame'>\n",
      "Int64Index: 821 entries, 48 to 146099\n",
      "Data columns (total 15 columns):\n",
      " #   Column             Non-Null Count  Dtype  \n",
      "---  ------             --------------  -----  \n",
      " 0   tconst             821 non-null    object \n",
      " 1   primary_title      821 non-null    object \n",
      " 2   original_title     820 non-null    object \n",
      " 3   start_year         821 non-null    int64  \n",
      " 4   runtime_minutes    678 non-null    float64\n",
      " 5   genres             803 non-null    object \n",
      " 6   foreign_titles     821 non-null    float64\n",
      " 7   directors          796 non-null    object \n",
      " 8   writers            716 non-null    object \n",
      " 9   release_date       821 non-null    object \n",
      " 10  production_budget  821 non-null    float64\n",
      " 11  domestic_gross     821 non-null    float64\n",
      " 12  worldwide_gross    821 non-null    float64\n",
      " 13  world_ROI          821 non-null    float64\n",
      " 14  world_net_profit   821 non-null    float64\n",
      "dtypes: float64(7), int64(1), object(7)\n",
      "memory usage: 102.6+ KB\n"
     ]
    },
    {
     "data": {
      "text/plain": [
       "None"
      ]
     },
     "metadata": {},
     "output_type": "display_data"
    }
   ],
   "source": [
    "quant_75_net_profit = df.loc[df.world_net_profit >= df.world_net_profit.quantile(.75)]\n",
    "quant_25_net_profit = df.loc[df.world_net_profit <= df.world_net_profit.quantile(.25)]\n",
    "print('Top 25% Net Profit:')\n",
    "display(quant_75_net_profit.info())\n",
    "print('Bottom 25% Net Profit')\n",
    "display(quant_25_net_profit.info())"
   ]
  },
  {
   "cell_type": "markdown",
   "metadata": {},
   "source": [
    "### A second question: who should direct?\n",
    "\n",
    "After a bit of research into the movie making process, it seems that the director hires the actors for most projects, so I decided to focus on analyzing directors with the thought that picking a good director would trickle down to an equally good cast. To do that, I create a list of all my director IDs, and then map them back to the imdb_names table to get their names. Lastly I create a new DataFrame with the directors and the number of films they directed in the top 25% of movies by net profit."
   ]
  },
  {
   "cell_type": "code",
   "execution_count": 23,
   "metadata": {
    "scrolled": true
   },
   "outputs": [],
   "source": [
    "top_directors = []\n",
    "for directors in list(quant_75_net_profit.directors.dropna().array):\n",
    "    top_directors = top_directors + directors.split(',')\n",
    "for index, item in enumerate(top_directors):\n",
    "    if item =='unlisted':\n",
    "        top_directors[index] = item\n",
    "    else:\n",
    "        top_directors[index] = imdb_names.loc[imdb_names.nconst == top_directors[index], 'primary_name'].values[0]\n",
    "top_directors = pd.Series(top_directors)\n",
    "\n",
    "all_directors = []\n",
    "for directors in list((df.dropna(subset=['world_net_profit'])).directors.dropna().array):\n",
    "    all_directors = all_directors + directors.split(',')\n",
    "for index, item in enumerate(all_directors):\n",
    "    if item =='unlisted':\n",
    "        all_directors[index] = item\n",
    "    else:\n",
    "        all_directors[index]= imdb_names.loc[imdb_names.nconst == all_directors[index], 'primary_name'].values[0]\n",
    "all_directors = pd.Series(all_directors)"
   ]
  },
  {
   "cell_type": "code",
   "execution_count": 24,
   "metadata": {
    "scrolled": false
   },
   "outputs": [],
   "source": [
    "top_directors_df = pd.DataFrame(top_directors.unique(), columns=['director'])\n",
    "top_directors_df = top_directors_df.set_index('director').join(pd.DataFrame(top_directors.value_counts()))\n",
    "top_directors_df.reset_index(inplace=True)\n",
    "top_directors_df.columns = ['director', 'count']"
   ]
  },
  {
   "cell_type": "code",
   "execution_count": 25,
   "metadata": {},
   "outputs": [
    {
     "name": "stdout",
     "output_type": "stream",
     "text": [
      "All directors = a = 2762\n",
      "Directors of top net profit films = b = 683\n",
      "Directors with more than one top net profit film = c = 150\n",
      "Directors with more than two top net profit film = d = 57\n",
      "Chance of making a top net profit film = b/a = 25%\n",
      "Chance of making a another top net profit film = c/b = 22%\n",
      "Chance of making a third top net profit film after making two = c/d = 38%\n"
     ]
    },
    {
     "data": {
      "application/vnd.plotly.v1+json": {
       "config": {
        "linkText": "Export to plot.ly",
        "plotlyServerURL": "https://plot.ly",
        "showLink": true
       },
       "data": [
        {
         "marker": {
          "color": "rgba(255, 153, 51, 0.6)",
          "line": {
           "color": "rgba(255, 153, 51, 1.0)",
           "width": 1
          }
         },
         "name": "count",
         "orientation": "v",
         "text": "",
         "type": "bar",
         "x": [
          "Steven Spielberg",
          "M. Night Shyamalan",
          "Jon M. Chu",
          "Ridley Scott",
          "Paul Feig",
          "Francis Lawrence",
          "Kenneth Branagh",
          "Pierre Coffin",
          "Antoine Fuqua",
          "Mike Mitchell",
          "Christopher Nolan",
          "James Wan",
          "Peter Jackson",
          "David Yates",
          "Nicholas Stoller",
          "Marilyn Barnes",
          "Dean DeBlois",
          "Chris Renaud",
          "David O. Russell",
          "Michael Bay",
          "Brad Peyton",
          "Genndy Tartakovsky",
          "Jaume Collet-Serra",
          "Guy Ritchie",
          "Tom McGrath",
          "James DeMonaco",
          "Rawson Marshall Thurber",
          "James Mangold",
          "Tim Burton",
          "Kay Cannon",
          "Guillermo del Toro",
          "Seth Gordon",
          "Tim Story",
          "Clint Eastwood",
          "Rob Marshall",
          "Jake Kasdan",
          "Jon Favreau",
          "Conrad Vernon",
          "Neil Burger",
          "Joe Russo",
          "Anthony Russo",
          "Bryan Singer",
          "Paul W.S. Anderson",
          "David F. Sandberg",
          "Zack Snyder",
          "Adam McKay",
          "Baltasar Kormákur",
          "Shawn Levy",
          "Christopher Miller",
          "Phil Lord",
          "Matthew Vaughn",
          "Gareth Edwards",
          "Carlos Saldanha",
          "David Fincher",
          "Will Gluck",
          "Jonathan Liebesman",
          "Dennis Dugan",
          "Abhijit Guha",
          "Morten Tyldum",
          "Sudeshna Roy",
          "J.J. Abrams",
          "David Ayer",
          "Len Wiseman",
          "Jennifer Yuh Nelson",
          "Chris Williams",
          "Eric Darnell",
          "Shane Black",
          "Wes Ball",
          "Andy Muschietti",
          "Olivier Megaton",
          "F. Gary Gray",
          "Don Hall",
          "Jonathan Goldstein",
          "John Madden",
          "Mike Thurmeier",
          "Denis Villeneuve",
          "J.A. Bayona",
          "Chance Taylor",
          "Rennie Cowan",
          "Alejandro G. Iñárritu",
          "Quentin Tarantino",
          "Jason Moore",
          "Steve Martino",
          "David Soren",
          "Jordan Peele",
          "Ryan Coogler",
          "Rajesh Pillai",
          "Rich Moore",
          "Ariel Schulman",
          "Henry Joost",
          "Kiran Nakti",
          "Seth MacFarlane",
          "David Sikhosana",
          "Tate Taylor",
          "Scott Waugh",
          "Matt Reeves",
          "Peter Farrelly",
          "Josh Trank",
          "John Francis Daley",
          "Tarsem Singh",
          "Paul Greengrass",
          "James Foley",
          "Bill Condon",
          "Doug Liman",
          "Steven Soderbergh",
          "Sarah Morris",
          "Woody Allen",
          "Scott Moore",
          "Jon Lucas",
          "Greg Tiernan",
          "Steven Quale",
          "Brett Ratner",
          "Justin Lin",
          "Christophe Gans",
          "Bob Golding",
          "Raja Gosnell",
          "Malcolm D. Lee",
          "Joss Whedon",
          "Marc Forster",
          "Peyton Reed",
          "Harald Zwart",
          "Chris Sanders",
          "Rob Letterman",
          "James Bobin",
          "Alex Kurtzman",
          "Louis Leterrier",
          "Duncan Jones",
          "Peter Berg",
          "Frank Coraci",
          "Chris Columbus",
          "Sam Mendes",
          "Ron Howard",
          "Vinod Venkatesh",
          "Lee Unkrich",
          "Martin Scorsese",
          "Lasse Hallström",
          "Jeff Tudor",
          "Kyle Balda",
          "Ben Affleck",
          "Jon Turteltaub",
          "Christopher Landon",
          "Scott Derrickson",
          "Byron Howard",
          "Elizabeth Banks",
          "Brad Dalton",
          "Marc Webb",
          "Darren Aronofsky",
          "Zane Burden",
          "André Moraes",
          "Todd Phillips",
          "Mark France",
          "Jung Huh",
          "David Esbjornson",
          "Satya Deva",
          "Michael Dougherty",
          "James Powell",
          "Vinko Moderndorfer",
          "The Lowpriest",
          "Doug Sweetland",
          "Pia Justine Cruz",
          "Travis Knight",
          "Christopher M. Carter",
          "Jonathan Godfrey",
          "Braxton Merzlock",
          "Niki Caro",
          "Joe Wright",
          "Otto Bathurst",
          "Judd Apatow",
          "S.S. Rajamouli",
          "Hope Hartman",
          "Laurie Schenden",
          "Jaishankar Chigurula",
          "Sebastian Klinger",
          "Yorgos Lanthimos",
          "Nitesh Tiwari",
          "Ricardas Marcinkus",
          "Luc Besson",
          "Phil Giordano",
          "Jared Bush",
          "Christopher Young",
          "Martin McDonagh",
          "Madhur Bhandarkar",
          "Tony Leondis",
          "Trish Sie",
          "Rob Tari",
          "Walt Becker",
          "James Marsh",
          "Troy Murray",
          "Ruslan Magomadov",
          "Theodore Melfi",
          "Tristan Clay",
          "Andrew Smith",
          "Matthew Daunt",
          "Darren Doane",
          "Sujit Mondal",
          "John Hamburg",
          "Josh Jones",
          "Mostafa Kiayee",
          "Roschdy Zem",
          "Christophe Lourdelet",
          "Garth Jennings",
          "Taika Waititi",
          "Júlio Alves",
          "Michael Colburn",
          "Richard Reade",
          "Ron Clements",
          "John Musker",
          "Dave Green",
          "Edgar Wright",
          "Kabir Khan",
          "Equan Choi",
          "Hangyu Kim",
          "François Favrat",
          "Tony Chan",
          "Alex Kendrick",
          "Chao Wang",
          "Robbie Walsh",
          "Connor Van Looveren-Baines",
          "Tony Clomax",
          "Brian Fee",
          "Dion Samsoondar",
          "Brad Bird",
          "Jake Schreier",
          "Damien Chazelle",
          "Mostafa Ahmadi",
          "Laura Clarke",
          "Jordan Vogt-Roberts",
          "Kirk Jones",
          "Veronica Pierce",
          "Eric Guillon",
          "Galen T. Chu",
          "Christopher H. Baum",
          "Mike Flanagan",
          "Jovanni Santos Graupera",
          "Ramón Gieling",
          "Garth Davis",
          "Renzo Aneröd",
          "Babak Najafi",
          "Deborah Kampmeier",
          "Hanna Aneröd",
          "John R. Leonetti",
          "Jared Chandler",
          "Stepán Gajdos",
          "Jay Abello",
          "Anna Boden",
          "Peter Spierig",
          "Sang-woo Lee",
          "Ryan Fleck",
          "Michael Spierig",
          "Simon Gush",
          "James Cairns",
          "Rahim Behboodi Far",
          "Chris McKay",
          "Ross Whitaker",
          "Anne Klint",
          "Brett Sullivan",
          "Stephen Daldry",
          "Pete Middleton",
          "Edward Zwick",
          "Fien Troch",
          "Ashley Christopher Leach",
          "Simon McQuoid",
          "Ryan Lee",
          "Vince D'Amato",
          "Lan An",
          "Karthik Chandan",
          "Tatsuya Nagamine",
          "R. Kannan",
          "Nicole Borgeat",
          "Jill Magid",
          "Visakesa Chandrasekaram",
          "Reza Golchin",
          "Russell Davidson",
          "Nan Feix",
          "Kabat Esosa Egbon",
          "Chris Eneaji Eneng",
          "Matteo Garrone",
          "Lowladee Omolola Adeleke",
          "John Batemen",
          "Sunkanmi Adebayo",
          "Sean Sevestre",
          "Thiago J. Silva",
          "Sarik Andreasyan",
          "James Wilsher",
          "Mihajlo Obrenov",
          "Spike Lee",
          "Martin Sulík",
          "Alfred Estcourt",
          "Juan Carlos Rulfo",
          "Sean Anders",
          "Guillaume Chemouili",
          "Holly Bell",
          "Jason Gerbay",
          "Xingzheng Jin",
          "Tadhg O'Sullivan",
          "Luciana Kaplan",
          "Susan Geldart",
          "Lance B. Witmer",
          "Christoph Schaub",
          "Dario Pleic",
          "Vik Sivalingham",
          "Gigisha Abashidze",
          "Adnan A. Shaikh",
          "Lidia Ravviso",
          "Donna Scheer",
          "Reed Meschefske",
          "Paul Hendy",
          "Steven Atkinson",
          "Vikram Bhatt",
          "Julien Crampes",
          "Nikolaus Geyrhalter",
          "Sohee Myoung",
          "Anthony Banks",
          "Riingo Banerjee",
          "Prachya Pinkaew",
          "Tomislav Zaja",
          "Michelle Groves",
          "Riley Rutter",
          "Scott Binnendijk",
          "Cagla Karslioglu",
          "David Reilly",
          "Michael Grandage",
          "Ravi Punj",
          "Mickey Fonseca",
          "Randi Pratama",
          "Bernard Kordieh",
          "Damien O'Neill",
          "Peter Entell",
          "Johnny M. Sizemore",
          "Kerrick Greer",
          "Patrick Johnson",
          "Dustin Rosemark",
          "Kim Min-Ho",
          "Kirby Hammond",
          "Yotam Rozin",
          "Daniel Sivan",
          "Asaf Lavi Harel",
          "Sam Icklow",
          "Ben Ducker",
          "Yaser Talebi",
          "Andrius Blazevicius",
          "Lynn Moody",
          "Johanna Valero",
          "Michael Giannantonio",
          "Gayatri Bajpai",
          "Anil Kulchainiya",
          "Suzette Reyes",
          "Ki-duk Kim",
          "Vrinda Samartha",
          "Gustavo Goulart",
          "Gerard McMurray",
          "Marcus C.W. Chan",
          "Adam Robitel",
          "Kook-Hee Choi",
          "Ruby Klein",
          "Antonio Di Trapani",
          "Marco De Angelis",
          "André-Line Beauparlant",
          "Feihong Chen",
          "Jason R. Gray",
          "Elisa Chee",
          "Jose G. Ramos",
          "Jie Liu",
          "Vlado Skafar",
          "Mohsin Ali",
          "David Leitch",
          "Lawrence Côté-Collins",
          "G.M. Whiting",
          "Andrew Cohn",
          "Melinte Reitzema",
          "McCaslin Miles",
          "Robert Schulzmann",
          "Anthony Jones",
          "Brenton Morris",
          "Wajed Ali Sumon",
          "John Krasinski",
          "Imran Sheikh",
          "Avijit Sud",
          "Jeff Wadlow",
          "Bill Holderman",
          "Travis Williams",
          "Diana Brooks",
          "Aleksandra Strelyanaya",
          "Junshu Huang",
          "Yun Xie",
          "Neil Boultby",
          "Blake Harris",
          "Nancey Flowers",
          "Hem Raj B.C.",
          "Gudmund Sand",
          "Gareth Van Niekerk",
          "Haakon Sand",
          "Karey Kirkpatrick",
          "Jason Reisig",
          "Ali Ahmadzade",
          "Silas Pons",
          "Veronika Djoulai",
          "Steven Caple Jr.",
          "Christoffer Dreyer",
          "Sjoerd Oostrik",
          "Jacalyn Evone",
          "Jon Erwin",
          "Andrew Erwin",
          "Justin Baldoni",
          "Vitaliy Versace",
          "James Bailey",
          "Kevin Johnson",
          "Jessica Cameron",
          "Kyle Lawrence",
          "Tim Miller",
          "Peter Ramsey",
          "Dan Scanlon",
          "Alfonso Cuarón",
          "Sunandan Walia",
          "Yugesh Walia",
          "Caleb Doyle",
          "William Brent Bell",
          "Joseph Kosinski",
          "Michael Gracey",
          "Mark Gustafson",
          "David Gordon Green",
          "Neill Blomkamp",
          "David Frankel",
          "Peter Lord",
          "Jeff Newitt",
          "Jennifer Baichwal",
          "Tommy Wirkola",
          "Nimród Antal",
          "Tim Hill",
          "Ivan Reitman",
          "Barry Sonnenfeld",
          "Joel Coen",
          "Ethan Coen",
          "George Miller",
          "Gary Ross",
          "George Nolfi",
          "Roar Uthaug",
          "Baz Luhrmann",
          "Lee Daniels",
          "Scott Hicks",
          "Tod Williams",
          "Rob Greenberg",
          "Yarrow Cheney",
          "Andrew Niccol",
          "Roland Emmerich",
          "Stan Harrington",
          "Kely McClung",
          "Oliver Parker",
          "Clara Picasso",
          "Nima Nourizadeh",
          "Artie Mandelberg",
          "Bentley Dean",
          "Larry Charles",
          "Fabrice Gobert",
          "Tarô Ohtani",
          "Michel Hazanavicius",
          "Jacek Lusinski",
          "Daming Chen",
          "Sam Raimi",
          "Martin Campbell",
          "Chi-kin Kwok",
          "Timur Bekmambetov",
          "Michael Sucsy",
          "John Moore",
          "Richard Dailey",
          "Hayden Schlossberg",
          "Jon Hurwitz",
          "Daniel Espinosa",
          "Sangeeth Sivan",
          "James Watkins",
          "McG",
          "Mike McCoy",
          "Jonathan Levine",
          "Robert Stromberg",
          "Martin Butler",
          "David Slade",
          "Adam Green",
          "Sylvester Stallone",
          "Michel Gondry",
          "Rob Minkoff",
          "Ryan Murphy",
          "Alister Grierson",
          "Phillip Noyce",
          "Paul Weitz",
          "Michael Apted",
          "Phyllida Lloyd",
          "Rupert Wyatt",
          "Patrick Fileti",
          "Gil Kenan",
          "Alexander Payne",
          "James Blagden",
          "Roni Moore",
          "Albert Hughes",
          "Chris Wedge",
          "Dennis Widmyer",
          "Kevin Kölsch",
          "Gary Shore",
          "Garry Marshall",
          "Michael Radford",
          "Sebastien Grousset",
          "Christopher McQuarrie",
          "Kirk DeMicco",
          "Tony Scott",
          "Joe Johnston",
          "Ang Lee",
          "Patty Jenkins",
          "Chris Miller",
          "Robert Rodriguez",
          "Nathan Greno",
          "Colin Trevorrow",
          "Allen Hughes",
          "Andy Tennant",
          "Tayo Osasona",
          "John Lasseter",
          "Eric Brevig",
          "Julie Anne Robinson",
          "D.J. Caruso",
          "Fede Alvarez",
          "Rian Johnson",
          "Ruben Fleischer",
          "Michael Patrick King",
          "David Barker",
          "Noam Murro",
          "Florian Henckel von Donnersmarck",
          "José Padilha",
          "Mark Andrews",
          "Steve Purcell",
          "Brenda Chapman",
          "Bradford Lewis",
          "Carol Fauls",
          "Stiles White",
          "Tony Gilroy",
          "Gore Verbinski",
          "Dan Trachtenberg",
          "Samuel Bayer",
          "Jeff Tremaine",
          "Paul King",
          "John Stronach",
          "Bill Boyce",
          "Gregori J. Martin",
          "Mark Neveldine",
          "Brian Taylor",
          "Craig Brewer",
          "Andy Fickman",
          "Jin-moo Kim",
          "Walt Dohrn",
          "Victor Vu",
          "George Anton",
          "Angus MacLane",
          "Wes Anderson",
          "Paul Tibbitt",
          "Chris Buck",
          "Jennifer Lee",
          "Maxim Suhaguzov",
          "J Blakeson",
          "Danielle Colman",
          "Zhi-yu Ma",
          "Sam Taylor-Johnson",
          "János Szász",
          "Patrick Hughes",
          "Sang-il Lee",
          "Diederik Van Rooijen",
          "Andrew Stanton",
          "Gregory Jacobs",
          "Alessandro Carloni",
          "Larry Greene",
          "Cesar Montano",
          "Fany de la Chica",
          "Jon Watts",
          "Carlos Borges",
          "Ebrahim Hatamikia",
          "Ben Stiller",
          "Jun Falkenstein",
          "Tim Johnson",
          "Jay Border",
          "Nick Cassavetes",
          "Hadrian Hooks",
          "Janks Morton",
          "Richard Curtis",
          "Nancy Meyers",
          "David McCracken",
          "Joel Townsend",
          "Stephen Chbosky",
          "Mani Maserrat Agah",
          "Thea Sharrock",
          "Sébastien Lifshitz",
          "Jamie Buckner",
          "Jesse Rose",
          "Adam Sputh",
          "Anne Wild",
          "Adam Shaw",
          "Alastair Siddons",
          "Josh Boone",
          "Steven S. DeKnight",
          "Wusi Liu",
          "Mohammad Ali Bashe Ahangar",
          "Frank Lin",
          "Lawrence Fajardo",
          "Kaidan Tremain",
          "Noube Rateau",
          "Kevin Lincoln",
          "Pete Meads",
          "Sébastien Grall",
          "Stephen Frears",
          "Pouran Esrafily",
          "Kelly Asbury",
          "Jono Oliver",
          "Larry Brand",
          "Glenn Ficarra",
          "John Requa",
          "Adrian Molina",
          "Maximilian Hult",
          "Martin Schreier",
          "Robert Delamere",
          "George Clooney",
          "Enzo D'Alò",
          "Dan Mazer",
          "Manish Gupta",
          "Sunil Prem Vyas",
          "B.V.S. Ravi",
          "Jason Stamp",
          "The Tilford Brothers",
          "Thor Freudenthal",
          "Vaggelis Rigas",
          "Puja Bedi",
          "Nikolay Renard",
          "Yelena Renard",
          "Heather Robinson",
          "Tom McCarthy",
          "Kaloni Davis",
          "Robert Zemeckis",
          "Peter Lepeniotis",
          "Angelina Jolie",
          "Beri Shalmashi",
          "Sanne Vogel",
          "Scott Speer",
          "Kathryn Bigelow",
          "Espen Sandberg",
          "Joachim Rønning",
          "Brandon Young",
          "Vanja Kovacevic",
          "Atsushi Wada",
          "Simon West",
          "Sachin P. Karande",
          "Rabi Kinagi",
          "Rupert Sanders",
          "Reinhard Klooss",
          "Miguel Arteta",
          "Simon J. Smith",
          "Giuseppe Malpasso",
          "Fernando J. Scarpa",
          "Katharine Round",
          "Niki Iliev",
          "Gavin O'Connor",
          "John Lee Hancock",
          "Tarik Freitekh",
          "Angus Sampson",
          "Tony Mahony",
          "Tom Boyle",
          "Mel Gibson",
          "Anthony Deveney",
          "Ben Falcone",
          "Ronnie Del Carmen",
          "Pete Docter",
          "Bobby Farrelly",
          "Oleg Pogodin",
          "Muzaffer Özdemir",
          "Gary Breslin",
          "Young-Sung Sohn",
          "Nasir Rahim",
          "Shigeyuki Tanaka",
          "James Fotopoulos",
          "Yimou Zhang",
          "Steve McQueen",
          "James Gunn",
          "Kris Pearn",
          "Cody Cameron",
          "Fergal Reilly",
          "Clay Kaytis",
          "Dean Devlin",
          "Alan Taylor",
          "Peter Sohn",
          "Nick Willing"
         ],
         "y": [
          6,
          5,
          5,
          5,
          5,
          5,
          5,
          4,
          4,
          4,
          4,
          4,
          3,
          3,
          3,
          3,
          3,
          3,
          3,
          3,
          3,
          3,
          3,
          3,
          3,
          3,
          3,
          3,
          3,
          3,
          3,
          3,
          3,
          3,
          3,
          3,
          3,
          3,
          3,
          3,
          3,
          3,
          3,
          3,
          3,
          3,
          3,
          3,
          3,
          3,
          3,
          3,
          3,
          3,
          3,
          3,
          3,
          2,
          2,
          2,
          2,
          2,
          2,
          2,
          2,
          2,
          2,
          2,
          2,
          2,
          2,
          2,
          2,
          2,
          2,
          2,
          2,
          2,
          2,
          2,
          2,
          2,
          2,
          2,
          2,
          2,
          2,
          2,
          2,
          2,
          2,
          2,
          2,
          2,
          2,
          2,
          2,
          2,
          2,
          2,
          2,
          2,
          2,
          2,
          2,
          2,
          2,
          2,
          2,
          2,
          2,
          2,
          2,
          2,
          2,
          2,
          2,
          2,
          2,
          2,
          2,
          2,
          2,
          2,
          2,
          2,
          2,
          2,
          2,
          2,
          2,
          2,
          2,
          2,
          2,
          2,
          2,
          2,
          2,
          2,
          2,
          2,
          2,
          2,
          2,
          2,
          2,
          2,
          2,
          2,
          1,
          1,
          1,
          1,
          1,
          1,
          1,
          1,
          1,
          1,
          1,
          1,
          1,
          1,
          1,
          1,
          1,
          1,
          1,
          1,
          1,
          1,
          1,
          1,
          1,
          1,
          1,
          1,
          1,
          1,
          1,
          1,
          1,
          1,
          1,
          1,
          1,
          1,
          1,
          1,
          1,
          1,
          1,
          1,
          1,
          1,
          1,
          1,
          1,
          1,
          1,
          1,
          1,
          1,
          1,
          1,
          1,
          1,
          1,
          1,
          1,
          1,
          1,
          1,
          1,
          1,
          1,
          1,
          1,
          1,
          1,
          1,
          1,
          1,
          1,
          1,
          1,
          1,
          1,
          1,
          1,
          1,
          1,
          1,
          1,
          1,
          1,
          1,
          1,
          1,
          1,
          1,
          1,
          1,
          1,
          1,
          1,
          1,
          1,
          1,
          1,
          1,
          1,
          1,
          1,
          1,
          1,
          1,
          1,
          1,
          1,
          1,
          1,
          1,
          1,
          1,
          1,
          1,
          1,
          1,
          1,
          1,
          1,
          1,
          1,
          1,
          1,
          1,
          1,
          1,
          1,
          1,
          1,
          1,
          1,
          1,
          1,
          1,
          1,
          1,
          1,
          1,
          1,
          1,
          1,
          1,
          1,
          1,
          1,
          1,
          1,
          1,
          1,
          1,
          1,
          1,
          1,
          1,
          1,
          1,
          1,
          1,
          1,
          1,
          1,
          1,
          1,
          1,
          1,
          1,
          1,
          1,
          1,
          1,
          1,
          1,
          1,
          1,
          1,
          1,
          1,
          1,
          1,
          1,
          1,
          1,
          1,
          1,
          1,
          1,
          1,
          1,
          1,
          1,
          1,
          1,
          1,
          1,
          1,
          1,
          1,
          1,
          1,
          1,
          1,
          1,
          1,
          1,
          1,
          1,
          1,
          1,
          1,
          1,
          1,
          1,
          1,
          1,
          1,
          1,
          1,
          1,
          1,
          1,
          1,
          1,
          1,
          1,
          1,
          1,
          1,
          1,
          1,
          1,
          1,
          1,
          1,
          1,
          1,
          1,
          1,
          1,
          1,
          1,
          1,
          1,
          1,
          1,
          1,
          1,
          1,
          1,
          1,
          1,
          1,
          1,
          1,
          1,
          1,
          1,
          1,
          1,
          1,
          1,
          1,
          1,
          1,
          1,
          1,
          1,
          1,
          1,
          1,
          1,
          1,
          1,
          1,
          1,
          1,
          1,
          1,
          1,
          1,
          1,
          1,
          1,
          1,
          1,
          1,
          1,
          1,
          1,
          1,
          1,
          1,
          1,
          1,
          1,
          1,
          1,
          1,
          1,
          1,
          1,
          1,
          1,
          1,
          1,
          1,
          1,
          1,
          1,
          1,
          1,
          1,
          1,
          1,
          1,
          1,
          1,
          1,
          1,
          1,
          1,
          1,
          1,
          1,
          1,
          1,
          1,
          1,
          1,
          1,
          1,
          1,
          1,
          1,
          1,
          1,
          1,
          1,
          1,
          1,
          1,
          1,
          1,
          1,
          1,
          1,
          1,
          1,
          1,
          1,
          1,
          1,
          1,
          1,
          1,
          1,
          1,
          1,
          1,
          1,
          1,
          1,
          1,
          1,
          1,
          1,
          1,
          1,
          1,
          1,
          1,
          1,
          1,
          1,
          1,
          1,
          1,
          1,
          1,
          1,
          1,
          1,
          1,
          1,
          1,
          1,
          1,
          1,
          1,
          1,
          1,
          1,
          1,
          1,
          1,
          1,
          1,
          1,
          1,
          1,
          1,
          1,
          1,
          1,
          1,
          1,
          1,
          1,
          1,
          1,
          1,
          1,
          1,
          1,
          1,
          1,
          1,
          1,
          1,
          1,
          1,
          1,
          1,
          1,
          1,
          1,
          1,
          1,
          1,
          1,
          1,
          1,
          1,
          1,
          1,
          1,
          1,
          1,
          1,
          1,
          1,
          1,
          1,
          1,
          1,
          1,
          1,
          1,
          1,
          1,
          1,
          1,
          1,
          1,
          1,
          1,
          1,
          1,
          1,
          1,
          1,
          1,
          1,
          1,
          1,
          1,
          1,
          1,
          1,
          1,
          1,
          1,
          1,
          1,
          1,
          1,
          1,
          1,
          1,
          1,
          1,
          1,
          1,
          1,
          1,
          1,
          1,
          1,
          1,
          1,
          1,
          1,
          1,
          1,
          1,
          1,
          1,
          1,
          1,
          1,
          1,
          1,
          1,
          1,
          1,
          1,
          1,
          1,
          1,
          1,
          1,
          1,
          1,
          1,
          1,
          1,
          1,
          1,
          1,
          1,
          1,
          1,
          1,
          1,
          1,
          1,
          1,
          1,
          1,
          1
         ]
        }
       ],
       "layout": {
        "legend": {
         "bgcolor": "#F5F6F9",
         "font": {
          "color": "#4D5663"
         }
        },
        "paper_bgcolor": "#F5F6F9",
        "plot_bgcolor": "#F5F6F9",
        "template": {
         "data": {
          "bar": [
           {
            "error_x": {
             "color": "#2a3f5f"
            },
            "error_y": {
             "color": "#2a3f5f"
            },
            "marker": {
             "line": {
              "color": "#E5ECF6",
              "width": 0.5
             }
            },
            "type": "bar"
           }
          ],
          "barpolar": [
           {
            "marker": {
             "line": {
              "color": "#E5ECF6",
              "width": 0.5
             }
            },
            "type": "barpolar"
           }
          ],
          "carpet": [
           {
            "aaxis": {
             "endlinecolor": "#2a3f5f",
             "gridcolor": "white",
             "linecolor": "white",
             "minorgridcolor": "white",
             "startlinecolor": "#2a3f5f"
            },
            "baxis": {
             "endlinecolor": "#2a3f5f",
             "gridcolor": "white",
             "linecolor": "white",
             "minorgridcolor": "white",
             "startlinecolor": "#2a3f5f"
            },
            "type": "carpet"
           }
          ],
          "choropleth": [
           {
            "colorbar": {
             "outlinewidth": 0,
             "ticks": ""
            },
            "type": "choropleth"
           }
          ],
          "contour": [
           {
            "colorbar": {
             "outlinewidth": 0,
             "ticks": ""
            },
            "colorscale": [
             [
              0,
              "#0d0887"
             ],
             [
              0.1111111111111111,
              "#46039f"
             ],
             [
              0.2222222222222222,
              "#7201a8"
             ],
             [
              0.3333333333333333,
              "#9c179e"
             ],
             [
              0.4444444444444444,
              "#bd3786"
             ],
             [
              0.5555555555555556,
              "#d8576b"
             ],
             [
              0.6666666666666666,
              "#ed7953"
             ],
             [
              0.7777777777777778,
              "#fb9f3a"
             ],
             [
              0.8888888888888888,
              "#fdca26"
             ],
             [
              1,
              "#f0f921"
             ]
            ],
            "type": "contour"
           }
          ],
          "contourcarpet": [
           {
            "colorbar": {
             "outlinewidth": 0,
             "ticks": ""
            },
            "type": "contourcarpet"
           }
          ],
          "heatmap": [
           {
            "colorbar": {
             "outlinewidth": 0,
             "ticks": ""
            },
            "colorscale": [
             [
              0,
              "#0d0887"
             ],
             [
              0.1111111111111111,
              "#46039f"
             ],
             [
              0.2222222222222222,
              "#7201a8"
             ],
             [
              0.3333333333333333,
              "#9c179e"
             ],
             [
              0.4444444444444444,
              "#bd3786"
             ],
             [
              0.5555555555555556,
              "#d8576b"
             ],
             [
              0.6666666666666666,
              "#ed7953"
             ],
             [
              0.7777777777777778,
              "#fb9f3a"
             ],
             [
              0.8888888888888888,
              "#fdca26"
             ],
             [
              1,
              "#f0f921"
             ]
            ],
            "type": "heatmap"
           }
          ],
          "heatmapgl": [
           {
            "colorbar": {
             "outlinewidth": 0,
             "ticks": ""
            },
            "colorscale": [
             [
              0,
              "#0d0887"
             ],
             [
              0.1111111111111111,
              "#46039f"
             ],
             [
              0.2222222222222222,
              "#7201a8"
             ],
             [
              0.3333333333333333,
              "#9c179e"
             ],
             [
              0.4444444444444444,
              "#bd3786"
             ],
             [
              0.5555555555555556,
              "#d8576b"
             ],
             [
              0.6666666666666666,
              "#ed7953"
             ],
             [
              0.7777777777777778,
              "#fb9f3a"
             ],
             [
              0.8888888888888888,
              "#fdca26"
             ],
             [
              1,
              "#f0f921"
             ]
            ],
            "type": "heatmapgl"
           }
          ],
          "histogram": [
           {
            "marker": {
             "colorbar": {
              "outlinewidth": 0,
              "ticks": ""
             }
            },
            "type": "histogram"
           }
          ],
          "histogram2d": [
           {
            "colorbar": {
             "outlinewidth": 0,
             "ticks": ""
            },
            "colorscale": [
             [
              0,
              "#0d0887"
             ],
             [
              0.1111111111111111,
              "#46039f"
             ],
             [
              0.2222222222222222,
              "#7201a8"
             ],
             [
              0.3333333333333333,
              "#9c179e"
             ],
             [
              0.4444444444444444,
              "#bd3786"
             ],
             [
              0.5555555555555556,
              "#d8576b"
             ],
             [
              0.6666666666666666,
              "#ed7953"
             ],
             [
              0.7777777777777778,
              "#fb9f3a"
             ],
             [
              0.8888888888888888,
              "#fdca26"
             ],
             [
              1,
              "#f0f921"
             ]
            ],
            "type": "histogram2d"
           }
          ],
          "histogram2dcontour": [
           {
            "colorbar": {
             "outlinewidth": 0,
             "ticks": ""
            },
            "colorscale": [
             [
              0,
              "#0d0887"
             ],
             [
              0.1111111111111111,
              "#46039f"
             ],
             [
              0.2222222222222222,
              "#7201a8"
             ],
             [
              0.3333333333333333,
              "#9c179e"
             ],
             [
              0.4444444444444444,
              "#bd3786"
             ],
             [
              0.5555555555555556,
              "#d8576b"
             ],
             [
              0.6666666666666666,
              "#ed7953"
             ],
             [
              0.7777777777777778,
              "#fb9f3a"
             ],
             [
              0.8888888888888888,
              "#fdca26"
             ],
             [
              1,
              "#f0f921"
             ]
            ],
            "type": "histogram2dcontour"
           }
          ],
          "mesh3d": [
           {
            "colorbar": {
             "outlinewidth": 0,
             "ticks": ""
            },
            "type": "mesh3d"
           }
          ],
          "parcoords": [
           {
            "line": {
             "colorbar": {
              "outlinewidth": 0,
              "ticks": ""
             }
            },
            "type": "parcoords"
           }
          ],
          "pie": [
           {
            "automargin": true,
            "type": "pie"
           }
          ],
          "scatter": [
           {
            "marker": {
             "colorbar": {
              "outlinewidth": 0,
              "ticks": ""
             }
            },
            "type": "scatter"
           }
          ],
          "scatter3d": [
           {
            "line": {
             "colorbar": {
              "outlinewidth": 0,
              "ticks": ""
             }
            },
            "marker": {
             "colorbar": {
              "outlinewidth": 0,
              "ticks": ""
             }
            },
            "type": "scatter3d"
           }
          ],
          "scattercarpet": [
           {
            "marker": {
             "colorbar": {
              "outlinewidth": 0,
              "ticks": ""
             }
            },
            "type": "scattercarpet"
           }
          ],
          "scattergeo": [
           {
            "marker": {
             "colorbar": {
              "outlinewidth": 0,
              "ticks": ""
             }
            },
            "type": "scattergeo"
           }
          ],
          "scattergl": [
           {
            "marker": {
             "colorbar": {
              "outlinewidth": 0,
              "ticks": ""
             }
            },
            "type": "scattergl"
           }
          ],
          "scattermapbox": [
           {
            "marker": {
             "colorbar": {
              "outlinewidth": 0,
              "ticks": ""
             }
            },
            "type": "scattermapbox"
           }
          ],
          "scatterpolar": [
           {
            "marker": {
             "colorbar": {
              "outlinewidth": 0,
              "ticks": ""
             }
            },
            "type": "scatterpolar"
           }
          ],
          "scatterpolargl": [
           {
            "marker": {
             "colorbar": {
              "outlinewidth": 0,
              "ticks": ""
             }
            },
            "type": "scatterpolargl"
           }
          ],
          "scatterternary": [
           {
            "marker": {
             "colorbar": {
              "outlinewidth": 0,
              "ticks": ""
             }
            },
            "type": "scatterternary"
           }
          ],
          "surface": [
           {
            "colorbar": {
             "outlinewidth": 0,
             "ticks": ""
            },
            "colorscale": [
             [
              0,
              "#0d0887"
             ],
             [
              0.1111111111111111,
              "#46039f"
             ],
             [
              0.2222222222222222,
              "#7201a8"
             ],
             [
              0.3333333333333333,
              "#9c179e"
             ],
             [
              0.4444444444444444,
              "#bd3786"
             ],
             [
              0.5555555555555556,
              "#d8576b"
             ],
             [
              0.6666666666666666,
              "#ed7953"
             ],
             [
              0.7777777777777778,
              "#fb9f3a"
             ],
             [
              0.8888888888888888,
              "#fdca26"
             ],
             [
              1,
              "#f0f921"
             ]
            ],
            "type": "surface"
           }
          ],
          "table": [
           {
            "cells": {
             "fill": {
              "color": "#EBF0F8"
             },
             "line": {
              "color": "white"
             }
            },
            "header": {
             "fill": {
              "color": "#C8D4E3"
             },
             "line": {
              "color": "white"
             }
            },
            "type": "table"
           }
          ]
         },
         "layout": {
          "annotationdefaults": {
           "arrowcolor": "#2a3f5f",
           "arrowhead": 0,
           "arrowwidth": 1
          },
          "autotypenumbers": "strict",
          "coloraxis": {
           "colorbar": {
            "outlinewidth": 0,
            "ticks": ""
           }
          },
          "colorscale": {
           "diverging": [
            [
             0,
             "#8e0152"
            ],
            [
             0.1,
             "#c51b7d"
            ],
            [
             0.2,
             "#de77ae"
            ],
            [
             0.3,
             "#f1b6da"
            ],
            [
             0.4,
             "#fde0ef"
            ],
            [
             0.5,
             "#f7f7f7"
            ],
            [
             0.6,
             "#e6f5d0"
            ],
            [
             0.7,
             "#b8e186"
            ],
            [
             0.8,
             "#7fbc41"
            ],
            [
             0.9,
             "#4d9221"
            ],
            [
             1,
             "#276419"
            ]
           ],
           "sequential": [
            [
             0,
             "#0d0887"
            ],
            [
             0.1111111111111111,
             "#46039f"
            ],
            [
             0.2222222222222222,
             "#7201a8"
            ],
            [
             0.3333333333333333,
             "#9c179e"
            ],
            [
             0.4444444444444444,
             "#bd3786"
            ],
            [
             0.5555555555555556,
             "#d8576b"
            ],
            [
             0.6666666666666666,
             "#ed7953"
            ],
            [
             0.7777777777777778,
             "#fb9f3a"
            ],
            [
             0.8888888888888888,
             "#fdca26"
            ],
            [
             1,
             "#f0f921"
            ]
           ],
           "sequentialminus": [
            [
             0,
             "#0d0887"
            ],
            [
             0.1111111111111111,
             "#46039f"
            ],
            [
             0.2222222222222222,
             "#7201a8"
            ],
            [
             0.3333333333333333,
             "#9c179e"
            ],
            [
             0.4444444444444444,
             "#bd3786"
            ],
            [
             0.5555555555555556,
             "#d8576b"
            ],
            [
             0.6666666666666666,
             "#ed7953"
            ],
            [
             0.7777777777777778,
             "#fb9f3a"
            ],
            [
             0.8888888888888888,
             "#fdca26"
            ],
            [
             1,
             "#f0f921"
            ]
           ]
          },
          "colorway": [
           "#636efa",
           "#EF553B",
           "#00cc96",
           "#ab63fa",
           "#FFA15A",
           "#19d3f3",
           "#FF6692",
           "#B6E880",
           "#FF97FF",
           "#FECB52"
          ],
          "font": {
           "color": "#2a3f5f"
          },
          "geo": {
           "bgcolor": "white",
           "lakecolor": "white",
           "landcolor": "#E5ECF6",
           "showlakes": true,
           "showland": true,
           "subunitcolor": "white"
          },
          "hoverlabel": {
           "align": "left"
          },
          "hovermode": "closest",
          "mapbox": {
           "style": "light"
          },
          "paper_bgcolor": "white",
          "plot_bgcolor": "#E5ECF6",
          "polar": {
           "angularaxis": {
            "gridcolor": "white",
            "linecolor": "white",
            "ticks": ""
           },
           "bgcolor": "#E5ECF6",
           "radialaxis": {
            "gridcolor": "white",
            "linecolor": "white",
            "ticks": ""
           }
          },
          "scene": {
           "xaxis": {
            "backgroundcolor": "#E5ECF6",
            "gridcolor": "white",
            "gridwidth": 2,
            "linecolor": "white",
            "showbackground": true,
            "ticks": "",
            "zerolinecolor": "white"
           },
           "yaxis": {
            "backgroundcolor": "#E5ECF6",
            "gridcolor": "white",
            "gridwidth": 2,
            "linecolor": "white",
            "showbackground": true,
            "ticks": "",
            "zerolinecolor": "white"
           },
           "zaxis": {
            "backgroundcolor": "#E5ECF6",
            "gridcolor": "white",
            "gridwidth": 2,
            "linecolor": "white",
            "showbackground": true,
            "ticks": "",
            "zerolinecolor": "white"
           }
          },
          "shapedefaults": {
           "line": {
            "color": "#2a3f5f"
           }
          },
          "ternary": {
           "aaxis": {
            "gridcolor": "white",
            "linecolor": "white",
            "ticks": ""
           },
           "baxis": {
            "gridcolor": "white",
            "linecolor": "white",
            "ticks": ""
           },
           "bgcolor": "#E5ECF6",
           "caxis": {
            "gridcolor": "white",
            "linecolor": "white",
            "ticks": ""
           }
          },
          "title": {
           "x": 0.05
          },
          "xaxis": {
           "automargin": true,
           "gridcolor": "white",
           "linecolor": "white",
           "ticks": "",
           "title": {
            "standoff": 15
           },
           "zerolinecolor": "white",
           "zerolinewidth": 2
          },
          "yaxis": {
           "automargin": true,
           "gridcolor": "white",
           "linecolor": "white",
           "ticks": "",
           "title": {
            "standoff": 15
           },
           "zerolinecolor": "white",
           "zerolinewidth": 2
          }
         }
        },
        "title": {
         "font": {
          "color": "#4D5663"
         },
         "text": "Directors of Top 25% Net Profit Films"
        },
        "xaxis": {
         "gridcolor": "#E1E5ED",
         "showgrid": true,
         "tickfont": {
          "color": "#4D5663"
         },
         "title": {
          "font": {
           "color": "#4D5663"
          },
          "text": ""
         },
         "zerolinecolor": "#E1E5ED"
        },
        "yaxis": {
         "gridcolor": "#E1E5ED",
         "showgrid": true,
         "tickfont": {
          "color": "#4D5663"
         },
         "title": {
          "font": {
           "color": "#4D5663"
          },
          "text": ""
         },
         "zerolinecolor": "#E1E5ED"
        }
       }
      },
      "text/html": [
       "<div>                            <div id=\"cb7dcd68-c4b1-4923-9174-5a343521857f\" class=\"plotly-graph-div\" style=\"height:525px; width:100%;\"></div>            <script type=\"text/javascript\">                require([\"plotly\"], function(Plotly) {                    window.PLOTLYENV=window.PLOTLYENV || {};\n",
       "                    window.PLOTLYENV.BASE_URL='https://plot.ly';                                    if (document.getElementById(\"cb7dcd68-c4b1-4923-9174-5a343521857f\")) {                    Plotly.newPlot(                        \"cb7dcd68-c4b1-4923-9174-5a343521857f\",                        [{\"marker\": {\"color\": \"rgba(255, 153, 51, 0.6)\", \"line\": {\"color\": \"rgba(255, 153, 51, 1.0)\", \"width\": 1}}, \"name\": \"count\", \"orientation\": \"v\", \"text\": \"\", \"type\": \"bar\", \"x\": [\"Steven Spielberg\", \"M. Night Shyamalan\", \"Jon M. Chu\", \"Ridley Scott\", \"Paul Feig\", \"Francis Lawrence\", \"Kenneth Branagh\", \"Pierre Coffin\", \"Antoine Fuqua\", \"Mike Mitchell\", \"Christopher Nolan\", \"James Wan\", \"Peter Jackson\", \"David Yates\", \"Nicholas Stoller\", \"Marilyn Barnes\", \"Dean DeBlois\", \"Chris Renaud\", \"David O. Russell\", \"Michael Bay\", \"Brad Peyton\", \"Genndy Tartakovsky\", \"Jaume Collet-Serra\", \"Guy Ritchie\", \"Tom McGrath\", \"James DeMonaco\", \"Rawson Marshall Thurber\", \"James Mangold\", \"Tim Burton\", \"Kay Cannon\", \"Guillermo del Toro\", \"Seth Gordon\", \"Tim Story\", \"Clint Eastwood\", \"Rob Marshall\", \"Jake Kasdan\", \"Jon Favreau\", \"Conrad Vernon\", \"Neil Burger\", \"Joe Russo\", \"Anthony Russo\", \"Bryan Singer\", \"Paul W.S. Anderson\", \"David F. Sandberg\", \"Zack Snyder\", \"Adam McKay\", \"Baltasar Korm\\u00e1kur\", \"Shawn Levy\", \"Christopher Miller\", \"Phil Lord\", \"Matthew Vaughn\", \"Gareth Edwards\", \"Carlos Saldanha\", \"David Fincher\", \"Will Gluck\", \"Jonathan Liebesman\", \"Dennis Dugan\", \"Abhijit Guha\", \"Morten Tyldum\", \"Sudeshna Roy\", \"J.J. Abrams\", \"David Ayer\", \"Len Wiseman\", \"Jennifer Yuh Nelson\", \"Chris Williams\", \"Eric Darnell\", \"Shane Black\", \"Wes Ball\", \"Andy Muschietti\", \"Olivier Megaton\", \"F. Gary Gray\", \"Don Hall\", \"Jonathan Goldstein\", \"John Madden\", \"Mike Thurmeier\", \"Denis Villeneuve\", \"J.A. Bayona\", \"Chance Taylor\", \"Rennie Cowan\", \"Alejandro G. I\\u00f1\\u00e1rritu\", \"Quentin Tarantino\", \"Jason Moore\", \"Steve Martino\", \"David Soren\", \"Jordan Peele\", \"Ryan Coogler\", \"Rajesh Pillai\", \"Rich Moore\", \"Ariel Schulman\", \"Henry Joost\", \"Kiran Nakti\", \"Seth MacFarlane\", \"David Sikhosana\", \"Tate Taylor\", \"Scott Waugh\", \"Matt Reeves\", \"Peter Farrelly\", \"Josh Trank\", \"John Francis Daley\", \"Tarsem Singh\", \"Paul Greengrass\", \"James Foley\", \"Bill Condon\", \"Doug Liman\", \"Steven Soderbergh\", \"Sarah Morris\", \"Woody Allen\", \"Scott Moore\", \"Jon Lucas\", \"Greg Tiernan\", \"Steven Quale\", \"Brett Ratner\", \"Justin Lin\", \"Christophe Gans\", \"Bob Golding\", \"Raja Gosnell\", \"Malcolm D. Lee\", \"Joss Whedon\", \"Marc Forster\", \"Peyton Reed\", \"Harald Zwart\", \"Chris Sanders\", \"Rob Letterman\", \"James Bobin\", \"Alex Kurtzman\", \"Louis Leterrier\", \"Duncan Jones\", \"Peter Berg\", \"Frank Coraci\", \"Chris Columbus\", \"Sam Mendes\", \"Ron Howard\", \"Vinod Venkatesh\", \"Lee Unkrich\", \"Martin Scorsese\", \"Lasse Hallstr\\u00f6m\", \"Jeff Tudor\", \"Kyle Balda\", \"Ben Affleck\", \"Jon Turteltaub\", \"Christopher Landon\", \"Scott Derrickson\", \"Byron Howard\", \"Elizabeth Banks\", \"Brad Dalton\", \"Marc Webb\", \"Darren Aronofsky\", \"Zane Burden\", \"Andr\\u00e9 Moraes\", \"Todd Phillips\", \"Mark France\", \"Jung Huh\", \"David Esbjornson\", \"Satya Deva\", \"Michael Dougherty\", \"James Powell\", \"Vinko Moderndorfer\", \"The Lowpriest\", \"Doug Sweetland\", \"Pia Justine Cruz\", \"Travis Knight\", \"Christopher M. Carter\", \"Jonathan Godfrey\", \"Braxton Merzlock\", \"Niki Caro\", \"Joe Wright\", \"Otto Bathurst\", \"Judd Apatow\", \"S.S. Rajamouli\", \"Hope Hartman\", \"Laurie Schenden\", \"Jaishankar Chigurula\", \"Sebastian Klinger\", \"Yorgos Lanthimos\", \"Nitesh Tiwari\", \"Ricardas Marcinkus\", \"Luc Besson\", \"Phil Giordano\", \"Jared Bush\", \"Christopher Young\", \"Martin McDonagh\", \"Madhur Bhandarkar\", \"Tony Leondis\", \"Trish Sie\", \"Rob Tari\", \"Walt Becker\", \"James Marsh\", \"Troy Murray\", \"Ruslan Magomadov\", \"Theodore Melfi\", \"Tristan Clay\", \"Andrew Smith\", \"Matthew Daunt\", \"Darren Doane\", \"Sujit Mondal\", \"John Hamburg\", \"Josh Jones\", \"Mostafa Kiayee\", \"Roschdy Zem\", \"Christophe Lourdelet\", \"Garth Jennings\", \"Taika Waititi\", \"J\\u00falio Alves\", \"Michael Colburn\", \"Richard Reade\", \"Ron Clements\", \"John Musker\", \"Dave Green\", \"Edgar Wright\", \"Kabir Khan\", \"Equan Choi\", \"Hangyu Kim\", \"Fran\\u00e7ois Favrat\", \"Tony Chan\", \"Alex Kendrick\", \"Chao Wang\", \"Robbie Walsh\", \"Connor Van Looveren-Baines\", \"Tony Clomax\", \"Brian Fee\", \"Dion Samsoondar\", \"Brad Bird\", \"Jake Schreier\", \"Damien Chazelle\", \"Mostafa Ahmadi\", \"Laura Clarke\", \"Jordan Vogt-Roberts\", \"Kirk Jones\", \"Veronica Pierce\", \"Eric Guillon\", \"Galen T. Chu\", \"Christopher H. Baum\", \"Mike Flanagan\", \"Jovanni Santos Graupera\", \"Ram\\u00f3n Gieling\", \"Garth Davis\", \"Renzo Aner\\u00f6d\", \"Babak Najafi\", \"Deborah Kampmeier\", \"Hanna Aner\\u00f6d\", \"John R. Leonetti\", \"Jared Chandler\", \"Step\\u00e1n Gajdos\", \"Jay Abello\", \"Anna Boden\", \"Peter Spierig\", \"Sang-woo Lee\", \"Ryan Fleck\", \"Michael Spierig\", \"Simon Gush\", \"James Cairns\", \"Rahim Behboodi Far\", \"Chris McKay\", \"Ross Whitaker\", \"Anne Klint\", \"Brett Sullivan\", \"Stephen Daldry\", \"Pete Middleton\", \"Edward Zwick\", \"Fien Troch\", \"Ashley Christopher Leach\", \"Simon McQuoid\", \"Ryan Lee\", \"Vince D'Amato\", \"Lan An\", \"Karthik Chandan\", \"Tatsuya Nagamine\", \"R. Kannan\", \"Nicole Borgeat\", \"Jill Magid\", \"Visakesa Chandrasekaram\", \"Reza Golchin\", \"Russell Davidson\", \"Nan Feix\", \"Kabat Esosa Egbon\", \"Chris Eneaji Eneng\", \"Matteo Garrone\", \"Lowladee Omolola Adeleke\", \"John Batemen\", \"Sunkanmi Adebayo\", \"Sean Sevestre\", \"Thiago J. Silva\", \"Sarik Andreasyan\", \"James Wilsher\", \"Mihajlo Obrenov\", \"Spike Lee\", \"Martin Sul\\u00edk\", \"Alfred Estcourt\", \"Juan Carlos Rulfo\", \"Sean Anders\", \"Guillaume Chemouili\", \"Holly Bell\", \"Jason Gerbay\", \"Xingzheng Jin\", \"Tadhg O'Sullivan\", \"Luciana Kaplan\", \"Susan Geldart\", \"Lance B. Witmer\", \"Christoph Schaub\", \"Dario Pleic\", \"Vik Sivalingham\", \"Gigisha Abashidze\", \"Adnan A. Shaikh\", \"Lidia Ravviso\", \"Donna Scheer\", \"Reed Meschefske\", \"Paul Hendy\", \"Steven Atkinson\", \"Vikram Bhatt\", \"Julien Crampes\", \"Nikolaus Geyrhalter\", \"Sohee Myoung\", \"Anthony Banks\", \"Riingo Banerjee\", \"Prachya Pinkaew\", \"Tomislav Zaja\", \"Michelle Groves\", \"Riley Rutter\", \"Scott Binnendijk\", \"Cagla Karslioglu\", \"David Reilly\", \"Michael Grandage\", \"Ravi Punj\", \"Mickey Fonseca\", \"Randi Pratama\", \"Bernard Kordieh\", \"Damien O'Neill\", \"Peter Entell\", \"Johnny M. Sizemore\", \"Kerrick Greer\", \"Patrick Johnson\", \"Dustin Rosemark\", \"Kim Min-Ho\", \"Kirby Hammond\", \"Yotam Rozin\", \"Daniel Sivan\", \"Asaf Lavi Harel\", \"Sam Icklow\", \"Ben Ducker\", \"Yaser Talebi\", \"Andrius Blazevicius\", \"Lynn Moody\", \"Johanna Valero\", \"Michael Giannantonio\", \"Gayatri Bajpai\", \"Anil Kulchainiya\", \"Suzette Reyes\", \"Ki-duk Kim\", \"Vrinda Samartha\", \"Gustavo Goulart\", \"Gerard McMurray\", \"Marcus C.W. Chan\", \"Adam Robitel\", \"Kook-Hee Choi\", \"Ruby Klein\", \"Antonio Di Trapani\", \"Marco De Angelis\", \"Andr\\u00e9-Line Beauparlant\", \"Feihong Chen\", \"Jason R. Gray\", \"Elisa Chee\", \"Jose G. Ramos\", \"Jie Liu\", \"Vlado Skafar\", \"Mohsin Ali\", \"David Leitch\", \"Lawrence C\\u00f4t\\u00e9-Collins\", \"G.M. Whiting\", \"Andrew Cohn\", \"Melinte Reitzema\", \"McCaslin Miles\", \"Robert Schulzmann\", \"Anthony Jones\", \"Brenton Morris\", \"Wajed Ali Sumon\", \"John Krasinski\", \"Imran Sheikh\", \"Avijit Sud\", \"Jeff Wadlow\", \"Bill Holderman\", \"Travis Williams\", \"Diana Brooks\", \"Aleksandra Strelyanaya\", \"Junshu Huang\", \"Yun Xie\", \"Neil Boultby\", \"Blake Harris\", \"Nancey Flowers\", \"Hem Raj B.C.\", \"Gudmund Sand\", \"Gareth Van Niekerk\", \"Haakon Sand\", \"Karey Kirkpatrick\", \"Jason Reisig\", \"Ali Ahmadzade\", \"Silas Pons\", \"Veronika Djoulai\", \"Steven Caple Jr.\", \"Christoffer Dreyer\", \"Sjoerd Oostrik\", \"Jacalyn Evone\", \"Jon Erwin\", \"Andrew Erwin\", \"Justin Baldoni\", \"Vitaliy Versace\", \"James Bailey\", \"Kevin Johnson\", \"Jessica Cameron\", \"Kyle Lawrence\", \"Tim Miller\", \"Peter Ramsey\", \"Dan Scanlon\", \"Alfonso Cuar\\u00f3n\", \"Sunandan Walia\", \"Yugesh Walia\", \"Caleb Doyle\", \"William Brent Bell\", \"Joseph Kosinski\", \"Michael Gracey\", \"Mark Gustafson\", \"David Gordon Green\", \"Neill Blomkamp\", \"David Frankel\", \"Peter Lord\", \"Jeff Newitt\", \"Jennifer Baichwal\", \"Tommy Wirkola\", \"Nimr\\u00f3d Antal\", \"Tim Hill\", \"Ivan Reitman\", \"Barry Sonnenfeld\", \"Joel Coen\", \"Ethan Coen\", \"George Miller\", \"Gary Ross\", \"George Nolfi\", \"Roar Uthaug\", \"Baz Luhrmann\", \"Lee Daniels\", \"Scott Hicks\", \"Tod Williams\", \"Rob Greenberg\", \"Yarrow Cheney\", \"Andrew Niccol\", \"Roland Emmerich\", \"Stan Harrington\", \"Kely McClung\", \"Oliver Parker\", \"Clara Picasso\", \"Nima Nourizadeh\", \"Artie Mandelberg\", \"Bentley Dean\", \"Larry Charles\", \"Fabrice Gobert\", \"Tar\\u00f4 Ohtani\", \"Michel Hazanavicius\", \"Jacek Lusinski\", \"Daming Chen\", \"Sam Raimi\", \"Martin Campbell\", \"Chi-kin Kwok\", \"Timur Bekmambetov\", \"Michael Sucsy\", \"John Moore\", \"Richard Dailey\", \"Hayden Schlossberg\", \"Jon Hurwitz\", \"Daniel Espinosa\", \"Sangeeth Sivan\", \"James Watkins\", \"McG\", \"Mike McCoy\", \"Jonathan Levine\", \"Robert Stromberg\", \"Martin Butler\", \"David Slade\", \"Adam Green\", \"Sylvester Stallone\", \"Michel Gondry\", \"Rob Minkoff\", \"Ryan Murphy\", \"Alister Grierson\", \"Phillip Noyce\", \"Paul Weitz\", \"Michael Apted\", \"Phyllida Lloyd\", \"Rupert Wyatt\", \"Patrick Fileti\", \"Gil Kenan\", \"Alexander Payne\", \"James Blagden\", \"Roni Moore\", \"Albert Hughes\", \"Chris Wedge\", \"Dennis Widmyer\", \"Kevin K\\u00f6lsch\", \"Gary Shore\", \"Garry Marshall\", \"Michael Radford\", \"Sebastien Grousset\", \"Christopher McQuarrie\", \"Kirk DeMicco\", \"Tony Scott\", \"Joe Johnston\", \"Ang Lee\", \"Patty Jenkins\", \"Chris Miller\", \"Robert Rodriguez\", \"Nathan Greno\", \"Colin Trevorrow\", \"Allen Hughes\", \"Andy Tennant\", \"Tayo Osasona\", \"John Lasseter\", \"Eric Brevig\", \"Julie Anne Robinson\", \"D.J. Caruso\", \"Fede Alvarez\", \"Rian Johnson\", \"Ruben Fleischer\", \"Michael Patrick King\", \"David Barker\", \"Noam Murro\", \"Florian Henckel von Donnersmarck\", \"Jos\\u00e9 Padilha\", \"Mark Andrews\", \"Steve Purcell\", \"Brenda Chapman\", \"Bradford Lewis\", \"Carol Fauls\", \"Stiles White\", \"Tony Gilroy\", \"Gore Verbinski\", \"Dan Trachtenberg\", \"Samuel Bayer\", \"Jeff Tremaine\", \"Paul King\", \"John Stronach\", \"Bill Boyce\", \"Gregori J. Martin\", \"Mark Neveldine\", \"Brian Taylor\", \"Craig Brewer\", \"Andy Fickman\", \"Jin-moo Kim\", \"Walt Dohrn\", \"Victor Vu\", \"George Anton\", \"Angus MacLane\", \"Wes Anderson\", \"Paul Tibbitt\", \"Chris Buck\", \"Jennifer Lee\", \"Maxim Suhaguzov\", \"J Blakeson\", \"Danielle Colman\", \"Zhi-yu Ma\", \"Sam Taylor-Johnson\", \"J\\u00e1nos Sz\\u00e1sz\", \"Patrick Hughes\", \"Sang-il Lee\", \"Diederik Van Rooijen\", \"Andrew Stanton\", \"Gregory Jacobs\", \"Alessandro Carloni\", \"Larry Greene\", \"Cesar Montano\", \"Fany de la Chica\", \"Jon Watts\", \"Carlos Borges\", \"Ebrahim Hatamikia\", \"Ben Stiller\", \"Jun Falkenstein\", \"Tim Johnson\", \"Jay Border\", \"Nick Cassavetes\", \"Hadrian Hooks\", \"Janks Morton\", \"Richard Curtis\", \"Nancy Meyers\", \"David McCracken\", \"Joel Townsend\", \"Stephen Chbosky\", \"Mani Maserrat Agah\", \"Thea Sharrock\", \"S\\u00e9bastien Lifshitz\", \"Jamie Buckner\", \"Jesse Rose\", \"Adam Sputh\", \"Anne Wild\", \"Adam Shaw\", \"Alastair Siddons\", \"Josh Boone\", \"Steven S. DeKnight\", \"Wusi Liu\", \"Mohammad Ali Bashe Ahangar\", \"Frank Lin\", \"Lawrence Fajardo\", \"Kaidan Tremain\", \"Noube Rateau\", \"Kevin Lincoln\", \"Pete Meads\", \"S\\u00e9bastien Grall\", \"Stephen Frears\", \"Pouran Esrafily\", \"Kelly Asbury\", \"Jono Oliver\", \"Larry Brand\", \"Glenn Ficarra\", \"John Requa\", \"Adrian Molina\", \"Maximilian Hult\", \"Martin Schreier\", \"Robert Delamere\", \"George Clooney\", \"Enzo D'Al\\u00f2\", \"Dan Mazer\", \"Manish Gupta\", \"Sunil Prem Vyas\", \"B.V.S. Ravi\", \"Jason Stamp\", \"The Tilford Brothers\", \"Thor Freudenthal\", \"Vaggelis Rigas\", \"Puja Bedi\", \"Nikolay Renard\", \"Yelena Renard\", \"Heather Robinson\", \"Tom McCarthy\", \"Kaloni Davis\", \"Robert Zemeckis\", \"Peter Lepeniotis\", \"Angelina Jolie\", \"Beri Shalmashi\", \"Sanne Vogel\", \"Scott Speer\", \"Kathryn Bigelow\", \"Espen Sandberg\", \"Joachim R\\u00f8nning\", \"Brandon Young\", \"Vanja Kovacevic\", \"Atsushi Wada\", \"Simon West\", \"Sachin P. Karande\", \"Rabi Kinagi\", \"Rupert Sanders\", \"Reinhard Klooss\", \"Miguel Arteta\", \"Simon J. Smith\", \"Giuseppe Malpasso\", \"Fernando J. Scarpa\", \"Katharine Round\", \"Niki Iliev\", \"Gavin O'Connor\", \"John Lee Hancock\", \"Tarik Freitekh\", \"Angus Sampson\", \"Tony Mahony\", \"Tom Boyle\", \"Mel Gibson\", \"Anthony Deveney\", \"Ben Falcone\", \"Ronnie Del Carmen\", \"Pete Docter\", \"Bobby Farrelly\", \"Oleg Pogodin\", \"Muzaffer \\u00d6zdemir\", \"Gary Breslin\", \"Young-Sung Sohn\", \"Nasir Rahim\", \"Shigeyuki Tanaka\", \"James Fotopoulos\", \"Yimou Zhang\", \"Steve McQueen\", \"James Gunn\", \"Kris Pearn\", \"Cody Cameron\", \"Fergal Reilly\", \"Clay Kaytis\", \"Dean Devlin\", \"Alan Taylor\", \"Peter Sohn\", \"Nick Willing\"], \"y\": [6, 5, 5, 5, 5, 5, 5, 4, 4, 4, 4, 4, 3, 3, 3, 3, 3, 3, 3, 3, 3, 3, 3, 3, 3, 3, 3, 3, 3, 3, 3, 3, 3, 3, 3, 3, 3, 3, 3, 3, 3, 3, 3, 3, 3, 3, 3, 3, 3, 3, 3, 3, 3, 3, 3, 3, 3, 2, 2, 2, 2, 2, 2, 2, 2, 2, 2, 2, 2, 2, 2, 2, 2, 2, 2, 2, 2, 2, 2, 2, 2, 2, 2, 2, 2, 2, 2, 2, 2, 2, 2, 2, 2, 2, 2, 2, 2, 2, 2, 2, 2, 2, 2, 2, 2, 2, 2, 2, 2, 2, 2, 2, 2, 2, 2, 2, 2, 2, 2, 2, 2, 2, 2, 2, 2, 2, 2, 2, 2, 2, 2, 2, 2, 2, 2, 2, 2, 2, 2, 2, 2, 2, 2, 2, 2, 2, 2, 2, 2, 2, 1, 1, 1, 1, 1, 1, 1, 1, 1, 1, 1, 1, 1, 1, 1, 1, 1, 1, 1, 1, 1, 1, 1, 1, 1, 1, 1, 1, 1, 1, 1, 1, 1, 1, 1, 1, 1, 1, 1, 1, 1, 1, 1, 1, 1, 1, 1, 1, 1, 1, 1, 1, 1, 1, 1, 1, 1, 1, 1, 1, 1, 1, 1, 1, 1, 1, 1, 1, 1, 1, 1, 1, 1, 1, 1, 1, 1, 1, 1, 1, 1, 1, 1, 1, 1, 1, 1, 1, 1, 1, 1, 1, 1, 1, 1, 1, 1, 1, 1, 1, 1, 1, 1, 1, 1, 1, 1, 1, 1, 1, 1, 1, 1, 1, 1, 1, 1, 1, 1, 1, 1, 1, 1, 1, 1, 1, 1, 1, 1, 1, 1, 1, 1, 1, 1, 1, 1, 1, 1, 1, 1, 1, 1, 1, 1, 1, 1, 1, 1, 1, 1, 1, 1, 1, 1, 1, 1, 1, 1, 1, 1, 1, 1, 1, 1, 1, 1, 1, 1, 1, 1, 1, 1, 1, 1, 1, 1, 1, 1, 1, 1, 1, 1, 1, 1, 1, 1, 1, 1, 1, 1, 1, 1, 1, 1, 1, 1, 1, 1, 1, 1, 1, 1, 1, 1, 1, 1, 1, 1, 1, 1, 1, 1, 1, 1, 1, 1, 1, 1, 1, 1, 1, 1, 1, 1, 1, 1, 1, 1, 1, 1, 1, 1, 1, 1, 1, 1, 1, 1, 1, 1, 1, 1, 1, 1, 1, 1, 1, 1, 1, 1, 1, 1, 1, 1, 1, 1, 1, 1, 1, 1, 1, 1, 1, 1, 1, 1, 1, 1, 1, 1, 1, 1, 1, 1, 1, 1, 1, 1, 1, 1, 1, 1, 1, 1, 1, 1, 1, 1, 1, 1, 1, 1, 1, 1, 1, 1, 1, 1, 1, 1, 1, 1, 1, 1, 1, 1, 1, 1, 1, 1, 1, 1, 1, 1, 1, 1, 1, 1, 1, 1, 1, 1, 1, 1, 1, 1, 1, 1, 1, 1, 1, 1, 1, 1, 1, 1, 1, 1, 1, 1, 1, 1, 1, 1, 1, 1, 1, 1, 1, 1, 1, 1, 1, 1, 1, 1, 1, 1, 1, 1, 1, 1, 1, 1, 1, 1, 1, 1, 1, 1, 1, 1, 1, 1, 1, 1, 1, 1, 1, 1, 1, 1, 1, 1, 1, 1, 1, 1, 1, 1, 1, 1, 1, 1, 1, 1, 1, 1, 1, 1, 1, 1, 1, 1, 1, 1, 1, 1, 1, 1, 1, 1, 1, 1, 1, 1, 1, 1, 1, 1, 1, 1, 1, 1, 1, 1, 1, 1, 1, 1, 1, 1, 1, 1, 1, 1, 1, 1, 1, 1, 1, 1, 1, 1, 1, 1, 1, 1, 1, 1, 1, 1, 1, 1, 1, 1, 1, 1, 1, 1, 1, 1, 1, 1, 1, 1, 1, 1, 1, 1, 1, 1, 1, 1, 1, 1, 1, 1, 1, 1, 1, 1, 1, 1, 1, 1, 1, 1, 1, 1, 1, 1, 1, 1, 1, 1, 1, 1, 1, 1, 1, 1, 1, 1, 1, 1, 1, 1, 1, 1, 1, 1, 1, 1, 1, 1, 1, 1, 1, 1, 1, 1, 1, 1, 1, 1, 1, 1, 1, 1, 1, 1]}],                        {\"legend\": {\"bgcolor\": \"#F5F6F9\", \"font\": {\"color\": \"#4D5663\"}}, \"paper_bgcolor\": \"#F5F6F9\", \"plot_bgcolor\": \"#F5F6F9\", \"template\": {\"data\": {\"bar\": [{\"error_x\": {\"color\": \"#2a3f5f\"}, \"error_y\": {\"color\": \"#2a3f5f\"}, \"marker\": {\"line\": {\"color\": \"#E5ECF6\", \"width\": 0.5}}, \"type\": \"bar\"}], \"barpolar\": [{\"marker\": {\"line\": {\"color\": \"#E5ECF6\", \"width\": 0.5}}, \"type\": \"barpolar\"}], \"carpet\": [{\"aaxis\": {\"endlinecolor\": \"#2a3f5f\", \"gridcolor\": \"white\", \"linecolor\": \"white\", \"minorgridcolor\": \"white\", \"startlinecolor\": \"#2a3f5f\"}, \"baxis\": {\"endlinecolor\": \"#2a3f5f\", \"gridcolor\": \"white\", \"linecolor\": \"white\", \"minorgridcolor\": \"white\", \"startlinecolor\": \"#2a3f5f\"}, \"type\": \"carpet\"}], \"choropleth\": [{\"colorbar\": {\"outlinewidth\": 0, \"ticks\": \"\"}, \"type\": \"choropleth\"}], \"contour\": [{\"colorbar\": {\"outlinewidth\": 0, \"ticks\": \"\"}, \"colorscale\": [[0.0, \"#0d0887\"], [0.1111111111111111, \"#46039f\"], [0.2222222222222222, \"#7201a8\"], [0.3333333333333333, \"#9c179e\"], [0.4444444444444444, \"#bd3786\"], [0.5555555555555556, \"#d8576b\"], [0.6666666666666666, \"#ed7953\"], [0.7777777777777778, \"#fb9f3a\"], [0.8888888888888888, \"#fdca26\"], [1.0, \"#f0f921\"]], \"type\": \"contour\"}], \"contourcarpet\": [{\"colorbar\": {\"outlinewidth\": 0, \"ticks\": \"\"}, \"type\": \"contourcarpet\"}], \"heatmap\": [{\"colorbar\": {\"outlinewidth\": 0, \"ticks\": \"\"}, \"colorscale\": [[0.0, \"#0d0887\"], [0.1111111111111111, \"#46039f\"], [0.2222222222222222, \"#7201a8\"], [0.3333333333333333, \"#9c179e\"], [0.4444444444444444, \"#bd3786\"], [0.5555555555555556, \"#d8576b\"], [0.6666666666666666, \"#ed7953\"], [0.7777777777777778, \"#fb9f3a\"], [0.8888888888888888, \"#fdca26\"], [1.0, \"#f0f921\"]], \"type\": \"heatmap\"}], \"heatmapgl\": [{\"colorbar\": {\"outlinewidth\": 0, \"ticks\": \"\"}, \"colorscale\": [[0.0, \"#0d0887\"], [0.1111111111111111, \"#46039f\"], [0.2222222222222222, \"#7201a8\"], [0.3333333333333333, \"#9c179e\"], [0.4444444444444444, \"#bd3786\"], [0.5555555555555556, \"#d8576b\"], [0.6666666666666666, \"#ed7953\"], [0.7777777777777778, \"#fb9f3a\"], [0.8888888888888888, \"#fdca26\"], [1.0, \"#f0f921\"]], \"type\": \"heatmapgl\"}], \"histogram\": [{\"marker\": {\"colorbar\": {\"outlinewidth\": 0, \"ticks\": \"\"}}, \"type\": \"histogram\"}], \"histogram2d\": [{\"colorbar\": {\"outlinewidth\": 0, \"ticks\": \"\"}, \"colorscale\": [[0.0, \"#0d0887\"], [0.1111111111111111, \"#46039f\"], [0.2222222222222222, \"#7201a8\"], [0.3333333333333333, \"#9c179e\"], [0.4444444444444444, \"#bd3786\"], [0.5555555555555556, \"#d8576b\"], [0.6666666666666666, \"#ed7953\"], [0.7777777777777778, \"#fb9f3a\"], [0.8888888888888888, \"#fdca26\"], [1.0, \"#f0f921\"]], \"type\": \"histogram2d\"}], \"histogram2dcontour\": [{\"colorbar\": {\"outlinewidth\": 0, \"ticks\": \"\"}, \"colorscale\": [[0.0, \"#0d0887\"], [0.1111111111111111, \"#46039f\"], [0.2222222222222222, \"#7201a8\"], [0.3333333333333333, \"#9c179e\"], [0.4444444444444444, \"#bd3786\"], [0.5555555555555556, \"#d8576b\"], [0.6666666666666666, \"#ed7953\"], [0.7777777777777778, \"#fb9f3a\"], [0.8888888888888888, \"#fdca26\"], [1.0, \"#f0f921\"]], \"type\": \"histogram2dcontour\"}], \"mesh3d\": [{\"colorbar\": {\"outlinewidth\": 0, \"ticks\": \"\"}, \"type\": \"mesh3d\"}], \"parcoords\": [{\"line\": {\"colorbar\": {\"outlinewidth\": 0, \"ticks\": \"\"}}, \"type\": \"parcoords\"}], \"pie\": [{\"automargin\": true, \"type\": \"pie\"}], \"scatter\": [{\"marker\": {\"colorbar\": {\"outlinewidth\": 0, \"ticks\": \"\"}}, \"type\": \"scatter\"}], \"scatter3d\": [{\"line\": {\"colorbar\": {\"outlinewidth\": 0, \"ticks\": \"\"}}, \"marker\": {\"colorbar\": {\"outlinewidth\": 0, \"ticks\": \"\"}}, \"type\": \"scatter3d\"}], \"scattercarpet\": [{\"marker\": {\"colorbar\": {\"outlinewidth\": 0, \"ticks\": \"\"}}, \"type\": \"scattercarpet\"}], \"scattergeo\": [{\"marker\": {\"colorbar\": {\"outlinewidth\": 0, \"ticks\": \"\"}}, \"type\": \"scattergeo\"}], \"scattergl\": [{\"marker\": {\"colorbar\": {\"outlinewidth\": 0, \"ticks\": \"\"}}, \"type\": \"scattergl\"}], \"scattermapbox\": [{\"marker\": {\"colorbar\": {\"outlinewidth\": 0, \"ticks\": \"\"}}, \"type\": \"scattermapbox\"}], \"scatterpolar\": [{\"marker\": {\"colorbar\": {\"outlinewidth\": 0, \"ticks\": \"\"}}, \"type\": \"scatterpolar\"}], \"scatterpolargl\": [{\"marker\": {\"colorbar\": {\"outlinewidth\": 0, \"ticks\": \"\"}}, \"type\": \"scatterpolargl\"}], \"scatterternary\": [{\"marker\": {\"colorbar\": {\"outlinewidth\": 0, \"ticks\": \"\"}}, \"type\": \"scatterternary\"}], \"surface\": [{\"colorbar\": {\"outlinewidth\": 0, \"ticks\": \"\"}, \"colorscale\": [[0.0, \"#0d0887\"], [0.1111111111111111, \"#46039f\"], [0.2222222222222222, \"#7201a8\"], [0.3333333333333333, \"#9c179e\"], [0.4444444444444444, \"#bd3786\"], [0.5555555555555556, \"#d8576b\"], [0.6666666666666666, \"#ed7953\"], [0.7777777777777778, \"#fb9f3a\"], [0.8888888888888888, \"#fdca26\"], [1.0, \"#f0f921\"]], \"type\": \"surface\"}], \"table\": [{\"cells\": {\"fill\": {\"color\": \"#EBF0F8\"}, \"line\": {\"color\": \"white\"}}, \"header\": {\"fill\": {\"color\": \"#C8D4E3\"}, \"line\": {\"color\": \"white\"}}, \"type\": \"table\"}]}, \"layout\": {\"annotationdefaults\": {\"arrowcolor\": \"#2a3f5f\", \"arrowhead\": 0, \"arrowwidth\": 1}, \"autotypenumbers\": \"strict\", \"coloraxis\": {\"colorbar\": {\"outlinewidth\": 0, \"ticks\": \"\"}}, \"colorscale\": {\"diverging\": [[0, \"#8e0152\"], [0.1, \"#c51b7d\"], [0.2, \"#de77ae\"], [0.3, \"#f1b6da\"], [0.4, \"#fde0ef\"], [0.5, \"#f7f7f7\"], [0.6, \"#e6f5d0\"], [0.7, \"#b8e186\"], [0.8, \"#7fbc41\"], [0.9, \"#4d9221\"], [1, \"#276419\"]], \"sequential\": [[0.0, \"#0d0887\"], [0.1111111111111111, \"#46039f\"], [0.2222222222222222, \"#7201a8\"], [0.3333333333333333, \"#9c179e\"], [0.4444444444444444, \"#bd3786\"], [0.5555555555555556, \"#d8576b\"], [0.6666666666666666, \"#ed7953\"], [0.7777777777777778, \"#fb9f3a\"], [0.8888888888888888, \"#fdca26\"], [1.0, \"#f0f921\"]], \"sequentialminus\": [[0.0, \"#0d0887\"], [0.1111111111111111, \"#46039f\"], [0.2222222222222222, \"#7201a8\"], [0.3333333333333333, \"#9c179e\"], [0.4444444444444444, \"#bd3786\"], [0.5555555555555556, \"#d8576b\"], [0.6666666666666666, \"#ed7953\"], [0.7777777777777778, \"#fb9f3a\"], [0.8888888888888888, \"#fdca26\"], [1.0, \"#f0f921\"]]}, \"colorway\": [\"#636efa\", \"#EF553B\", \"#00cc96\", \"#ab63fa\", \"#FFA15A\", \"#19d3f3\", \"#FF6692\", \"#B6E880\", \"#FF97FF\", \"#FECB52\"], \"font\": {\"color\": \"#2a3f5f\"}, \"geo\": {\"bgcolor\": \"white\", \"lakecolor\": \"white\", \"landcolor\": \"#E5ECF6\", \"showlakes\": true, \"showland\": true, \"subunitcolor\": \"white\"}, \"hoverlabel\": {\"align\": \"left\"}, \"hovermode\": \"closest\", \"mapbox\": {\"style\": \"light\"}, \"paper_bgcolor\": \"white\", \"plot_bgcolor\": \"#E5ECF6\", \"polar\": {\"angularaxis\": {\"gridcolor\": \"white\", \"linecolor\": \"white\", \"ticks\": \"\"}, \"bgcolor\": \"#E5ECF6\", \"radialaxis\": {\"gridcolor\": \"white\", \"linecolor\": \"white\", \"ticks\": \"\"}}, \"scene\": {\"xaxis\": {\"backgroundcolor\": \"#E5ECF6\", \"gridcolor\": \"white\", \"gridwidth\": 2, \"linecolor\": \"white\", \"showbackground\": true, \"ticks\": \"\", \"zerolinecolor\": \"white\"}, \"yaxis\": {\"backgroundcolor\": \"#E5ECF6\", \"gridcolor\": \"white\", \"gridwidth\": 2, \"linecolor\": \"white\", \"showbackground\": true, \"ticks\": \"\", \"zerolinecolor\": \"white\"}, \"zaxis\": {\"backgroundcolor\": \"#E5ECF6\", \"gridcolor\": \"white\", \"gridwidth\": 2, \"linecolor\": \"white\", \"showbackground\": true, \"ticks\": \"\", \"zerolinecolor\": \"white\"}}, \"shapedefaults\": {\"line\": {\"color\": \"#2a3f5f\"}}, \"ternary\": {\"aaxis\": {\"gridcolor\": \"white\", \"linecolor\": \"white\", \"ticks\": \"\"}, \"baxis\": {\"gridcolor\": \"white\", \"linecolor\": \"white\", \"ticks\": \"\"}, \"bgcolor\": \"#E5ECF6\", \"caxis\": {\"gridcolor\": \"white\", \"linecolor\": \"white\", \"ticks\": \"\"}}, \"title\": {\"x\": 0.05}, \"xaxis\": {\"automargin\": true, \"gridcolor\": \"white\", \"linecolor\": \"white\", \"ticks\": \"\", \"title\": {\"standoff\": 15}, \"zerolinecolor\": \"white\", \"zerolinewidth\": 2}, \"yaxis\": {\"automargin\": true, \"gridcolor\": \"white\", \"linecolor\": \"white\", \"ticks\": \"\", \"title\": {\"standoff\": 15}, \"zerolinecolor\": \"white\", \"zerolinewidth\": 2}}}, \"title\": {\"font\": {\"color\": \"#4D5663\"}, \"text\": \"Directors of Top 25% Net Profit Films\"}, \"xaxis\": {\"gridcolor\": \"#E1E5ED\", \"showgrid\": true, \"tickfont\": {\"color\": \"#4D5663\"}, \"title\": {\"font\": {\"color\": \"#4D5663\"}, \"text\": \"\"}, \"zerolinecolor\": \"#E1E5ED\"}, \"yaxis\": {\"gridcolor\": \"#E1E5ED\", \"showgrid\": true, \"tickfont\": {\"color\": \"#4D5663\"}, \"title\": {\"font\": {\"color\": \"#4D5663\"}, \"text\": \"\"}, \"zerolinecolor\": \"#E1E5ED\"}},                        {\"showLink\": true, \"linkText\": \"Export to plot.ly\", \"plotlyServerURL\": \"https://plot.ly\", \"responsive\": true}                    ).then(function(){\n",
       "                            \n",
       "var gd = document.getElementById('cb7dcd68-c4b1-4923-9174-5a343521857f');\n",
       "var x = new MutationObserver(function (mutations, observer) {{\n",
       "        var display = window.getComputedStyle(gd).display;\n",
       "        if (!display || display === 'none') {{\n",
       "            console.log([gd, 'removed!']);\n",
       "            Plotly.purge(gd);\n",
       "            observer.disconnect();\n",
       "        }}\n",
       "}});\n",
       "\n",
       "// Listen for the removal of the full notebook cells\n",
       "var notebookContainer = gd.closest('#notebook-container');\n",
       "if (notebookContainer) {{\n",
       "    x.observe(notebookContainer, {childList: true});\n",
       "}}\n",
       "\n",
       "// Listen for the clearing of the current output cell\n",
       "var outputEl = gd.closest('.output');\n",
       "if (outputEl) {{\n",
       "    x.observe(outputEl, {childList: true});\n",
       "}}\n",
       "\n",
       "                        })                };                });            </script>        </div>"
      ]
     },
     "metadata": {},
     "output_type": "display_data"
    }
   ],
   "source": [
    "# Conditional probability for finding chances of producing a top netting film \n",
    "# given 0 or 1 previous top netting film.\n",
    "a = len(all_directors.unique())\n",
    "b = len(top_directors_df)\n",
    "c = len(top_directors_df.loc[top_directors_df['count'] > 1])\n",
    "d = len(top_directors_df.loc[top_directors_df['count'] > 2])\n",
    "\n",
    "print('All directors = a = ' + str(a))\n",
    "print('Directors of top net profit films = b = ' + str(b))\n",
    "print('Directors with more than one top net profit film = c = ' + str(c))\n",
    "print('Directors with more than two top net profit film = d = ' + str(d))\n",
    "\n",
    "print('Chance of making a top net profit film = b/a = {}%'.format(str(round((100*b/a)))))\n",
    "print('Chance of making a another top net profit film = c/b = {}%'.format(str(round(100*c/b))))\n",
    "print('Chance of making a third top net profit film after making two = c/d = {}%'.format(str(round(100*d/c))))\n",
    "\n",
    "top_directors_df.sort_values('count', ascending=False).\\\n",
    "        iplot(kind='bar', x='director', y='count', title='Directors of Top 25% Net Profit Films')"
   ]
  },
  {
   "cell_type": "markdown",
   "metadata": {},
   "source": [
    "There are plenty of directors with at least one high profit film to choose from, **and for those who already have 2 top netting film to their names, chances of producing another top netting film jump from 25% to 38%**, a good argument for hiring a director who already has at least one high net profit film under his or her belt. \n",
    "<br/>\n",
    "\n",
    "I take a quick look at  measures of centrality for high and low net profit films, looking for key places they might be different."
   ]
  },
  {
   "cell_type": "code",
   "execution_count": 26,
   "metadata": {},
   "outputs": [
    {
     "data": {
      "text/html": [
       "<div>\n",
       "<style scoped>\n",
       "    .dataframe tbody tr th:only-of-type {\n",
       "        vertical-align: middle;\n",
       "    }\n",
       "\n",
       "    .dataframe tbody tr th {\n",
       "        vertical-align: top;\n",
       "    }\n",
       "\n",
       "    .dataframe thead th {\n",
       "        text-align: right;\n",
       "    }\n",
       "</style>\n",
       "<table border=\"1\" class=\"dataframe\">\n",
       "  <thead>\n",
       "    <tr style=\"text-align: right;\">\n",
       "      <th></th>\n",
       "      <th>start_year</th>\n",
       "      <th>runtime_minutes</th>\n",
       "      <th>foreign_titles</th>\n",
       "      <th>production_budget</th>\n",
       "      <th>domestic_gross</th>\n",
       "      <th>worldwide_gross</th>\n",
       "      <th>world_ROI</th>\n",
       "      <th>world_net_profit</th>\n",
       "    </tr>\n",
       "  </thead>\n",
       "  <tbody>\n",
       "    <tr>\n",
       "      <th>count</th>\n",
       "      <td>821.000000</td>\n",
       "      <td>678.000000</td>\n",
       "      <td>821.000000</td>\n",
       "      <td>8.210000e+02</td>\n",
       "      <td>8.210000e+02</td>\n",
       "      <td>8.210000e+02</td>\n",
       "      <td>821.000000</td>\n",
       "      <td>8.210000e+02</td>\n",
       "    </tr>\n",
       "    <tr>\n",
       "      <th>mean</th>\n",
       "      <td>2014.423873</td>\n",
       "      <td>97.085546</td>\n",
       "      <td>8.533496</td>\n",
       "      <td>2.850347e+07</td>\n",
       "      <td>7.818979e+06</td>\n",
       "      <td>1.396386e+07</td>\n",
       "      <td>-0.616651</td>\n",
       "      <td>-1.453961e+07</td>\n",
       "    </tr>\n",
       "    <tr>\n",
       "      <th>std</th>\n",
       "      <td>2.780264</td>\n",
       "      <td>28.805748</td>\n",
       "      <td>10.053293</td>\n",
       "      <td>2.954177e+07</td>\n",
       "      <td>1.097337e+07</td>\n",
       "      <td>2.170065e+07</td>\n",
       "      <td>0.273688</td>\n",
       "      <td>1.550550e+07</td>\n",
       "    </tr>\n",
       "    <tr>\n",
       "      <th>min</th>\n",
       "      <td>2010.000000</td>\n",
       "      <td>3.000000</td>\n",
       "      <td>0.000000</td>\n",
       "      <td>2.000000e+06</td>\n",
       "      <td>3.880000e+02</td>\n",
       "      <td>1.242000e+03</td>\n",
       "      <td>-0.999862</td>\n",
       "      <td>-2.002376e+08</td>\n",
       "    </tr>\n",
       "    <tr>\n",
       "      <th>25%</th>\n",
       "      <td>2012.000000</td>\n",
       "      <td>87.000000</td>\n",
       "      <td>1.000000</td>\n",
       "      <td>1.000000e+07</td>\n",
       "      <td>3.733750e+05</td>\n",
       "      <td>1.427656e+06</td>\n",
       "      <td>-0.862012</td>\n",
       "      <td>-1.952803e+07</td>\n",
       "    </tr>\n",
       "    <tr>\n",
       "      <th>50%</th>\n",
       "      <td>2015.000000</td>\n",
       "      <td>98.000000</td>\n",
       "      <td>3.000000</td>\n",
       "      <td>2.000000e+07</td>\n",
       "      <td>3.484331e+06</td>\n",
       "      <td>6.982680e+06</td>\n",
       "      <td>-0.626439</td>\n",
       "      <td>-9.606304e+06</td>\n",
       "    </tr>\n",
       "    <tr>\n",
       "      <th>75%</th>\n",
       "      <td>2017.000000</td>\n",
       "      <td>111.000000</td>\n",
       "      <td>16.000000</td>\n",
       "      <td>3.800000e+07</td>\n",
       "      <td>1.050194e+07</td>\n",
       "      <td>1.652141e+07</td>\n",
       "      <td>-0.411486</td>\n",
       "      <td>-5.227654e+06</td>\n",
       "    </tr>\n",
       "    <tr>\n",
       "      <th>max</th>\n",
       "      <td>2021.000000</td>\n",
       "      <td>360.000000</td>\n",
       "      <td>49.000000</td>\n",
       "      <td>3.500000e+08</td>\n",
       "      <td>8.930212e+07</td>\n",
       "      <td>2.600021e+08</td>\n",
       "      <td>-0.024770</td>\n",
       "      <td>-1.989976e+06</td>\n",
       "    </tr>\n",
       "  </tbody>\n",
       "</table>\n",
       "</div>"
      ],
      "text/plain": [
       "        start_year  runtime_minutes  foreign_titles  production_budget  \\\n",
       "count   821.000000       678.000000      821.000000       8.210000e+02   \n",
       "mean   2014.423873        97.085546        8.533496       2.850347e+07   \n",
       "std       2.780264        28.805748       10.053293       2.954177e+07   \n",
       "min    2010.000000         3.000000        0.000000       2.000000e+06   \n",
       "25%    2012.000000        87.000000        1.000000       1.000000e+07   \n",
       "50%    2015.000000        98.000000        3.000000       2.000000e+07   \n",
       "75%    2017.000000       111.000000       16.000000       3.800000e+07   \n",
       "max    2021.000000       360.000000       49.000000       3.500000e+08   \n",
       "\n",
       "       domestic_gross  worldwide_gross   world_ROI  world_net_profit  \n",
       "count    8.210000e+02     8.210000e+02  821.000000      8.210000e+02  \n",
       "mean     7.818979e+06     1.396386e+07   -0.616651     -1.453961e+07  \n",
       "std      1.097337e+07     2.170065e+07    0.273688      1.550550e+07  \n",
       "min      3.880000e+02     1.242000e+03   -0.999862     -2.002376e+08  \n",
       "25%      3.733750e+05     1.427656e+06   -0.862012     -1.952803e+07  \n",
       "50%      3.484331e+06     6.982680e+06   -0.626439     -9.606304e+06  \n",
       "75%      1.050194e+07     1.652141e+07   -0.411486     -5.227654e+06  \n",
       "max      8.930212e+07     2.600021e+08   -0.024770     -1.989976e+06  "
      ]
     },
     "execution_count": 26,
     "metadata": {},
     "output_type": "execute_result"
    }
   ],
   "source": [
    "quant_25_net_profit.describe()"
   ]
  },
  {
   "cell_type": "code",
   "execution_count": 27,
   "metadata": {},
   "outputs": [
    {
     "data": {
      "text/html": [
       "<div>\n",
       "<style scoped>\n",
       "    .dataframe tbody tr th:only-of-type {\n",
       "        vertical-align: middle;\n",
       "    }\n",
       "\n",
       "    .dataframe tbody tr th {\n",
       "        vertical-align: top;\n",
       "    }\n",
       "\n",
       "    .dataframe thead th {\n",
       "        text-align: right;\n",
       "    }\n",
       "</style>\n",
       "<table border=\"1\" class=\"dataframe\">\n",
       "  <thead>\n",
       "    <tr style=\"text-align: right;\">\n",
       "      <th></th>\n",
       "      <th>start_year</th>\n",
       "      <th>runtime_minutes</th>\n",
       "      <th>foreign_titles</th>\n",
       "      <th>production_budget</th>\n",
       "      <th>domestic_gross</th>\n",
       "      <th>worldwide_gross</th>\n",
       "      <th>world_ROI</th>\n",
       "      <th>world_net_profit</th>\n",
       "    </tr>\n",
       "  </thead>\n",
       "  <tbody>\n",
       "    <tr>\n",
       "      <th>count</th>\n",
       "      <td>821.000000</td>\n",
       "      <td>744.000000</td>\n",
       "      <td>821.000000</td>\n",
       "      <td>8.210000e+02</td>\n",
       "      <td>8.210000e+02</td>\n",
       "      <td>8.210000e+02</td>\n",
       "      <td>821.000000</td>\n",
       "      <td>8.210000e+02</td>\n",
       "    </tr>\n",
       "    <tr>\n",
       "      <th>mean</th>\n",
       "      <td>2014.323995</td>\n",
       "      <td>104.017473</td>\n",
       "      <td>21.571255</td>\n",
       "      <td>7.744240e+07</td>\n",
       "      <td>1.346447e+08</td>\n",
       "      <td>3.398180e+08</td>\n",
       "      <td>8.248393</td>\n",
       "      <td>2.623756e+08</td>\n",
       "    </tr>\n",
       "    <tr>\n",
       "      <th>std</th>\n",
       "      <td>2.712172</td>\n",
       "      <td>28.267202</td>\n",
       "      <td>16.534630</td>\n",
       "      <td>6.535277e+07</td>\n",
       "      <td>1.048769e+08</td>\n",
       "      <td>3.001613e+08</td>\n",
       "      <td>19.964112</td>\n",
       "      <td>2.567758e+08</td>\n",
       "    </tr>\n",
       "    <tr>\n",
       "      <th>min</th>\n",
       "      <td>2010.000000</td>\n",
       "      <td>3.000000</td>\n",
       "      <td>0.000000</td>\n",
       "      <td>8.580000e+05</td>\n",
       "      <td>8.178001e+06</td>\n",
       "      <td>7.397524e+07</td>\n",
       "      <td>0.401932</td>\n",
       "      <td>6.977332e+07</td>\n",
       "    </tr>\n",
       "    <tr>\n",
       "      <th>25%</th>\n",
       "      <td>2012.000000</td>\n",
       "      <td>92.000000</td>\n",
       "      <td>1.000000</td>\n",
       "      <td>2.500000e+07</td>\n",
       "      <td>6.763116e+07</td>\n",
       "      <td>1.495707e+08</td>\n",
       "      <td>1.995511</td>\n",
       "      <td>1.057634e+08</td>\n",
       "    </tr>\n",
       "    <tr>\n",
       "      <th>50%</th>\n",
       "      <td>2014.000000</td>\n",
       "      <td>105.500000</td>\n",
       "      <td>28.000000</td>\n",
       "      <td>6.000000e+07</td>\n",
       "      <td>1.012000e+08</td>\n",
       "      <td>2.429818e+08</td>\n",
       "      <td>3.343896</td>\n",
       "      <td>1.655693e+08</td>\n",
       "    </tr>\n",
       "    <tr>\n",
       "      <th>75%</th>\n",
       "      <td>2017.000000</td>\n",
       "      <td>120.000000</td>\n",
       "      <td>36.000000</td>\n",
       "      <td>1.250000e+08</td>\n",
       "      <td>1.719584e+08</td>\n",
       "      <td>3.898704e+08</td>\n",
       "      <td>7.016044</td>\n",
       "      <td>3.026656e+08</td>\n",
       "    </tr>\n",
       "    <tr>\n",
       "      <th>max</th>\n",
       "      <td>2021.000000</td>\n",
       "      <td>180.000000</td>\n",
       "      <td>55.000000</td>\n",
       "      <td>4.250000e+08</td>\n",
       "      <td>7.605076e+08</td>\n",
       "      <td>2.776345e+09</td>\n",
       "      <td>311.354312</td>\n",
       "      <td>2.351345e+09</td>\n",
       "    </tr>\n",
       "  </tbody>\n",
       "</table>\n",
       "</div>"
      ],
      "text/plain": [
       "        start_year  runtime_minutes  foreign_titles  production_budget  \\\n",
       "count   821.000000       744.000000      821.000000       8.210000e+02   \n",
       "mean   2014.323995       104.017473       21.571255       7.744240e+07   \n",
       "std       2.712172        28.267202       16.534630       6.535277e+07   \n",
       "min    2010.000000         3.000000        0.000000       8.580000e+05   \n",
       "25%    2012.000000        92.000000        1.000000       2.500000e+07   \n",
       "50%    2014.000000       105.500000       28.000000       6.000000e+07   \n",
       "75%    2017.000000       120.000000       36.000000       1.250000e+08   \n",
       "max    2021.000000       180.000000       55.000000       4.250000e+08   \n",
       "\n",
       "       domestic_gross  worldwide_gross   world_ROI  world_net_profit  \n",
       "count    8.210000e+02     8.210000e+02  821.000000      8.210000e+02  \n",
       "mean     1.346447e+08     3.398180e+08    8.248393      2.623756e+08  \n",
       "std      1.048769e+08     3.001613e+08   19.964112      2.567758e+08  \n",
       "min      8.178001e+06     7.397524e+07    0.401932      6.977332e+07  \n",
       "25%      6.763116e+07     1.495707e+08    1.995511      1.057634e+08  \n",
       "50%      1.012000e+08     2.429818e+08    3.343896      1.655693e+08  \n",
       "75%      1.719584e+08     3.898704e+08    7.016044      3.026656e+08  \n",
       "max      7.605076e+08     2.776345e+09  311.354312      2.351345e+09  "
      ]
     },
     "execution_count": 27,
     "metadata": {},
     "output_type": "execute_result"
    }
   ],
   "source": [
    "quant_75_net_profit.describe()"
   ]
  },
  {
   "cell_type": "markdown",
   "metadata": {},
   "source": [
    "There's a noticeable difference in average number of foreign titles between the high and low netting groups. I plot them below for further analysis.\n",
    "### A third question: are number of foriegn titles and net profit correlated?"
   ]
  },
  {
   "cell_type": "code",
   "execution_count": 28,
   "metadata": {
    "scrolled": false
   },
   "outputs": [
    {
     "data": {
      "text/plain": [
       "(0.0, 490.0)"
      ]
     },
     "execution_count": 28,
     "metadata": {},
     "output_type": "execute_result"
    },
    {
     "data": {
      "image/png": "[encoded data removed]",
      "text/plain": [
       "<Figure size 1080x576 with 2 Axes>"
      ]
     },
     "metadata": {},
     "output_type": "display_data"
    }
   ],
   "source": [
    "fig, axes = plt.subplots(1,2, figsize=(15,8))\n",
    "quant_25_net_profit.foreign_titles.\\\n",
    "    plot(kind='hist', title='Foreign Titles for Bottom 25% Net Profit Films', ax=axes[0])\n",
    "quant_75_net_profit.foreign_titles.\\\n",
    "    plot(kind='hist', title='Foreign Titles for Top 25% Net Profit Films', ax=axes[1])\n",
    "axes[0].set_xlabel('Number of Foreign Titles')\n",
    "axes[0].set_xlim(-2, 56)\n",
    "axes[0].set_ylim(0, 490)\n",
    "axes[1].set_xlabel('Number of Foreign Titles')\n",
    "axes[1].set_xlim(-2, 56)\n",
    "axes[1].set_ylim(0, 490)"
   ]
  },
  {
   "cell_type": "markdown",
   "metadata": {},
   "source": [
    "**The difference between top and bottom net profitting films in number of foreign films is quite large, with top netting films more often having more foreign titles.** The bottom 25% net profit films have a unimodal distribution of foreign titles (somewhere between 0 and 5 titles) whereas the top 25% net profit films are bimodal with a peak between 0 and 5 titles and a second peak between 30 and 40 foreign titles. There's a bit of a chicken-and-egg problem to this situation: did high netting films do well in part because they tend to have more foreign titles, or do they have more foreign titles on average because of their box office success. Impossible to answer here, but I still think Microsoft should be aiming for more foreign titles, both for the potential financial success it might bring as well as the opportunity for branding in international markets.\n",
    "\n",
    "## Exploring Genres\n",
    "**Which genre has the best bet of becoming a top netting film?**"
   ]
  },
  {
   "cell_type": "code",
   "execution_count": 29,
   "metadata": {},
   "outputs": [],
   "source": [
    "# Table of high ROI films for comparison with high net profit films later.\n",
    "quant_75_ROI = df.loc[df.world_ROI >= df.world_ROI.quantile(.75)]\n",
    "\n",
    "# Table for all films EXCEPT top 25% by net profit. Used for a stacked bar chart below.\n",
    "genre_slice = df.loc[df.world_net_profit < df.world_net_profit.quantile(.75)]\n",
    "\n",
    "# 4 lists of genres, some items being multiple genres separated by a comma. I have to separate these out later,\n",
    "# so here I'm calling my lists \"stacked.\" \n",
    "# List of genres for top 25% net profit films.\n",
    "stacked_top_genres = list(quant_75_net_profit.genres.dropna().array)\n",
    "# List of genres for bottom 25% net profit films.\n",
    "stacked_bottom_genres = list(quant_25_net_profit.genres.dropna().array)\n",
    "# List of genres for top 25% ROI films\n",
    "stacked_top_ROI = list(quant_75_ROI.genres.dropna().array)\n",
    "# List of genres for all films except those films in stacked_top_genres. (These are bottom 75% net profit films.)\n",
    "stacked_bulk_genres = list(genre_slice.genres.dropna().array)\n",
    "\n",
    "# Sort through each list above to turn single strings of multiple genres into individual strings.\n",
    "top_genres = []\n",
    "bottom_genres = []\n",
    "top_ROI = []\n",
    "bulk_genres = []\n",
    "for item in stacked_top_genres:\n",
    "    top_genres = top_genres + item.split(',')\n",
    "for item in stacked_bottom_genres:\n",
    "    bottom_genres += item.split(',')\n",
    "for item in stacked_top_ROI:\n",
    "    top_ROI += item.split(',')\n",
    "for item in stacked_bulk_genres:\n",
    "    bulk_genres += item.split(',')\n",
    "\n",
    "top_genres = pd.Series(top_genres)\n",
    "bottom_genres = pd.Series(bottom_genres)\n",
    "top_ROI = pd.Series(top_ROI)\n",
    "bulk_genres = pd.Series(bulk_genres)"
   ]
  },
  {
   "cell_type": "code",
   "execution_count": 30,
   "metadata": {},
   "outputs": [],
   "source": [
    "# Take the Series of genres for each stratum of films and convert each into a DataFrame,\n",
    "# including requency within the stratum as \"count\".\n",
    "\n",
    "top_genres_df = pd.DataFrame(top_genres.unique(), columns=['genre'])\n",
    "top_genres_df = top_genres_df.set_index('genre').join(pd.DataFrame(top_genres.value_counts()))\n",
    "top_genres_df.reset_index(inplace=True)\n",
    "top_genres_df.columns = ['genre', 'count']\n",
    "top_genres_df['relative_frequency']=top_genres_df['count']/top_genres_df['count'].sum()\n",
    "\n",
    "bottom_genres_df = pd.DataFrame(bottom_genres.unique(), columns=['genre'])\n",
    "bottom_genres_df = bottom_genres_df.set_index('genre').join(pd.DataFrame(bottom_genres.value_counts()))\n",
    "bottom_genres_df.reset_index(inplace=True)\n",
    "bottom_genres_df.columns = ['genre', 'count']\n",
    "bottom_genres_df['relative_frequency']=bottom_genres_df['count']/bottom_genres_df['count'].sum()\n",
    "\n",
    "top_ROI_df = pd.DataFrame(top_ROI.unique(), columns=['genre'])\n",
    "top_ROI_df = top_ROI_df.set_index('genre').join(pd.DataFrame(top_ROI.value_counts()))\n",
    "top_ROI_df.reset_index(inplace=True)\n",
    "top_ROI_df.columns = ['genre', 'count']\n",
    "top_ROI_df['relative_frequency']=top_ROI_df['count']/top_ROI_df['count'].sum()\n",
    "\n",
    "bulk_genres_df = pd.DataFrame(bulk_genres.unique(), columns=['genre'])\n",
    "bulk_genres_df = bulk_genres_df.set_index('genre').join(pd.DataFrame(bulk_genres.value_counts()))\n",
    "bulk_genres_df.reset_index(inplace=True)\n",
    "bulk_genres_df.columns = ['genre', 'count']\n",
    "bulk_genres_df['relative_frequency']=bulk_genres_df['count']/bulk_genres_df['count'].sum()"
   ]
  },
  {
   "cell_type": "code",
   "execution_count": 31,
   "metadata": {
    "scrolled": false
   },
   "outputs": [
    {
     "data": {
      "text/plain": [
       "Text(0, 0.5, 'Relative Frequency')"
      ]
     },
     "execution_count": 31,
     "metadata": {},
     "output_type": "execute_result"
    },
    {
     "data": {
      "image/png": "[encoded data removed]",
      "text/plain": [
       "<Figure size 1440x360 with 3 Axes>"
      ]
     },
     "metadata": {},
     "output_type": "display_data"
    }
   ],
   "source": [
    "fig, axes = plt.subplots(nrows=1, ncols=3, figsize=(20,5))\n",
    "top_genres_df.sort_values(by='relative_frequency', ascending=False).plot.bar(\n",
    "    x='genre', y='relative_frequency', title= 'Top 25% Net Profit', ax=axes[0])\n",
    "bottom_genres_df.sort_values(by='relative_frequency', ascending=False).plot.bar(\n",
    "    x='genre', y='relative_frequency', title='Bottom 25% Net Profit', ax=axes[1])\n",
    "top_ROI_df.sort_values(by='relative_frequency', ascending=False).plot.bar(\n",
    "    x='genre', y='relative_frequency', title='Top 25% ROI', ax=axes[2])\n",
    "axes[0].set_ylabel('Relative Frequency')"
   ]
  },
  {
   "cell_type": "markdown",
   "metadata": {},
   "source": [
    "There are some big differences in the relative frequency of each genre between the films with **top 25% net profit (far left above)** and the **bottom 25% (middle)**. Drama was the most common genre in both, but it leads but a much larger ROI in bottom 25% films. On the other hand, action makes up a much larger portion of top films, ~13% compared to ~8% for bottom films. Out of curiosity, I've also plotted the relative distribution of genres for films in the **top 25% for _ROI_ (right)**. Interestingly, its distribution of genres rather closely resembles the bottom 25% of net profit films' distribution, with drama, comedy, and thriller movies all having greater presence than they do in the top 25% for net profit. I consider this more incentive to steer clear of a high ROI film for Microsoft's goal. \n",
    "<br/><br/>\n",
    "\n",
    "One thing to note is that above I've plotted the relative frequency of each genre *within the given stratum*. To take an example for the sake of clarity, of all the films in the top 25% for net profit (far left above), approximately 15% of them were drama. This is *not* to say that of all drama films, 15% of them were in the top 25% for net profit. To get a feel for this new distinction–what portion of all drama films wind up in the top 25% for net profit–I plot the raw frequency of each genre for all films for which I have data on profit. I've highlighted the portion of them that are in the top 25% of net profit in orange at the top of each bar."
   ]
  },
  {
   "cell_type": "code",
   "execution_count": 32,
   "metadata": {
    "scrolled": false
   },
   "outputs": [
    {
     "data": {
      "text/plain": [
       "<matplotlib.legend.Legend at 0x7feec12d5c10>"
      ]
     },
     "execution_count": 32,
     "metadata": {},
     "output_type": "execute_result"
    },
    {
     "data": {
      "image/png": "[encoded data removed]",
      "text/plain": [
       "<Figure size 936x576 with 1 Axes>"
      ]
     },
     "metadata": {},
     "output_type": "display_data"
    }
   ],
   "source": [
    "all_genres_df = top_genres_df.set_index('genre').\\\n",
    "    join(bulk_genres_df.set_index('genre'), lsuffix='top', rsuffix='bulk')\n",
    "width = .9\n",
    "ax = all_genres_df.sort_values('relative_frequencytop', ascending=False).loc[:, ['countbulk', 'counttop']].\\\n",
    "    plot.bar(stacked=True, width=width, title='Genre Counts', figsize=(13,8))\n",
    "ax.set_xlabel('Genre')\n",
    "ax.set_ylabel('Frequency')\n",
    "ax.legend(['Bottom 75% Net Profit Films', 'Top 25% Net Profit Films'])"
   ]
  },
  {
   "cell_type": "markdown",
   "metadata": {},
   "source": [
    "Without producing any statistical analyses, it's still quite easy to see that, **while drama is the most populous genre in top netting films, drama films do not, as a whole, stand a good chance of making top net profit**, and neither do comedy nor thriller films. **Action, adventure, animation, and even sci-fi and fantasy movies have a much better portion of their films making into the top netting bracket.**\n",
    "<br/>\n",
    "\n",
    "## Finding the Right Keywords\n",
    "\n",
    "Next, I create a new feature, tconst_int, which is the IMDB-ID feature recast as integers. I'll need it to an join with another table that I got from Kaggle which has already converted its IMDB-IDs to integers. This particular data has keyword data, and I'm eager to analyze those. Credits to [Kaggle](https://www.kaggle.com) and its [The Movie Dataset](https://www.kaggle.com/rounakbanik/the-movies-dataset) and to my colleague Edward Amor for the below use of regex"
   ]
  },
  {
   "cell_type": "code",
   "execution_count": 33,
   "metadata": {},
   "outputs": [],
   "source": [
    "def integerizer(my_string):\n",
    "    '''Strips a string of all non-numerical characters. Returns a string.'''\n",
    "    return re.sub(r\"[^0-9.]\", \"\", my_string)\n",
    "\n",
    "# Strip my tconst field of letters and convert to type int.\n",
    "df['tconst_int'] = df.tconst.apply(integerizer).astype('int')"
   ]
  },
  {
   "cell_type": "code",
   "execution_count": 34,
   "metadata": {},
   "outputs": [],
   "source": [
    "# Read two tables from a Kaggle dataset. links_small is a map for converting their internal ID system\n",
    "# to the IMDB ID system.\n",
    "tmd_imbd_map_df = pd.read_csv('Data/kaggle_the_movies_dataset/links_small.csv').set_index('movieId')\n",
    "tmd_keywords_df = pd.read_csv('Data/kaggle_the_movies_dataset/keywords.csv').set_index('id')\n",
    "tmd_df = tmd_keywords_df.join(tmd_imbd_map_df)\n",
    "tmd_df.set_index('imdbId', inplace=True)\n",
    "\n",
    "# Combine the data with my master DataFrame. \n",
    "df = df.set_index('tconst_int').join(tmd_df)\n",
    "df = df.sort_values(by=['world_net_profit', 'foreign_titles'], ascending=False).drop_duplicates(\n",
    "    subset='primary_title')\n",
    "df.loc[df.world_net_profit >= df.world_net_profit.quantile(.75)].head(20)\n",
    "\n",
    "# Update quant_25_net_profit and quant_75_net_profit DataFrames with the new feature.\n",
    "quant_25_net_profit = df.loc[df.world_net_profit <= df.world_net_profit.quantile(.25)]\n",
    "quant_75_net_profit = df.loc[df.world_net_profit >= df.world_net_profit.quantile(.75)]"
   ]
  },
  {
   "cell_type": "code",
   "execution_count": 35,
   "metadata": {},
   "outputs": [
    {
     "data": {
      "text/plain": [
       "0                     bullet\n",
       "1                      arrow\n",
       "2                    archery\n",
       "3              class reunion\n",
       "4                   gunfight\n",
       "5        hand to hand combat\n",
       "6                special ops\n",
       "7               gulf war vet\n",
       "8              time traveler\n",
       "9            new delhi india\n",
       "10    himachal pradesh india\n",
       "11                    punjab\n",
       "12              punjab india\n",
       "13      narration from grave\n",
       "14                 slapstick\n",
       "15                teen angst\n",
       "16                 slaughter\n",
       "17               dark comedy\n",
       "18        supernatural being\n",
       "19              killer clown\n",
       "20           revenge killing\n",
       "21                     hotel\n",
       "22                     haiti\n",
       "23               supermarket\n",
       "24                     fight\n",
       "25         product placement\n",
       "26        computer animation\n",
       "27                      food\n",
       "28                head wound\n",
       "29                  criminal\n",
       "30            security guard\n",
       "31                contraband\n",
       "32                   vampire\n",
       "33                  reindeer\n",
       "34                    shaman\n",
       "dtype: object"
      ]
     },
     "execution_count": 35,
     "metadata": {},
     "output_type": "execute_result"
    }
   ],
   "source": [
    "'''Entries under \"keywords\" are lists of dictionaries, but they're currently coded as strings.\n",
    "\n",
    "e.g., [{'id':int, 'name':str}, \n",
    "       {'id':int, 'name':str}, \n",
    "       ...] all as one long string: \"[{'id':int,'name':str},...]\"\n",
    "\n",
    "I put all \"keywords\" entries for top net profit films into a list and evaluate them out of string format.''' \n",
    "top_keywords = list(quant_75_net_profit.loc[quant_75_net_profit.keywords.notna(), 'keywords'])\n",
    "for index, item in enumerate(top_keywords):\n",
    "    top_keywords[index] = eval(item)\n",
    "\n",
    "# Loop through my list of (lists of dictionaries) to put each individual keyword into a separate list.\n",
    "list_of_top_keywords = []\n",
    "for item in top_keywords:\n",
    "    # as long as the list isn't empty:\n",
    "    if item:\n",
    "        for subitem in item:\n",
    "            list_of_top_keywords.append(subitem['name'])\n",
    "            \n",
    "list_of_top_keywords = pd.Series(list_of_top_keywords)\n",
    "list_of_top_keywords"
   ]
  },
  {
   "cell_type": "code",
   "execution_count": 36,
   "metadata": {
    "scrolled": false
   },
   "outputs": [
    {
     "data": {
      "text/plain": [
       "0            prostitute\n",
       "1            undercover\n",
       "2                nudity\n",
       "3          exploitation\n",
       "4               revenge\n",
       "5                murder\n",
       "6                  gang\n",
       "7               lesbian\n",
       "8                  drug\n",
       "9               hideout\n",
       "10        female nudity\n",
       "11              sheriff\n",
       "12                snake\n",
       "13               nudity\n",
       "14            alligator\n",
       "15                swamp\n",
       "16              revenge\n",
       "17             violence\n",
       "18       attempted rape\n",
       "19    exploitation film\n",
       "20               incest\n",
       "21                cajun\n",
       "dtype: object"
      ]
     },
     "execution_count": 36,
     "metadata": {},
     "output_type": "execute_result"
    }
   ],
   "source": [
    "# Repeat the above process for bottom net profit films.\n",
    "\n",
    "bottom_keywords = list(quant_25_net_profit.loc[quant_25_net_profit.keywords.notna(), 'keywords'])\n",
    "for index, item in enumerate(bottom_keywords):\n",
    "    bottom_keywords[index] = eval(item)\n",
    "    \n",
    "list_of_bottom_keywords = []\n",
    "for item in bottom_keywords:\n",
    "    if item:\n",
    "        for subitem in item:\n",
    "            list_of_bottom_keywords.append(subitem['name'])\n",
    "            \n",
    "list_of_bottom_keywords = pd.Series(list_of_bottom_keywords)\n",
    "list_of_bottom_keywords"
   ]
  },
  {
   "cell_type": "markdown",
   "metadata": {},
   "source": [
    "There isn't a very clear association between keywords for high net profit films, but there is for low net profit. In short, they tend to be much more adult oriented, being both more sexual and violent. There's a big problem with these two sets of data though, and it's that they're both alarmingly small; there are only 35 and 22 keywords for high and low net profit films respectively. This is scant little information to be making decisions on.\n",
    "\n",
    "Unsatisfied with this dataset, I started looking for other sources of keyword data. One option was IMBD, but they appear [stricter](https://www.imdb.com/licensing/) in the control of their data than I'm interested in dealing with at this time. As an alternative, I found that [The Movie Database](https://www.themoviedb.org/documentation/api?language=en-US) gives free and instant access to their data, and includes keyword and IMBD-ID data for their movies. This should be an easy dataset to join with mine. Below, I interact with their API to get keyword data for the movies in my dataset.\n",
    "\n",
    "(N.B. I left the original code making API calls to showcase my work as a module project for Flatiron School, but if the code stops working for any reason–the API changes, the data changes, etc.–the data I originally worked with has been saved as a CSV file in data as tmdb_keyword_data.csv.)"
   ]
  },
  {
   "cell_type": "code",
   "execution_count": 42,
   "metadata": {},
   "outputs": [
    {
     "ename": "JSONDecodeError",
     "evalue": "Expecting property name enclosed in double quotes: line 1 column 2 (char 1)",
     "output_type": "error",
     "traceback": [
      "\u001b[0;31m---------------------------------------------------------------------------\u001b[0m",
      "\u001b[0;31mJSONDecodeError\u001b[0m                           Traceback (most recent call last)",
      "\u001b[0;32m<ipython-input-42-47735ae439d9>\u001b[0m in \u001b[0;36m<module>\u001b[0;34m\u001b[0m\n\u001b[1;32m      1\u001b[0m \u001b[0;31m# Saving the API key I have for accessing TMDB for quick access.\u001b[0m\u001b[0;34m\u001b[0m\u001b[0;34m\u001b[0m\u001b[0;34m\u001b[0m\u001b[0m\n\u001b[1;32m      2\u001b[0m \u001b[0;32mwith\u001b[0m \u001b[0mopen\u001b[0m\u001b[0;34m(\u001b[0m\u001b[0;34m'/Users/stlanier/.secret/tmdb_api.json'\u001b[0m\u001b[0;34m)\u001b[0m \u001b[0;32mas\u001b[0m \u001b[0mf\u001b[0m\u001b[0;34m:\u001b[0m\u001b[0;34m\u001b[0m\u001b[0;34m\u001b[0m\u001b[0m\n\u001b[0;32m----> 3\u001b[0;31m     \u001b[0mapi_key\u001b[0m \u001b[0;34m=\u001b[0m \u001b[0mjson\u001b[0m\u001b[0;34m.\u001b[0m\u001b[0mload\u001b[0m\u001b[0;34m(\u001b[0m\u001b[0mf\u001b[0m\u001b[0;34m)\u001b[0m\u001b[0;34m[\u001b[0m\u001b[0;34m'api_key'\u001b[0m\u001b[0;34m]\u001b[0m\u001b[0;34m\u001b[0m\u001b[0;34m\u001b[0m\u001b[0m\n\u001b[0m",
      "\u001b[0;32m~/opt/anaconda3/lib/python3.8/json/__init__.py\u001b[0m in \u001b[0;36mload\u001b[0;34m(fp, cls, object_hook, parse_float, parse_int, parse_constant, object_pairs_hook, **kw)\u001b[0m\n\u001b[1;32m    291\u001b[0m     \u001b[0mkwarg\u001b[0m\u001b[0;34m;\u001b[0m \u001b[0motherwise\u001b[0m\u001b[0;31m \u001b[0m\u001b[0;31m`\u001b[0m\u001b[0;31m`\u001b[0m\u001b[0mJSONDecoder\u001b[0m\u001b[0;31m`\u001b[0m\u001b[0;31m`\u001b[0m \u001b[0;32mis\u001b[0m \u001b[0mused\u001b[0m\u001b[0;34m.\u001b[0m\u001b[0;34m\u001b[0m\u001b[0;34m\u001b[0m\u001b[0m\n\u001b[1;32m    292\u001b[0m     \"\"\"\n\u001b[0;32m--> 293\u001b[0;31m     return loads(fp.read(),\n\u001b[0m\u001b[1;32m    294\u001b[0m         \u001b[0mcls\u001b[0m\u001b[0;34m=\u001b[0m\u001b[0mcls\u001b[0m\u001b[0;34m,\u001b[0m \u001b[0mobject_hook\u001b[0m\u001b[0;34m=\u001b[0m\u001b[0mobject_hook\u001b[0m\u001b[0;34m,\u001b[0m\u001b[0;34m\u001b[0m\u001b[0;34m\u001b[0m\u001b[0m\n\u001b[1;32m    295\u001b[0m         \u001b[0mparse_float\u001b[0m\u001b[0;34m=\u001b[0m\u001b[0mparse_float\u001b[0m\u001b[0;34m,\u001b[0m \u001b[0mparse_int\u001b[0m\u001b[0;34m=\u001b[0m\u001b[0mparse_int\u001b[0m\u001b[0;34m,\u001b[0m\u001b[0;34m\u001b[0m\u001b[0;34m\u001b[0m\u001b[0m\n",
      "\u001b[0;32m~/opt/anaconda3/lib/python3.8/json/__init__.py\u001b[0m in \u001b[0;36mloads\u001b[0;34m(s, cls, object_hook, parse_float, parse_int, parse_constant, object_pairs_hook, **kw)\u001b[0m\n\u001b[1;32m    355\u001b[0m             \u001b[0mparse_int\u001b[0m \u001b[0;32mis\u001b[0m \u001b[0;32mNone\u001b[0m \u001b[0;32mand\u001b[0m \u001b[0mparse_float\u001b[0m \u001b[0;32mis\u001b[0m \u001b[0;32mNone\u001b[0m \u001b[0;32mand\u001b[0m\u001b[0;34m\u001b[0m\u001b[0;34m\u001b[0m\u001b[0m\n\u001b[1;32m    356\u001b[0m             parse_constant is None and object_pairs_hook is None and not kw):\n\u001b[0;32m--> 357\u001b[0;31m         \u001b[0;32mreturn\u001b[0m \u001b[0m_default_decoder\u001b[0m\u001b[0;34m.\u001b[0m\u001b[0mdecode\u001b[0m\u001b[0;34m(\u001b[0m\u001b[0ms\u001b[0m\u001b[0;34m)\u001b[0m\u001b[0;34m\u001b[0m\u001b[0;34m\u001b[0m\u001b[0m\n\u001b[0m\u001b[1;32m    358\u001b[0m     \u001b[0;32mif\u001b[0m \u001b[0mcls\u001b[0m \u001b[0;32mis\u001b[0m \u001b[0;32mNone\u001b[0m\u001b[0;34m:\u001b[0m\u001b[0;34m\u001b[0m\u001b[0;34m\u001b[0m\u001b[0m\n\u001b[1;32m    359\u001b[0m         \u001b[0mcls\u001b[0m \u001b[0;34m=\u001b[0m \u001b[0mJSONDecoder\u001b[0m\u001b[0;34m\u001b[0m\u001b[0;34m\u001b[0m\u001b[0m\n",
      "\u001b[0;32m~/opt/anaconda3/lib/python3.8/json/decoder.py\u001b[0m in \u001b[0;36mdecode\u001b[0;34m(self, s, _w)\u001b[0m\n\u001b[1;32m    335\u001b[0m \u001b[0;34m\u001b[0m\u001b[0m\n\u001b[1;32m    336\u001b[0m         \"\"\"\n\u001b[0;32m--> 337\u001b[0;31m         \u001b[0mobj\u001b[0m\u001b[0;34m,\u001b[0m \u001b[0mend\u001b[0m \u001b[0;34m=\u001b[0m \u001b[0mself\u001b[0m\u001b[0;34m.\u001b[0m\u001b[0mraw_decode\u001b[0m\u001b[0;34m(\u001b[0m\u001b[0ms\u001b[0m\u001b[0;34m,\u001b[0m \u001b[0midx\u001b[0m\u001b[0;34m=\u001b[0m\u001b[0m_w\u001b[0m\u001b[0;34m(\u001b[0m\u001b[0ms\u001b[0m\u001b[0;34m,\u001b[0m \u001b[0;36m0\u001b[0m\u001b[0;34m)\u001b[0m\u001b[0;34m.\u001b[0m\u001b[0mend\u001b[0m\u001b[0;34m(\u001b[0m\u001b[0;34m)\u001b[0m\u001b[0;34m)\u001b[0m\u001b[0;34m\u001b[0m\u001b[0;34m\u001b[0m\u001b[0m\n\u001b[0m\u001b[1;32m    338\u001b[0m         \u001b[0mend\u001b[0m \u001b[0;34m=\u001b[0m \u001b[0m_w\u001b[0m\u001b[0;34m(\u001b[0m\u001b[0ms\u001b[0m\u001b[0;34m,\u001b[0m \u001b[0mend\u001b[0m\u001b[0;34m)\u001b[0m\u001b[0;34m.\u001b[0m\u001b[0mend\u001b[0m\u001b[0;34m(\u001b[0m\u001b[0;34m)\u001b[0m\u001b[0;34m\u001b[0m\u001b[0;34m\u001b[0m\u001b[0m\n\u001b[1;32m    339\u001b[0m         \u001b[0;32mif\u001b[0m \u001b[0mend\u001b[0m \u001b[0;34m!=\u001b[0m \u001b[0mlen\u001b[0m\u001b[0;34m(\u001b[0m\u001b[0ms\u001b[0m\u001b[0;34m)\u001b[0m\u001b[0;34m:\u001b[0m\u001b[0;34m\u001b[0m\u001b[0;34m\u001b[0m\u001b[0m\n",
      "\u001b[0;32m~/opt/anaconda3/lib/python3.8/json/decoder.py\u001b[0m in \u001b[0;36mraw_decode\u001b[0;34m(self, s, idx)\u001b[0m\n\u001b[1;32m    351\u001b[0m         \"\"\"\n\u001b[1;32m    352\u001b[0m         \u001b[0;32mtry\u001b[0m\u001b[0;34m:\u001b[0m\u001b[0;34m\u001b[0m\u001b[0;34m\u001b[0m\u001b[0m\n\u001b[0;32m--> 353\u001b[0;31m             \u001b[0mobj\u001b[0m\u001b[0;34m,\u001b[0m \u001b[0mend\u001b[0m \u001b[0;34m=\u001b[0m \u001b[0mself\u001b[0m\u001b[0;34m.\u001b[0m\u001b[0mscan_once\u001b[0m\u001b[0;34m(\u001b[0m\u001b[0ms\u001b[0m\u001b[0;34m,\u001b[0m \u001b[0midx\u001b[0m\u001b[0;34m)\u001b[0m\u001b[0;34m\u001b[0m\u001b[0;34m\u001b[0m\u001b[0m\n\u001b[0m\u001b[1;32m    354\u001b[0m         \u001b[0;32mexcept\u001b[0m \u001b[0mStopIteration\u001b[0m \u001b[0;32mas\u001b[0m \u001b[0merr\u001b[0m\u001b[0;34m:\u001b[0m\u001b[0;34m\u001b[0m\u001b[0;34m\u001b[0m\u001b[0m\n\u001b[1;32m    355\u001b[0m             \u001b[0;32mraise\u001b[0m \u001b[0mJSONDecodeError\u001b[0m\u001b[0;34m(\u001b[0m\u001b[0;34m\"Expecting value\"\u001b[0m\u001b[0;34m,\u001b[0m \u001b[0ms\u001b[0m\u001b[0;34m,\u001b[0m \u001b[0merr\u001b[0m\u001b[0;34m.\u001b[0m\u001b[0mvalue\u001b[0m\u001b[0;34m)\u001b[0m \u001b[0;32mfrom\u001b[0m \u001b[0;32mNone\u001b[0m\u001b[0;34m\u001b[0m\u001b[0;34m\u001b[0m\u001b[0m\n",
      "\u001b[0;31mJSONDecodeError\u001b[0m: Expecting property name enclosed in double quotes: line 1 column 2 (char 1)"
     ]
    }
   ],
   "source": [
    "# Saving the API key I have for accessing TMDB for quick access.\n",
    "with open('/Users/stlanier/.secret/tmdb_api.json') as f: \n",
    "    api_key = json.load(f)['api_key']"
   ]
  },
  {
   "cell_type": "code",
   "execution_count": 38,
   "metadata": {},
   "outputs": [],
   "source": [
    "def get_keywords(imdb_ids, api_key):\n",
    "    '''\n",
    "    Given a list of movie IMDB-IDs and an api_key, returns a list of associated keywords from The Movie Database.\n",
    "    \n",
    "        Parameters:\n",
    "            imdb_ids (list): A list of IMDB-IDs as strings for all the movies you want keywords for.\n",
    "            api_key (str): Your API key for accessing The Movie Database's API.\n",
    "        \n",
    "        Returns:\n",
    "            keywords (list): a list of all keywords (str) associated with all movies in imdb_ids.\n",
    "    \n",
    "    '''\n",
    "    tmdb_ids = []\n",
    "    keywords = []\n",
    "    \n",
    "    # First get a list of TMDB's internal IDs for all the movies in imdb_ids.\n",
    "    for imdb_id in imdb_ids:\n",
    "        url_for_find = 'https://api.themoviedb.org/3/find/{}?api_key={}&language=en-US&external_source=imdb_id'.format(imdb_id, api_key)\n",
    "        response = requests.get(url_for_find).json()\n",
    "        if response['movie_results']:\n",
    "            tmdb_ids.append(response['movie_results'][0]['id'])\n",
    "    \n",
    "    # Next get the keywords for each movie.\n",
    "    for tmdb_id in tmdb_ids:\n",
    "        url_for_keywords = 'https://api.themoviedb.org/3/movie/{}/keywords?api_key={}'.format(tmdb_id, api_key)\n",
    "        response = requests.get(url_for_keywords).json()\n",
    "        if response:\n",
    "            for keyword in response['keywords']:\n",
    "                keywords.append(keyword['name'])\n",
    "    return keywords"
   ]
  },
  {
   "cell_type": "code",
   "execution_count": 39,
   "metadata": {},
   "outputs": [
    {
     "ename": "NameError",
     "evalue": "name 'api_key' is not defined",
     "output_type": "error",
     "traceback": [
      "\u001b[0;31m---------------------------------------------------------------------------\u001b[0m",
      "\u001b[0;31mNameError\u001b[0m                                 Traceback (most recent call last)",
      "\u001b[0;32m<ipython-input-39-146353522a59>\u001b[0m in \u001b[0;36m<module>\u001b[0;34m\u001b[0m\n\u001b[0;32m----> 1\u001b[0;31m \u001b[0mtop_keywords\u001b[0m \u001b[0;34m=\u001b[0m \u001b[0mget_keywords\u001b[0m\u001b[0;34m(\u001b[0m\u001b[0mlist\u001b[0m\u001b[0;34m(\u001b[0m\u001b[0mquant_75_net_profit\u001b[0m\u001b[0;34m[\u001b[0m\u001b[0;34m'tconst'\u001b[0m\u001b[0;34m]\u001b[0m\u001b[0;34m)\u001b[0m\u001b[0;34m,\u001b[0m \u001b[0mapi_key\u001b[0m\u001b[0;34m)\u001b[0m\u001b[0;34m\u001b[0m\u001b[0;34m\u001b[0m\u001b[0m\n\u001b[0m",
      "\u001b[0;31mNameError\u001b[0m: name 'api_key' is not defined"
     ]
    }
   ],
   "source": [
    "top_keywords = get_keywords(list(quant_75_net_profit['tconst']), api_key)"
   ]
  },
  {
   "cell_type": "code",
   "execution_count": 40,
   "metadata": {},
   "outputs": [
    {
     "ename": "NameError",
     "evalue": "name 'api_key' is not defined",
     "output_type": "error",
     "traceback": [
      "\u001b[0;31m---------------------------------------------------------------------------\u001b[0m",
      "\u001b[0;31mNameError\u001b[0m                                 Traceback (most recent call last)",
      "\u001b[0;32m<ipython-input-40-4f053819f80e>\u001b[0m in \u001b[0;36m<module>\u001b[0;34m\u001b[0m\n\u001b[0;32m----> 1\u001b[0;31m \u001b[0mbottom_keywords\u001b[0m \u001b[0;34m=\u001b[0m \u001b[0mget_keywords\u001b[0m\u001b[0;34m(\u001b[0m\u001b[0mlist\u001b[0m\u001b[0;34m(\u001b[0m\u001b[0mquant_25_net_profit\u001b[0m\u001b[0;34m[\u001b[0m\u001b[0;34m'tconst'\u001b[0m\u001b[0;34m]\u001b[0m\u001b[0;34m)\u001b[0m\u001b[0;34m,\u001b[0m \u001b[0mapi_key\u001b[0m\u001b[0;34m)\u001b[0m\u001b[0;34m\u001b[0m\u001b[0;34m\u001b[0m\u001b[0m\n\u001b[0m",
      "\u001b[0;31mNameError\u001b[0m: name 'api_key' is not defined"
     ]
    }
   ],
   "source": [
    "bottom_keywords = get_keywords(list(quant_25_net_profit['tconst']), api_key)"
   ]
  },
  {
   "cell_type": "code",
   "execution_count": null,
   "metadata": {},
   "outputs": [],
   "source": [
    "all_keywords = get_keywords(list(df.loc[df.world_net_profit.notna()]['tconst']), api_key)"
   ]
  },
  {
   "cell_type": "code",
   "execution_count": null,
   "metadata": {},
   "outputs": [],
   "source": [
    "print('Keywords in top 25% net profit films: ' + str(len(top_keywords)))\n",
    "print('Keywords in bottom 25% net profit films: ' + str(len(bottom_keywords)))\n",
    "print('Keywords in all films: ' + str(len(all_keywords)))"
   ]
  },
  {
   "cell_type": "markdown",
   "metadata": {},
   "source": [
    "This is a much more robust set of data. Onward!"
   ]
  },
  {
   "cell_type": "code",
   "execution_count": null,
   "metadata": {
    "scrolled": false
   },
   "outputs": [],
   "source": [
    "# DataFrame of keywords and counts for all movies I have revenue data on.\n",
    "all_keywords = pd.Series(all_keywords)\n",
    "all_keywords_df = pd.DataFrame(all_keywords.unique(), columns=['keyword'])\n",
    "all_keywords_df = all_keywords_df.set_index('keyword').join(pd.DataFrame(all_keywords.value_counts()))\n",
    "all_keywords_df.reset_index(inplace=True)\n",
    "all_keywords_df.columns = ['keyword', 'count']\n",
    "all_keywords_df.sort_values(by=['count'], ascending=False, inplace=True)\n",
    "all_keywords_df.set_index('keyword', inplace=True)\n",
    "all_keywords_df.drop(['duringcreditsstinger', 'aftercreditsstinger'], axis=0, inplace=True)\n",
    "\n",
    "# Just keywords and counts for the top 25% net profit films.\n",
    "top_keywords = pd.Series(top_keywords)\n",
    "top_keywords_df = pd.DataFrame(top_keywords.unique(), columns=['keyword'])\n",
    "top_keywords_df = top_keywords_df.set_index('keyword').join(pd.DataFrame(top_keywords.value_counts()))\n",
    "top_keywords_df.reset_index(inplace=True)\n",
    "top_keywords_df.columns = ['keyword', 'top_count']\n",
    "top_keywords_df.sort_values(by=['top_count'], ascending=False, inplace=True)\n",
    "top_keywords_df.set_index('keyword', inplace=True)\n",
    "top_keywords_df.drop(['duringcreditsstinger', 'aftercreditsstinger'], axis=0, inplace=True)\n",
    "\n",
    "# Just keywords and counts for the bottom 25% net profit films.\n",
    "bottom_keywords = pd.Series(bottom_keywords)\n",
    "bottom_keywords_df = pd.DataFrame(bottom_keywords.unique(), columns=['keyword'])\n",
    "bottom_keywords_df = bottom_keywords_df.set_index('keyword').join(pd.DataFrame(bottom_keywords.value_counts()))\n",
    "bottom_keywords_df.reset_index(inplace=True)\n",
    "bottom_keywords_df.columns = ['keyword', 'bottom_count']\n",
    "bottom_keywords_df.sort_values(by=['bottom_count'], ascending=False, inplace=True)\n",
    "bottom_keywords_df.set_index('keyword', inplace=True)\n",
    "bottom_keywords_df.drop(['duringcreditsstinger', 'aftercreditsstinger'], axis=0, inplace=True)\n",
    "\n",
    "# Join all 3 DataFrames, producing a keyword, count, \n",
    "# top_count (count in top 25% net profit), and bottom_count (count in bottom 25% net profit)\n",
    "all_keywords_df = all_keywords_df.join(top_keywords_df)\n",
    "all_keywords_df = all_keywords_df.join(bottom_keywords_df)\n",
    "all_keywords_df.fillna(0, inplace=True)\n",
    "# 2 new features that calculate 1) the fraction of a keywords appearances in top 25% net profit films\n",
    "# and 2) the fraction of a keywords appearances in bottom 25% net profit films.\n",
    "all_keywords_df['top_relative_frequency'] = all_keywords_df['top_count']/all_keywords_df['count']\n",
    "all_keywords_df['bottom_relative_frequency'] = all_keywords_df['bottom_count']/all_keywords_df['count']\n",
    "\n",
    "fig, axes = plt.subplots(1,2, figsize=(15,8))\n",
    "all_keywords_df.reset_index(inplace=True)\n",
    "# First I select the keywords that have the highest fractional appearances in top 25% net profit films\n",
    "# (e.g., of all this keyword's appearances, 50% of them are in high net profit films),\n",
    "# and then I plot the frequency (in top netting films) of the 10 most common of those keywords.\n",
    "all_keywords_df.loc[all_keywords_df.top_relative_frequency \n",
    "                    >= all_keywords_df.top_relative_frequency.quantile(.75)].\\\n",
    "                    sort_values(by=['top_count', 'top_relative_frequency'], ascending=False).iloc[:10, :].\\\n",
    "                    plot.bar(x='keyword', y='top_count', \n",
    "                             title='Most Common of Highly Indicative Keywords\\nin Top 25% Net Profit Films', \n",
    "                             ax=axes[0], legend=False)\n",
    "all_keywords_df.loc[all_keywords_df.bottom_relative_frequency \n",
    "                    >= all_keywords_df.bottom_relative_frequency.quantile(.75)].\\\n",
    "                    sort_values(by=['bottom_count', 'bottom_relative_frequency'], ascending=False).iloc[:10, :].\\\n",
    "                    plot.bar(x='keyword', y='bottom_count', \n",
    "                             title='Most Common of Highly Indicative Keywords\\nin Bottom 25% Net Profit Films', \n",
    "                             ax=axes[1], legend=False)\n",
    "axes[0].set_ylabel('Frequency Within Top 25% Net Profit Films')\n",
    "axes[0].set_xlabel('')\n",
    "axes[1].set_ylabel('Frequency Within Bottom 25% Net Profit Films')\n",
    "axes[1].set_xlabel('')"
   ]
  },
  {
   "cell_type": "markdown",
   "metadata": {},
   "source": [
    "### A final question: what do keyword trends reveal about high net profit films?\n",
    "Of the keywords I gathered, first I selected **highly indicative keywords** for each group. These keywords, when they appeared, were indicative of a high or a low net profitting film, depending, 75% of the time or better. Next, I picked *the most frequently occuring (most common)* of these keywords and plotted the frequency of each (in high or low net profit films, depending), and plotted the top 10 for each group above. An example for clarity: When the keyword '3d' is attached to a movie, at least 75% of the time that movie is in the top 25% for net profit. It's also the most common of such highly indicative keywords, appearing in high net profit films some 60+ times. Comparing the two sets of keywords above, many qualitative conclusions can be drawn, but what jumps out at me is that **high profit films tend to offer a 3D and/or IMAX viewing option, they tend to be classic Good vs Evil plots, and superhero and superpower movies are doing particularly well** (or Marvel is doing a great job claiming that as their signature keyword). On the other end of the spectrum, **noir/neo-noir themes, revenge and rescue plots, and lawyer/detective (drama?) elements seem to be more common among low profit films**. \n",
    "\n",
    "## Conclusions\n",
    "Microsoft is a big company, so they stand to gain more net proft by investing big and aiming for **high net profit** over a high ROI. Towards that goal, I hypothesize that they can increase their chances of producing a successful film by focusing on features that are common among other highly successful features. \n",
    "- Some genres have a higher chance than others at producing high net profit films. Genres with some of the highest proportion of high net profit films were **action, adventure, animation, fantasy, and sci-fi**.\n",
    "- Chosen at random, a director has a 25% chance of producing a high net profit film, defined in this analysis as film with net profit in the top 25% of all movies analyzed. **By choosing a director with at least two other high net profit film to his or her name, those chances increase to 38%**.\n",
    "- Lastly, keywords (chosen by the producers of the movie) were examined for high and low net profit films, and a unique set of highly indicative keywords was associated with each group. When these keywords were associated with a movie, 75% of the time or better, they indicated a high net profit or a low net profit film, respectively. Some of the most common of the highly indicative keywords for high net profit films included **3D and IMAX, superheroes, and good vs. evil**. Highly indicative keywords for low net profit films included revenge, rescue, lawyer, detective, Paris, and neo-noir.\n",
    "\n",
    "## Future Work\n",
    "Below is a plot of net profit against production budget. There appears to be a moderately positive association between the two features, suggesting that, as a general rule, more investment in a movie turns out a higher net profit. In the future I'd like to use **linear regression** to make a model for predicting, based on the amount of money Microsoft wants to invest in a film, the net profit they can reasonably expect."
   ]
  },
  {
   "cell_type": "code",
   "execution_count": null,
   "metadata": {},
   "outputs": [],
   "source": [
    "fig = df.plot(kind='scatter', x='production_budget', y='world_net_profit', title='Profit by Budget', figsize=(13,8))\n",
    "fig.set_xlabel('Production Budget')\n",
    "fig.set_ylabel('Net Profit Worldwide')\n",
    "# df.iplot(kind='scatter', x='production_budget', y='world_net_profit', legend='primary_title')"
   ]
  },
  {
   "cell_type": "code",
   "execution_count": null,
   "metadata": {},
   "outputs": [],
   "source": [
    "df.head()"
   ]
  }
 ],
 "metadata": {
  "kernelspec": {
   "display_name": "Python 3",
   "language": "python",
   "name": "python3"
  },
  "language_info": {
   "codemirror_mode": {
    "name": "ipython",
    "version": 3
   },
   "file_extension": ".py",
   "mimetype": "text/x-python",
   "name": "python",
   "nbconvert_exporter": "python",
   "pygments_lexer": "ipython3",
   "version": "3.8.5"
  }
 },
 "nbformat": 4,
 "nbformat_minor": 2
}
